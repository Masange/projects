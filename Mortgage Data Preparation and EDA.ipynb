{
 "cells": [
  {
   "cell_type": "markdown",
   "id": "750592b0",
   "metadata": {},
   "source": [
    "<font size=\"6\">**<center>Mortgage Data Preparation and EDA**</font>"
   ]
  },
  {
   "cell_type": "markdown",
   "id": "72f5b906",
   "metadata": {},
   "source": [
    "#  Change Log"
   ]
  },
  {
   "cell_type": "markdown",
   "id": "e83e85d5",
   "metadata": {},
   "source": [
    "Date 10/20/2023.\n",
    "1. Added change log.\n",
    "2. Added Milestone 3. Please see section 5.\n",
    "3. Added ethical assessment\n",
    "\n",
    "Date 11/5/2023.\n",
    "1. Added origination date variable to the flat file. Please see step 6 of section 4.3\n",
    "2. Added milestone 4. Please see Section 6.\n",
    "3. Updated the ethical assessment of the project. Please see section 9.\n",
    "\n",
    "Date 11/9/2023\n",
    "1. Added milestone 1.This was originally seperately submitted. Please see Section 3.\n",
    "2. Added Milestone 5. Please see section 7.\n",
    "3. Added Lessons Learned. Please see section 8.\n",
    "4. Added Final data printout. Please see section 10."
   ]
  },
  {
   "cell_type": "markdown",
   "id": "fca6323f",
   "metadata": {},
   "source": [
    "#  Libraries"
   ]
  },
  {
   "cell_type": "code",
   "execution_count": 1,
   "id": "5be94386",
   "metadata": {},
   "outputs": [],
   "source": [
    "# Importing the necessary libraries.\n",
    "import pandas as pd\n",
    "from datetime import datetime\n",
    "import requests\n",
    "from bs4 import BeautifulSoup as bs\n",
    "import warnings\n",
    "import json\n",
    "import fredapi as fa\n",
    "from datetime import date\n",
    "from dateutil.relativedelta import relativedelta\n",
    "from tqdm import tqdm # version 4.62.2\n",
    "tqdm.pandas(desc=\"% Complete!\") #  Register `pandas.progress apply with `tqdm`. This allows to track percentage completed.\n",
    "import sqlite3 as sq\n",
    "import matplotlib.pyplot as plt\n",
    "import seaborn as sns"
   ]
  },
  {
   "cell_type": "markdown",
   "id": "b168c4df",
   "metadata": {},
   "source": [
    "# Milestone 1 - Identify Datasets"
   ]
  },
  {
   "cell_type": "markdown",
   "id": "2500cfd6",
   "metadata": {},
   "source": [
    "## Introduction"
   ]
  },
  {
   "cell_type": "markdown",
   "id": "03504d04",
   "metadata": {},
   "source": [
    "<div style =\"text-align:justify\">The purpose of this project is to source, clean, format, and visualize a home loan (or mortgage) dataset as well as check if some variables have a relationship with the likelihood of a homeowner prepaying their loan.</div>"
   ]
  },
  {
   "cell_type": "markdown",
   "id": "3dd363f4",
   "metadata": {},
   "source": [
    "## Data Sources"
   ]
  },
  {
   "cell_type": "markdown",
   "id": "62ca6ce3",
   "metadata": {},
   "source": [
    "<div style =\"text-align:justify\">To achieve the purpose of this project, data will be extracted from the following three sources:</br>\n",
    "\n",
    "1. Microsoft Excel flat file – This is Freddie Mac's Single-Family Loan-Level data set, which contains 27 columns and 500,137 rows. It has a binary variable that indicates whether the loan was prepaid or not. Additionally, it has other loan-level attributes such as origination term, maturity date, credit score, property state, etc. The data set is stored at the following location:\n",
    "\n",
    "   https://s3.amazonaws.com/data.h2o.ai/DAI-Tutorials/loan_level_500k.csv\n",
    "   </br>\n",
    "\n",
    "2. The FRED® API – This is an Application Programming Interface (API) that allows users to retrieve economic data from the FRED® website. In this project, this API will be used to pull macroeconomic variables that can potentially drive mortgage prepayment risk such as US unemployment rates, Home Price Index and Inflation rates. General documentation of the FRED® API can be found on the following link: \n",
    "\n",
    "   https://fred.stlouisfed.org/docs/api/fred/\n",
    "   </br>\n",
    "\n",
    "3. Website – The following website has a table which consists of tax dollars by state:\n",
    "\n",
    "   https://money.cnn.com/pf/features/lists/total_taxes/total.html\n",
    "   </br>\n",
    "\n",
    "The table will be scrapped from the website to extract the rankings of the state based on the amount of taxes paid by residents. This will be used to visualize whether state taxes are associated with the likelihood of a homeowner prepaying their loan.</div>"
   ]
  },
  {
   "cell_type": "markdown",
   "id": "7bfea919",
   "metadata": {},
   "source": [
    "## Relationships"
   ]
  },
  {
   "cell_type": "markdown",
   "id": "833424cc",
   "metadata": {},
   "source": [
    "<div style =\"text-align:justify\">\n",
    "The Microsoft Excel flat file and data from the website are related in that they have one attribute “State” as a common key. Thus, they can be merged using the “State” variable as a common key. However, this combined dataset would not have a relationship with data from the FRED® API. To create that relationship, the origination date variable will be created in the Microsoft Excel flat file by subtracting the term of the loan (in months) from the maturity date. The range of the resultant origination dates in the flat file will then be used as the date range to pull macroeconomic variables from the FRED® API. Thus, macroeconomic data pulled from the API will characterize the economic environment at the time the loan was originated.</br>   \n",
    "\n",
    "In short, the flat file will be merged with website data on the “State” variable, and this combined data will be merged with the FRED® API data on the origination date variable that will be created in the flat file.\n",
    "</div>\n"
   ]
  },
  {
   "cell_type": "markdown",
   "id": "8d37d95e",
   "metadata": {},
   "source": [
    "## Project Approach"
   ]
  },
  {
   "cell_type": "markdown",
   "id": "c57cf3d6",
   "metadata": {},
   "source": [
    "<div style =\"text-align:justify\">\n",
    "The combined data from all three sources characterizes Mortgages that were prepaid under varying economic conditions and state tax levels. Through Python data visualization techniques and descriptive statistics learned in the Data Preparation Class, this project will attempt to analyze key drivers of Mortgage repayment risk. Is Mortgage prepayment risk primarily driven by loan level attributes such as Credit Score and Loan-to-value? Or is it driven by a combination of loan-level attributes and economic conditions or state tax levels? These and other questions will be answered in order to understand key drivers of mortgage prepayment risk. While not exhaustive, the following is a list of key Python packages that will be utilized in the project:</br>\n",
    "\n",
    "- Pandas – This will be used to load and manipulate the data.\n",
    "- Numpy – This will be used to perform mathematical operations if need be.\n",
    "- Matplotlib – This will be utilized to construct graphs as part of visualizations.\n",
    "</div>"
   ]
  },
  {
   "cell_type": "markdown",
   "id": "16bea640",
   "metadata": {},
   "source": [
    "## Anticipated Challenges"
   ]
  },
  {
   "cell_type": "markdown",
   "id": "2eaf36df",
   "metadata": {},
   "source": [
    "<div style =\"text-align:justify\">\n",
    "    \n",
    "- The data that will be scrapped from the website will not be in a ready–for–analysis form and it will need to be programmatically transformed before being merged with the flat file. \n",
    "- Values of some categorical variables do not have correct formats.  During data manipulation, these values will have to be correctly formatted after researching what the categorical variable means and what range of values they are able to take.\n",
    "\n",
    "The above two challenges will be time-consuming but necessary in accomplishing the objective of the project.\n",
    "</div>"
   ]
  },
  {
   "cell_type": "markdown",
   "id": "3dee3988",
   "metadata": {},
   "source": [
    "#  Milestone 2 - Cleaning/Formatting Flat File Source"
   ]
  },
  {
   "cell_type": "markdown",
   "id": "57da4de4",
   "metadata": {},
   "source": [
    "##  Loading the data"
   ]
  },
  {
   "cell_type": "code",
   "execution_count": 2,
   "id": "971a7867",
   "metadata": {},
   "outputs": [
    {
     "data": {
      "text/html": [
       "<div>\n",
       "<style scoped>\n",
       "    .dataframe tbody tr th:only-of-type {\n",
       "        vertical-align: middle;\n",
       "    }\n",
       "\n",
       "    .dataframe tbody tr th {\n",
       "        vertical-align: top;\n",
       "    }\n",
       "\n",
       "    .dataframe thead th {\n",
       "        text-align: right;\n",
       "    }\n",
       "</style>\n",
       "<table border=\"1\" class=\"dataframe\">\n",
       "  <thead>\n",
       "    <tr style=\"text-align: right;\">\n",
       "      <th></th>\n",
       "      <th>CREDIT_SCORE</th>\n",
       "      <th>FIRST_PAYMENT_DATE</th>\n",
       "      <th>FIRST_TIME_HOMEBUYER_FLAG</th>\n",
       "      <th>MATURITY_DATE</th>\n",
       "      <th>METROPOLITAN_STATISTICAL_AREA</th>\n",
       "      <th>MORTGAGE_INSURANCE_PERCENTAGE</th>\n",
       "      <th>NUMBER_OF_UNITS</th>\n",
       "      <th>OCCUPANCY_STATUS</th>\n",
       "      <th>ORIGINAL_COMBINED_LOAN_TO_VALUE</th>\n",
       "      <th>ORIGINAL_DEBT_TO_INCOME_RATIO</th>\n",
       "      <th>...</th>\n",
       "      <th>PROPERTY_TYPE</th>\n",
       "      <th>POSTAL_CODE</th>\n",
       "      <th>LOAN_SEQUENCE_NUMBER</th>\n",
       "      <th>LOAN_PURPOSE</th>\n",
       "      <th>ORIGINAL_LOAN_TERM</th>\n",
       "      <th>NUMBER_OF_BORROWERS</th>\n",
       "      <th>SELLER_NAME</th>\n",
       "      <th>SERVICER_NAME</th>\n",
       "      <th>PREPAID</th>\n",
       "      <th>DELINQUENT</th>\n",
       "    </tr>\n",
       "  </thead>\n",
       "  <tbody>\n",
       "    <tr>\n",
       "      <th>0</th>\n",
       "      <td>669.0</td>\n",
       "      <td>200206</td>\n",
       "      <td>N</td>\n",
       "      <td>202901</td>\n",
       "      <td>NaN</td>\n",
       "      <td>0.0</td>\n",
       "      <td>1.0</td>\n",
       "      <td>O</td>\n",
       "      <td>80.0</td>\n",
       "      <td>33.0</td>\n",
       "      <td>...</td>\n",
       "      <td>SF</td>\n",
       "      <td>26100.0</td>\n",
       "      <td>F199Q1000004</td>\n",
       "      <td>P</td>\n",
       "      <td>320</td>\n",
       "      <td>2.0</td>\n",
       "      <td>Other sellers</td>\n",
       "      <td>Other servicers</td>\n",
       "      <td>True</td>\n",
       "      <td>False</td>\n",
       "    </tr>\n",
       "    <tr>\n",
       "      <th>1</th>\n",
       "      <td>732.0</td>\n",
       "      <td>199904</td>\n",
       "      <td>N</td>\n",
       "      <td>202903</td>\n",
       "      <td>17140.0</td>\n",
       "      <td>0.0</td>\n",
       "      <td>1.0</td>\n",
       "      <td>O</td>\n",
       "      <td>25.0</td>\n",
       "      <td>10.0</td>\n",
       "      <td>...</td>\n",
       "      <td>SF</td>\n",
       "      <td>45200.0</td>\n",
       "      <td>F199Q1000005</td>\n",
       "      <td>N</td>\n",
       "      <td>360</td>\n",
       "      <td>1.0</td>\n",
       "      <td>Other sellers</td>\n",
       "      <td>Other servicers</td>\n",
       "      <td>True</td>\n",
       "      <td>False</td>\n",
       "    </tr>\n",
       "    <tr>\n",
       "      <th>2</th>\n",
       "      <td>679.0</td>\n",
       "      <td>200208</td>\n",
       "      <td>N</td>\n",
       "      <td>202902</td>\n",
       "      <td>15940.0</td>\n",
       "      <td>30.0</td>\n",
       "      <td>1.0</td>\n",
       "      <td>O</td>\n",
       "      <td>91.0</td>\n",
       "      <td>48.0</td>\n",
       "      <td>...</td>\n",
       "      <td>SF</td>\n",
       "      <td>44700.0</td>\n",
       "      <td>F199Q1000007</td>\n",
       "      <td>P</td>\n",
       "      <td>319</td>\n",
       "      <td>1.0</td>\n",
       "      <td>Other sellers</td>\n",
       "      <td>Other servicers</td>\n",
       "      <td>True</td>\n",
       "      <td>False</td>\n",
       "    </tr>\n",
       "    <tr>\n",
       "      <th>3</th>\n",
       "      <td>721.0</td>\n",
       "      <td>200209</td>\n",
       "      <td>N</td>\n",
       "      <td>202902</td>\n",
       "      <td>38060.0</td>\n",
       "      <td>0.0</td>\n",
       "      <td>1.0</td>\n",
       "      <td>O</td>\n",
       "      <td>39.0</td>\n",
       "      <td>13.0</td>\n",
       "      <td>...</td>\n",
       "      <td>SF</td>\n",
       "      <td>85200.0</td>\n",
       "      <td>F199Q1000013</td>\n",
       "      <td>N</td>\n",
       "      <td>318</td>\n",
       "      <td>2.0</td>\n",
       "      <td>Other sellers</td>\n",
       "      <td>Other servicers</td>\n",
       "      <td>True</td>\n",
       "      <td>False</td>\n",
       "    </tr>\n",
       "    <tr>\n",
       "      <th>4</th>\n",
       "      <td>618.0</td>\n",
       "      <td>200210</td>\n",
       "      <td>N</td>\n",
       "      <td>202902</td>\n",
       "      <td>10420.0</td>\n",
       "      <td>25.0</td>\n",
       "      <td>1.0</td>\n",
       "      <td>O</td>\n",
       "      <td>85.0</td>\n",
       "      <td>24.0</td>\n",
       "      <td>...</td>\n",
       "      <td>SF</td>\n",
       "      <td>44200.0</td>\n",
       "      <td>F199Q1000015</td>\n",
       "      <td>N</td>\n",
       "      <td>317</td>\n",
       "      <td>2.0</td>\n",
       "      <td>Other sellers</td>\n",
       "      <td>Other servicers</td>\n",
       "      <td>True</td>\n",
       "      <td>False</td>\n",
       "    </tr>\n",
       "    <tr>\n",
       "      <th>5</th>\n",
       "      <td>738.0</td>\n",
       "      <td>200211</td>\n",
       "      <td>N</td>\n",
       "      <td>202903</td>\n",
       "      <td>10420.0</td>\n",
       "      <td>0.0</td>\n",
       "      <td>1.0</td>\n",
       "      <td>O</td>\n",
       "      <td>73.0</td>\n",
       "      <td>44.0</td>\n",
       "      <td>...</td>\n",
       "      <td>SF</td>\n",
       "      <td>44300.0</td>\n",
       "      <td>F199Q1000016</td>\n",
       "      <td>P</td>\n",
       "      <td>317</td>\n",
       "      <td>2.0</td>\n",
       "      <td>Other sellers</td>\n",
       "      <td>Other servicers</td>\n",
       "      <td>True</td>\n",
       "      <td>False</td>\n",
       "    </tr>\n",
       "    <tr>\n",
       "      <th>6</th>\n",
       "      <td>761.0</td>\n",
       "      <td>200211</td>\n",
       "      <td>N</td>\n",
       "      <td>202904</td>\n",
       "      <td>NaN</td>\n",
       "      <td>0.0</td>\n",
       "      <td>1.0</td>\n",
       "      <td>O</td>\n",
       "      <td>73.0</td>\n",
       "      <td>31.0</td>\n",
       "      <td>...</td>\n",
       "      <td>PU</td>\n",
       "      <td>29500.0</td>\n",
       "      <td>F199Q1000017</td>\n",
       "      <td>P</td>\n",
       "      <td>318</td>\n",
       "      <td>2.0</td>\n",
       "      <td>Other sellers</td>\n",
       "      <td>Other servicers</td>\n",
       "      <td>True</td>\n",
       "      <td>False</td>\n",
       "    </tr>\n",
       "    <tr>\n",
       "      <th>7</th>\n",
       "      <td>707.0</td>\n",
       "      <td>200211</td>\n",
       "      <td>N</td>\n",
       "      <td>202903</td>\n",
       "      <td>33340.0</td>\n",
       "      <td>0.0</td>\n",
       "      <td>1.0</td>\n",
       "      <td>O</td>\n",
       "      <td>60.0</td>\n",
       "      <td>57.0</td>\n",
       "      <td>...</td>\n",
       "      <td>SF</td>\n",
       "      <td>53000.0</td>\n",
       "      <td>F199Q1000018</td>\n",
       "      <td>C</td>\n",
       "      <td>317</td>\n",
       "      <td>2.0</td>\n",
       "      <td>Other sellers</td>\n",
       "      <td>Other servicers</td>\n",
       "      <td>True</td>\n",
       "      <td>False</td>\n",
       "    </tr>\n",
       "    <tr>\n",
       "      <th>8</th>\n",
       "      <td>760.0</td>\n",
       "      <td>200211</td>\n",
       "      <td>N</td>\n",
       "      <td>202903</td>\n",
       "      <td>33340.0</td>\n",
       "      <td>0.0</td>\n",
       "      <td>1.0</td>\n",
       "      <td>O</td>\n",
       "      <td>63.0</td>\n",
       "      <td>30.0</td>\n",
       "      <td>...</td>\n",
       "      <td>SF</td>\n",
       "      <td>53000.0</td>\n",
       "      <td>F199Q1000019</td>\n",
       "      <td>N</td>\n",
       "      <td>317</td>\n",
       "      <td>2.0</td>\n",
       "      <td>Other sellers</td>\n",
       "      <td>Other servicers</td>\n",
       "      <td>True</td>\n",
       "      <td>False</td>\n",
       "    </tr>\n",
       "    <tr>\n",
       "      <th>9</th>\n",
       "      <td>691.0</td>\n",
       "      <td>200302</td>\n",
       "      <td>N</td>\n",
       "      <td>202901</td>\n",
       "      <td>15940.0</td>\n",
       "      <td>0.0</td>\n",
       "      <td>1.0</td>\n",
       "      <td>O</td>\n",
       "      <td>65.0</td>\n",
       "      <td>25.0</td>\n",
       "      <td>...</td>\n",
       "      <td>SF</td>\n",
       "      <td>44700.0</td>\n",
       "      <td>F199Q1000023</td>\n",
       "      <td>P</td>\n",
       "      <td>312</td>\n",
       "      <td>2.0</td>\n",
       "      <td>Other sellers</td>\n",
       "      <td>Other servicers</td>\n",
       "      <td>True</td>\n",
       "      <td>False</td>\n",
       "    </tr>\n",
       "  </tbody>\n",
       "</table>\n",
       "<p>10 rows × 27 columns</p>\n",
       "</div>"
      ],
      "text/plain": [
       "   CREDIT_SCORE  FIRST_PAYMENT_DATE FIRST_TIME_HOMEBUYER_FLAG  MATURITY_DATE  \\\n",
       "0         669.0              200206                         N         202901   \n",
       "1         732.0              199904                         N         202903   \n",
       "2         679.0              200208                         N         202902   \n",
       "3         721.0              200209                         N         202902   \n",
       "4         618.0              200210                         N         202902   \n",
       "5         738.0              200211                         N         202903   \n",
       "6         761.0              200211                         N         202904   \n",
       "7         707.0              200211                         N         202903   \n",
       "8         760.0              200211                         N         202903   \n",
       "9         691.0              200302                         N         202901   \n",
       "\n",
       "   METROPOLITAN_STATISTICAL_AREA  MORTGAGE_INSURANCE_PERCENTAGE  \\\n",
       "0                            NaN                            0.0   \n",
       "1                        17140.0                            0.0   \n",
       "2                        15940.0                           30.0   \n",
       "3                        38060.0                            0.0   \n",
       "4                        10420.0                           25.0   \n",
       "5                        10420.0                            0.0   \n",
       "6                            NaN                            0.0   \n",
       "7                        33340.0                            0.0   \n",
       "8                        33340.0                            0.0   \n",
       "9                        15940.0                            0.0   \n",
       "\n",
       "   NUMBER_OF_UNITS OCCUPANCY_STATUS  ORIGINAL_COMBINED_LOAN_TO_VALUE  \\\n",
       "0              1.0                O                             80.0   \n",
       "1              1.0                O                             25.0   \n",
       "2              1.0                O                             91.0   \n",
       "3              1.0                O                             39.0   \n",
       "4              1.0                O                             85.0   \n",
       "5              1.0                O                             73.0   \n",
       "6              1.0                O                             73.0   \n",
       "7              1.0                O                             60.0   \n",
       "8              1.0                O                             63.0   \n",
       "9              1.0                O                             65.0   \n",
       "\n",
       "   ORIGINAL_DEBT_TO_INCOME_RATIO  ...  PROPERTY_TYPE  POSTAL_CODE  \\\n",
       "0                           33.0  ...             SF      26100.0   \n",
       "1                           10.0  ...             SF      45200.0   \n",
       "2                           48.0  ...             SF      44700.0   \n",
       "3                           13.0  ...             SF      85200.0   \n",
       "4                           24.0  ...             SF      44200.0   \n",
       "5                           44.0  ...             SF      44300.0   \n",
       "6                           31.0  ...             PU      29500.0   \n",
       "7                           57.0  ...             SF      53000.0   \n",
       "8                           30.0  ...             SF      53000.0   \n",
       "9                           25.0  ...             SF      44700.0   \n",
       "\n",
       "   LOAN_SEQUENCE_NUMBER LOAN_PURPOSE ORIGINAL_LOAN_TERM NUMBER_OF_BORROWERS  \\\n",
       "0          F199Q1000004            P                320                 2.0   \n",
       "1          F199Q1000005            N                360                 1.0   \n",
       "2          F199Q1000007            P                319                 1.0   \n",
       "3          F199Q1000013            N                318                 2.0   \n",
       "4          F199Q1000015            N                317                 2.0   \n",
       "5          F199Q1000016            P                317                 2.0   \n",
       "6          F199Q1000017            P                318                 2.0   \n",
       "7          F199Q1000018            C                317                 2.0   \n",
       "8          F199Q1000019            N                317                 2.0   \n",
       "9          F199Q1000023            P                312                 2.0   \n",
       "\n",
       "     SELLER_NAME    SERVICER_NAME  PREPAID DELINQUENT  \n",
       "0  Other sellers  Other servicers     True      False  \n",
       "1  Other sellers  Other servicers     True      False  \n",
       "2  Other sellers  Other servicers     True      False  \n",
       "3  Other sellers  Other servicers     True      False  \n",
       "4  Other sellers  Other servicers     True      False  \n",
       "5  Other sellers  Other servicers     True      False  \n",
       "6  Other sellers  Other servicers     True      False  \n",
       "7  Other sellers  Other servicers     True      False  \n",
       "8  Other sellers  Other servicers     True      False  \n",
       "9  Other sellers  Other servicers     True      False  \n",
       "\n",
       "[10 rows x 27 columns]"
      ]
     },
     "execution_count": 2,
     "metadata": {},
     "output_type": "execute_result"
    }
   ],
   "source": [
    "#Loading the data\n",
    "mortgage_df =pd.read_csv('https://s3.amazonaws.com/data.h2o.ai/DAI-Tutorials/loan_level_500k.csv')\n",
    "\n",
    "#Checking if data has loaded successfully by looking at the first 10 rows.\n",
    "mortgage_df.head(10)"
   ]
  },
  {
   "cell_type": "markdown",
   "id": "17be0f38",
   "metadata": {},
   "source": [
    "The data has loaded successfully based on the first 10 rows."
   ]
  },
  {
   "cell_type": "markdown",
   "id": "1ec62ae3",
   "metadata": {},
   "source": [
    "##  Data Validation"
   ]
  },
  {
   "cell_type": "code",
   "execution_count": 3,
   "id": "0aeffce2",
   "metadata": {},
   "outputs": [
    {
     "name": "stdout",
     "output_type": "stream",
     "text": [
      "<class 'pandas.core.frame.DataFrame'>\n",
      "RangeIndex: 500137 entries, 0 to 500136\n",
      "Data columns (total 27 columns):\n",
      " #   Column                            Non-Null Count   Dtype  \n",
      "---  ------                            --------------   -----  \n",
      " 0   CREDIT_SCORE                      497426 non-null  float64\n",
      " 1   FIRST_PAYMENT_DATE                500137 non-null  int64  \n",
      " 2   FIRST_TIME_HOMEBUYER_FLAG         369578 non-null  object \n",
      " 3   MATURITY_DATE                     500137 non-null  int64  \n",
      " 4   METROPOLITAN_STATISTICAL_AREA     429988 non-null  float64\n",
      " 5   MORTGAGE_INSURANCE_PERCENTAGE     449089 non-null  float64\n",
      " 6   NUMBER_OF_UNITS                   500134 non-null  float64\n",
      " 7   OCCUPANCY_STATUS                  500137 non-null  object \n",
      " 8   ORIGINAL_COMBINED_LOAN_TO_VALUE   500124 non-null  float64\n",
      " 9   ORIGINAL_DEBT_TO_INCOME_RATIO     485208 non-null  float64\n",
      " 10  ORIGINAL_UPB                      500137 non-null  int64  \n",
      " 11  ORIGINAL_LOAN_TO_VALUE            500128 non-null  float64\n",
      " 12  ORIGINAL_INTEREST_RATE            500137 non-null  float64\n",
      " 13  CHANNEL                           500137 non-null  object \n",
      " 14  PREPAYMENT_PENALTY_MORTGAGE_FLAG  494959 non-null  object \n",
      " 15  PRODUCT_TYPE                      500137 non-null  object \n",
      " 16  PROPERTY_STATE                    500137 non-null  object \n",
      " 17  PROPERTY_TYPE                     500042 non-null  object \n",
      " 18  POSTAL_CODE                       500106 non-null  float64\n",
      " 19  LOAN_SEQUENCE_NUMBER              500137 non-null  object \n",
      " 20  LOAN_PURPOSE                      500137 non-null  object \n",
      " 21  ORIGINAL_LOAN_TERM                500137 non-null  int64  \n",
      " 22  NUMBER_OF_BORROWERS               499890 non-null  float64\n",
      " 23  SELLER_NAME                       500137 non-null  object \n",
      " 24  SERVICER_NAME                     500137 non-null  object \n",
      " 25  PREPAID                           500137 non-null  bool   \n",
      " 26  DELINQUENT                        500137 non-null  bool   \n",
      "dtypes: bool(2), float64(10), int64(4), object(11)\n",
      "memory usage: 96.3+ MB\n"
     ]
    }
   ],
   "source": [
    "# Checking the dataframe information.\n",
    "mortgage_df.info()"
   ]
  },
  {
   "cell_type": "markdown",
   "id": "71c24b95",
   "metadata": {},
   "source": [
    "Based on the above output, the following was observations were made:\n",
    "1. The FIRST_PAYMENT_DATE and MATURITY_DATE variables have the 'int64' data type. This needs to be changed to datetime data type.\n",
    "\n",
    "2. The Non-Null count for the variables in the dataframe is different. This suggests that some observations may have missing values. Missing values will be checked and treated as appropriate.\n",
    "\n",
    "3. Since an analysis of mortgage prepayment drivers will be conducted, variables such as  METROPOLITAN_STATISTICAL_AREA,POSTAL_CODE, and LOAN_SEQUENCE_NUMBER may not add value to this analysis. These variables will be dropped."
   ]
  },
  {
   "cell_type": "code",
   "execution_count": 4,
   "id": "b1275314",
   "metadata": {},
   "outputs": [
    {
     "data": {
      "text/plain": [
       "CREDIT_SCORE                         0.542051\n",
       "FIRST_PAYMENT_DATE                   0.000000\n",
       "FIRST_TIME_HOMEBUYER_FLAG           26.104647\n",
       "MATURITY_DATE                        0.000000\n",
       "METROPOLITAN_STATISTICAL_AREA       14.025957\n",
       "MORTGAGE_INSURANCE_PERCENTAGE       10.206803\n",
       "NUMBER_OF_UNITS                      0.000600\n",
       "OCCUPANCY_STATUS                     0.000000\n",
       "ORIGINAL_COMBINED_LOAN_TO_VALUE      0.002599\n",
       "ORIGINAL_DEBT_TO_INCOME_RATIO        2.984982\n",
       "ORIGINAL_UPB                         0.000000\n",
       "ORIGINAL_LOAN_TO_VALUE               0.001800\n",
       "ORIGINAL_INTEREST_RATE               0.000000\n",
       "CHANNEL                              0.000000\n",
       "PREPAYMENT_PENALTY_MORTGAGE_FLAG     1.035316\n",
       "PRODUCT_TYPE                         0.000000\n",
       "PROPERTY_STATE                       0.000000\n",
       "PROPERTY_TYPE                        0.018995\n",
       "POSTAL_CODE                          0.006198\n",
       "LOAN_SEQUENCE_NUMBER                 0.000000\n",
       "LOAN_PURPOSE                         0.000000\n",
       "ORIGINAL_LOAN_TERM                   0.000000\n",
       "NUMBER_OF_BORROWERS                  0.049386\n",
       "SELLER_NAME                          0.000000\n",
       "SERVICER_NAME                        0.000000\n",
       "PREPAID                              0.000000\n",
       "DELINQUENT                           0.000000\n",
       "dtype: float64"
      ]
     },
     "execution_count": 4,
     "metadata": {},
     "output_type": "execute_result"
    }
   ],
   "source": [
    "#Checking missing values.\n",
    "len(mortgage_df)\n",
    "missing_values = mortgage_df.isnull().sum()\n",
    "missng_value_percentage = (missing_values/len(mortgage_df))*100\n",
    "missng_value_percentage"
   ]
  },
  {
   "cell_type": "markdown",
   "id": "b808e770",
   "metadata": {},
   "source": [
    "For this project, missing values will be dropped if they only account for less than 5% of the observations for these variables:  NUMBER_OF_BORROWERS, PROPERTY_TYPE, PREPAYMENT_PENALTY_MORTGAGE_FLAG and NUMBER_OF_UNITS.Imputated values for these variables may be far from being true.\n",
    "\n",
    "Additionally, missing values will be imputated if they account for less than 5% of the following variables:CREDIT_SCORE,ORIGINAL_COMBINED_LOAN_TO_VALUE, ORIGINAL_DEBT_TO_INCOME_RATIO and ORIGINAL_LOAN_TO_VALUE. \n",
    "\n",
    "Lastly, variables with missing values above 5% will be dropped. "
   ]
  },
  {
   "cell_type": "code",
   "execution_count": 5,
   "id": "ad83606b",
   "metadata": {},
   "outputs": [
    {
     "data": {
      "text/html": [
       "<div>\n",
       "<style scoped>\n",
       "    .dataframe tbody tr th:only-of-type {\n",
       "        vertical-align: middle;\n",
       "    }\n",
       "\n",
       "    .dataframe tbody tr th {\n",
       "        vertical-align: top;\n",
       "    }\n",
       "\n",
       "    .dataframe thead th {\n",
       "        text-align: right;\n",
       "    }\n",
       "</style>\n",
       "<table border=\"1\" class=\"dataframe\">\n",
       "  <thead>\n",
       "    <tr style=\"text-align: right;\">\n",
       "      <th></th>\n",
       "      <th>CREDIT_SCORE</th>\n",
       "      <th>FIRST_PAYMENT_DATE</th>\n",
       "      <th>FIRST_TIME_HOMEBUYER_FLAG</th>\n",
       "      <th>MATURITY_DATE</th>\n",
       "      <th>METROPOLITAN_STATISTICAL_AREA</th>\n",
       "      <th>MORTGAGE_INSURANCE_PERCENTAGE</th>\n",
       "      <th>NUMBER_OF_UNITS</th>\n",
       "      <th>OCCUPANCY_STATUS</th>\n",
       "      <th>ORIGINAL_COMBINED_LOAN_TO_VALUE</th>\n",
       "      <th>ORIGINAL_DEBT_TO_INCOME_RATIO</th>\n",
       "      <th>...</th>\n",
       "      <th>PROPERTY_TYPE</th>\n",
       "      <th>POSTAL_CODE</th>\n",
       "      <th>LOAN_SEQUENCE_NUMBER</th>\n",
       "      <th>LOAN_PURPOSE</th>\n",
       "      <th>ORIGINAL_LOAN_TERM</th>\n",
       "      <th>NUMBER_OF_BORROWERS</th>\n",
       "      <th>SELLER_NAME</th>\n",
       "      <th>SERVICER_NAME</th>\n",
       "      <th>PREPAID</th>\n",
       "      <th>DELINQUENT</th>\n",
       "    </tr>\n",
       "  </thead>\n",
       "  <tbody>\n",
       "  </tbody>\n",
       "</table>\n",
       "<p>0 rows × 27 columns</p>\n",
       "</div>"
      ],
      "text/plain": [
       "Empty DataFrame\n",
       "Columns: [CREDIT_SCORE, FIRST_PAYMENT_DATE, FIRST_TIME_HOMEBUYER_FLAG, MATURITY_DATE, METROPOLITAN_STATISTICAL_AREA, MORTGAGE_INSURANCE_PERCENTAGE, NUMBER_OF_UNITS, OCCUPANCY_STATUS, ORIGINAL_COMBINED_LOAN_TO_VALUE, ORIGINAL_DEBT_TO_INCOME_RATIO, ORIGINAL_UPB, ORIGINAL_LOAN_TO_VALUE, ORIGINAL_INTEREST_RATE, CHANNEL, PREPAYMENT_PENALTY_MORTGAGE_FLAG, PRODUCT_TYPE, PROPERTY_STATE, PROPERTY_TYPE, POSTAL_CODE, LOAN_SEQUENCE_NUMBER, LOAN_PURPOSE, ORIGINAL_LOAN_TERM, NUMBER_OF_BORROWERS, SELLER_NAME, SERVICER_NAME, PREPAID, DELINQUENT]\n",
       "Index: []\n",
       "\n",
       "[0 rows x 27 columns]"
      ]
     },
     "execution_count": 5,
     "metadata": {},
     "output_type": "execute_result"
    }
   ],
   "source": [
    "# Selecting duplicate rows except first. Occurrence based on all columns\n",
    "duplicate = mortgage_df[mortgage_df.duplicated()]\n",
    "duplicate "
   ]
  },
  {
   "cell_type": "markdown",
   "id": "24e8155d",
   "metadata": {},
   "source": [
    "There are no duplicate rows in the data set."
   ]
  },
  {
   "cell_type": "code",
   "execution_count": 6,
   "id": "9d73db8a",
   "metadata": {},
   "outputs": [
    {
     "data": {
      "text/html": [
       "<div>\n",
       "<style scoped>\n",
       "    .dataframe tbody tr th:only-of-type {\n",
       "        vertical-align: middle;\n",
       "    }\n",
       "\n",
       "    .dataframe tbody tr th {\n",
       "        vertical-align: top;\n",
       "    }\n",
       "\n",
       "    .dataframe thead th {\n",
       "        text-align: right;\n",
       "    }\n",
       "</style>\n",
       "<table border=\"1\" class=\"dataframe\">\n",
       "  <thead>\n",
       "    <tr style=\"text-align: right;\">\n",
       "      <th></th>\n",
       "      <th>CREDIT_SCORE</th>\n",
       "      <th>FIRST_PAYMENT_DATE</th>\n",
       "      <th>MATURITY_DATE</th>\n",
       "      <th>METROPOLITAN_STATISTICAL_AREA</th>\n",
       "      <th>MORTGAGE_INSURANCE_PERCENTAGE</th>\n",
       "      <th>NUMBER_OF_UNITS</th>\n",
       "      <th>ORIGINAL_COMBINED_LOAN_TO_VALUE</th>\n",
       "      <th>ORIGINAL_DEBT_TO_INCOME_RATIO</th>\n",
       "      <th>ORIGINAL_UPB</th>\n",
       "      <th>ORIGINAL_LOAN_TO_VALUE</th>\n",
       "      <th>ORIGINAL_INTEREST_RATE</th>\n",
       "      <th>POSTAL_CODE</th>\n",
       "      <th>ORIGINAL_LOAN_TERM</th>\n",
       "      <th>NUMBER_OF_BORROWERS</th>\n",
       "    </tr>\n",
       "  </thead>\n",
       "  <tbody>\n",
       "    <tr>\n",
       "      <th>min</th>\n",
       "      <td>300.0</td>\n",
       "      <td>199901.0</td>\n",
       "      <td>202402.0</td>\n",
       "      <td>10180.0</td>\n",
       "      <td>0.0</td>\n",
       "      <td>1.0</td>\n",
       "      <td>6.0</td>\n",
       "      <td>1.0</td>\n",
       "      <td>8000.0</td>\n",
       "      <td>6.0</td>\n",
       "      <td>4.625</td>\n",
       "      <td>600.0</td>\n",
       "      <td>301.0</td>\n",
       "      <td>1.0</td>\n",
       "    </tr>\n",
       "    <tr>\n",
       "      <th>max</th>\n",
       "      <td>839.0</td>\n",
       "      <td>201103.0</td>\n",
       "      <td>204101.0</td>\n",
       "      <td>49740.0</td>\n",
       "      <td>55.0</td>\n",
       "      <td>4.0</td>\n",
       "      <td>180.0</td>\n",
       "      <td>65.0</td>\n",
       "      <td>578000.0</td>\n",
       "      <td>100.0</td>\n",
       "      <td>11.500</td>\n",
       "      <td>99900.0</td>\n",
       "      <td>362.0</td>\n",
       "      <td>2.0</td>\n",
       "    </tr>\n",
       "  </tbody>\n",
       "</table>\n",
       "</div>"
      ],
      "text/plain": [
       "     CREDIT_SCORE  FIRST_PAYMENT_DATE  MATURITY_DATE  \\\n",
       "min         300.0            199901.0       202402.0   \n",
       "max         839.0            201103.0       204101.0   \n",
       "\n",
       "     METROPOLITAN_STATISTICAL_AREA  MORTGAGE_INSURANCE_PERCENTAGE  \\\n",
       "min                        10180.0                            0.0   \n",
       "max                        49740.0                           55.0   \n",
       "\n",
       "     NUMBER_OF_UNITS  ORIGINAL_COMBINED_LOAN_TO_VALUE  \\\n",
       "min              1.0                              6.0   \n",
       "max              4.0                            180.0   \n",
       "\n",
       "     ORIGINAL_DEBT_TO_INCOME_RATIO  ORIGINAL_UPB  ORIGINAL_LOAN_TO_VALUE  \\\n",
       "min                            1.0        8000.0                     6.0   \n",
       "max                           65.0      578000.0                   100.0   \n",
       "\n",
       "     ORIGINAL_INTEREST_RATE  POSTAL_CODE  ORIGINAL_LOAN_TERM  \\\n",
       "min                   4.625        600.0               301.0   \n",
       "max                  11.500      99900.0               362.0   \n",
       "\n",
       "     NUMBER_OF_BORROWERS  \n",
       "min                  1.0  \n",
       "max                  2.0  "
      ]
     },
     "execution_count": 6,
     "metadata": {},
     "output_type": "execute_result"
    }
   ],
   "source": [
    "# Validating data ranges\n",
    "mortgage_df.describe().loc[['min','max']]"
   ]
  },
  {
   "cell_type": "markdown",
   "id": "eb94714f",
   "metadata": {},
   "source": [
    "The range of  values in all variables appear to be good so far."
   ]
  },
  {
   "cell_type": "markdown",
   "id": "9d45424f",
   "metadata": {},
   "source": [
    "##  Data transformation and/or cleansing steps"
   ]
  },
  {
   "cell_type": "markdown",
   "id": "6f0e1d31",
   "metadata": {},
   "source": [
    "    Step 1 : Dropping Variables with more than 5 % of missing values."
   ]
  },
  {
   "cell_type": "code",
   "execution_count": 7,
   "id": "de2b9792",
   "metadata": {},
   "outputs": [],
   "source": [
    "# Dropping FIRST_TIME_HOMEBUYER_FLAG,METROPOLITAN_STATISTICAL_AREA, MORTGAGE_INSURANCE_PERCENTAGE \n",
    "small_mortgage_df = mortgage_df.drop(['FIRST_TIME_HOMEBUYER_FLAG', 'METROPOLITAN_STATISTICAL_AREA',\n",
    "                                     'MORTGAGE_INSURANCE_PERCENTAGE'], axis=1)"
   ]
  },
  {
   "cell_type": "code",
   "execution_count": 8,
   "id": "b8d412ab",
   "metadata": {},
   "outputs": [
    {
     "data": {
      "text/plain": [
       "24"
      ]
     },
     "execution_count": 8,
     "metadata": {},
     "output_type": "execute_result"
    }
   ],
   "source": [
    "# Checking shape after dropping variables.\n",
    "small_mortgage_df.shape[1]"
   ]
  },
  {
   "cell_type": "markdown",
   "id": "11b7ed3b",
   "metadata": {},
   "source": [
    "The number of columns has reduced from 27 to 24. The dropping was successful."
   ]
  },
  {
   "cell_type": "markdown",
   "id": "6bc1a5e5",
   "metadata": {},
   "source": [
    "    Step 2: Dropping variables which wouldn't add value in the analysis of drivers of mortgage prepayment."
   ]
  },
  {
   "cell_type": "code",
   "execution_count": 9,
   "id": "17842a66",
   "metadata": {},
   "outputs": [
    {
     "data": {
      "text/plain": [
       "22"
      ]
     },
     "execution_count": 9,
     "metadata": {},
     "output_type": "execute_result"
    }
   ],
   "source": [
    "# Dropping Postal code POSTAL_CODE, LOAN_SEQUENCE_NUMBER\n",
    "small_mortgage_df = small_mortgage_df.drop(['POSTAL_CODE','LOAN_SEQUENCE_NUMBER'],axis=1)\n",
    "small_mortgage_df.shape[1]"
   ]
  },
  {
   "cell_type": "markdown",
   "id": "269ee707",
   "metadata": {},
   "source": [
    "The number of columns has reduced from 24 to 22. The dropping was successful."
   ]
  },
  {
   "cell_type": "markdown",
   "id": "043e55a7",
   "metadata": {},
   "source": [
    "    Step 3 : Imputing missing values"
   ]
  },
  {
   "cell_type": "markdown",
   "id": "04c07475",
   "metadata": {},
   "source": [
    "The distribution of variables with missing values will be checked prior to imputation."
   ]
  },
  {
   "cell_type": "code",
   "execution_count": 10,
   "id": "ba7355ea",
   "metadata": {},
   "outputs": [
    {
     "data": {
      "text/plain": [
       "array([[<Axes: title={'center': 'CREDIT_SCORE'}>]], dtype=object)"
      ]
     },
     "execution_count": 10,
     "metadata": {},
     "output_type": "execute_result"
    },
    {
     "data": {
      "image/png": "[encoded data removed]",
      "text/plain": [
       "<Figure size 640x480 with 1 Axes>"
      ]
     },
     "metadata": {},
     "output_type": "display_data"
    }
   ],
   "source": [
    "# Histogram of credit score\n",
    "small_mortgage_df.hist('CREDIT_SCORE')"
   ]
  },
  {
   "cell_type": "markdown",
   "id": "2660f22a",
   "metadata": {},
   "source": [
    "Credit_score appears to be approximately normal. Thus, the mean will be used to impute missing values."
   ]
  },
  {
   "cell_type": "code",
   "execution_count": 11,
   "id": "a74fe363",
   "metadata": {},
   "outputs": [],
   "source": [
    "# Imputing missing credit score values.\n",
    "mean = round(small_mortgage_df['CREDIT_SCORE'].mean())\n",
    "small_mortgage_df['CREDIT_SCORE'].fillna(value=mean, inplace=True) "
   ]
  },
  {
   "cell_type": "code",
   "execution_count": 12,
   "id": "aa624e30",
   "metadata": {},
   "outputs": [
    {
     "data": {
      "text/plain": [
       "array([[<Axes: title={'center': 'ORIGINAL_DEBT_TO_INCOME_RATIO'}>]],\n",
       "      dtype=object)"
      ]
     },
     "execution_count": 12,
     "metadata": {},
     "output_type": "execute_result"
    },
    {
     "data": {
      "image/png": "[encoded data removed]",
      "text/plain": [
       "<Figure size 640x480 with 1 Axes>"
      ]
     },
     "metadata": {},
     "output_type": "display_data"
    }
   ],
   "source": [
    "# Histogram of ORIGINAL_DEBT_TO_INCOME_RATIO \n",
    "small_mortgage_df.hist('ORIGINAL_DEBT_TO_INCOME_RATIO')"
   ]
  },
  {
   "cell_type": "markdown",
   "id": "e1780ce5",
   "metadata": {},
   "source": [
    "The original_debt_to_income_ratio appears to be approximately normal. Thus, mean will be used to impute missing values."
   ]
  },
  {
   "cell_type": "code",
   "execution_count": 13,
   "id": "a462d53f",
   "metadata": {},
   "outputs": [
    {
     "data": {
      "text/plain": [
       "array([[<Axes: title={'center': 'ORIGINAL_LOAN_TO_VALUE'}>]], dtype=object)"
      ]
     },
     "execution_count": 13,
     "metadata": {},
     "output_type": "execute_result"
    },
    {
     "data": {
      "image/png": "[encoded data removed]",
      "text/plain": [
       "<Figure size 640x480 with 1 Axes>"
      ]
     },
     "metadata": {},
     "output_type": "display_data"
    }
   ],
   "source": [
    "# Histogram of ORIGINAL_LOAN_TO_VALUE \n",
    "small_mortgage_df.hist('ORIGINAL_LOAN_TO_VALUE')"
   ]
  },
  {
   "cell_type": "markdown",
   "id": "7ad0a65a",
   "metadata": {},
   "source": [
    "The distribution of ORIGINAL_LOAN_TO_VALUE is skewed. Thus, the median will be used to impute missing values."
   ]
  },
  {
   "cell_type": "code",
   "execution_count": 14,
   "id": "59893c01",
   "metadata": {},
   "outputs": [],
   "source": [
    "# Imputing missing values of the ORIGINAL_LOAN_TO_VALUE\n",
    "median = round(small_mortgage_df['ORIGINAL_LOAN_TO_VALUE'].median())\n",
    "small_mortgage_df['ORIGINAL_LOAN_TO_VALUE'].fillna(value=median, inplace=True)"
   ]
  },
  {
   "cell_type": "code",
   "execution_count": 15,
   "id": "77b07366",
   "metadata": {},
   "outputs": [
    {
     "data": {
      "text/plain": [
       "array([[<Axes: title={'center': 'ORIGINAL_COMBINED_LOAN_TO_VALUE'}>]],\n",
       "      dtype=object)"
      ]
     },
     "execution_count": 15,
     "metadata": {},
     "output_type": "execute_result"
    },
    {
     "data": {
      "image/png": "[encoded data removed]",
      "text/plain": [
       "<Figure size 640x480 with 1 Axes>"
      ]
     },
     "metadata": {},
     "output_type": "display_data"
    }
   ],
   "source": [
    "# Histogram of ORIGINAL_COMBINED_LOAN_TO_VALUE\n",
    "small_mortgage_df.hist('ORIGINAL_COMBINED_LOAN_TO_VALUE')"
   ]
  },
  {
   "cell_type": "markdown",
   "id": "b42d1b8c",
   "metadata": {},
   "source": [
    "The ORIGINAL_COMBINED_LOAN_TO_VALUE appeared to be skewed to the left. The median will be used to impute missing values."
   ]
  },
  {
   "cell_type": "code",
   "execution_count": 16,
   "id": "87af652a",
   "metadata": {},
   "outputs": [],
   "source": [
    "median_combined = round(small_mortgage_df['ORIGINAL_COMBINED_LOAN_TO_VALUE'].median())\n",
    "small_mortgage_df['ORIGINAL_COMBINED_LOAN_TO_VALUE'].fillna(value=median_combined, inplace=True)"
   ]
  },
  {
   "cell_type": "code",
   "execution_count": 17,
   "id": "4284f785",
   "metadata": {},
   "outputs": [
    {
     "data": {
      "text/plain": [
       "array([[<Axes: title={'center': 'ORIGINAL_DEBT_TO_INCOME_RATIO'}>]],\n",
       "      dtype=object)"
      ]
     },
     "execution_count": 17,
     "metadata": {},
     "output_type": "execute_result"
    },
    {
     "data": {
      "image/png": "[encoded data removed]",
      "text/plain": [
       "<Figure size 640x480 with 1 Axes>"
      ]
     },
     "metadata": {},
     "output_type": "display_data"
    }
   ],
   "source": [
    "# Histogram of  ORIGINAL_DEBT_TO_INCOME_RATIO\n",
    "small_mortgage_df.hist('ORIGINAL_DEBT_TO_INCOME_RATIO')"
   ]
  },
  {
   "cell_type": "markdown",
   "id": "ce79be06",
   "metadata": {},
   "source": [
    "The ORIGINAL_DEBT_TO_INCOME_RATIO is normally distributed and the mean will be used to impute the missing values."
   ]
  },
  {
   "cell_type": "code",
   "execution_count": 18,
   "id": "82e6d838",
   "metadata": {},
   "outputs": [],
   "source": [
    "# Imputing missing credit score values.\n",
    "mean = round(small_mortgage_df['ORIGINAL_DEBT_TO_INCOME_RATIO'].mean())\n",
    "small_mortgage_df['ORIGINAL_DEBT_TO_INCOME_RATIO'].fillna(value=mean, inplace=True)"
   ]
  },
  {
   "cell_type": "markdown",
   "id": "cb7bde3b",
   "metadata": {},
   "source": [
    "    Step 4 : Dropping rows for variables with less than 5% of missing values. "
   ]
  },
  {
   "cell_type": "markdown",
   "id": "1384d0eb",
   "metadata": {},
   "source": [
    "Dropping makes sense in the case of the variables below because the imputing may not really reflect what the actual value might have been."
   ]
  },
  {
   "cell_type": "code",
   "execution_count": 19,
   "id": "068aab0d",
   "metadata": {},
   "outputs": [],
   "source": [
    "# NUMBER_OF_UNITS\n",
    "small_mortgage_df = small_mortgage_df[small_mortgage_df['NUMBER_OF_UNITS'].notna()]"
   ]
  },
  {
   "cell_type": "code",
   "execution_count": 20,
   "id": "1d29bcb2",
   "metadata": {},
   "outputs": [],
   "source": [
    "# PROPERTY_TYPE\n",
    "small_mortgage_df = small_mortgage_df[small_mortgage_df['PROPERTY_TYPE'].notna()]"
   ]
  },
  {
   "cell_type": "code",
   "execution_count": 21,
   "id": "99821b4d",
   "metadata": {},
   "outputs": [],
   "source": [
    "# PREPAYMENT_PENALTY_MORTGAGE_FLAG\n",
    "small_mortgage_df = small_mortgage_df[small_mortgage_df['PREPAYMENT_PENALTY_MORTGAGE_FLAG'].notna()]"
   ]
  },
  {
   "cell_type": "code",
   "execution_count": 22,
   "id": "be30de35",
   "metadata": {},
   "outputs": [],
   "source": [
    "small_mortgage_df = small_mortgage_df[small_mortgage_df['NUMBER_OF_BORROWERS'].notna()]"
   ]
  },
  {
   "cell_type": "markdown",
   "id": "936a3b2f",
   "metadata": {},
   "source": [
    "    Step 5 : Converting date variables to datetime datatypes."
   ]
  },
  {
   "cell_type": "code",
   "execution_count": 23,
   "id": "4a025ba2",
   "metadata": {},
   "outputs": [
    {
     "name": "stderr",
     "output_type": "stream",
     "text": [
      "% Complete!: 100%|██████████| 494615/494615 [00:50<00:00, 9861.66it/s] \n"
     ]
    }
   ],
   "source": [
    "# FIRST_PAYMENT_DATE\n",
    "small_mortgage_df['FIRST_PAYMENT_DATE'] = small_mortgage_df['FIRST_PAYMENT_DATE'].progress_apply(lambda x: pd.to_datetime(str(x),format='%Y%m'))"
   ]
  },
  {
   "cell_type": "code",
   "execution_count": 24,
   "id": "2081b84f",
   "metadata": {},
   "outputs": [
    {
     "name": "stderr",
     "output_type": "stream",
     "text": [
      "% Complete!: 100%|██████████| 494615/494615 [00:51<00:00, 9653.03it/s] \n"
     ]
    }
   ],
   "source": [
    "# MATURITY_DATE \n",
    "small_mortgage_df['MATURITY_DATE'] = small_mortgage_df['MATURITY_DATE'].progress_apply(lambda x: pd.to_datetime(str(x),format='%Y%m'))"
   ]
  },
  {
   "cell_type": "code",
   "execution_count": 25,
   "id": "889b35f0",
   "metadata": {},
   "outputs": [
    {
     "data": {
      "text/html": [
       "<div>\n",
       "<style scoped>\n",
       "    .dataframe tbody tr th:only-of-type {\n",
       "        vertical-align: middle;\n",
       "    }\n",
       "\n",
       "    .dataframe tbody tr th {\n",
       "        vertical-align: top;\n",
       "    }\n",
       "\n",
       "    .dataframe thead th {\n",
       "        text-align: right;\n",
       "    }\n",
       "</style>\n",
       "<table border=\"1\" class=\"dataframe\">\n",
       "  <thead>\n",
       "    <tr style=\"text-align: right;\">\n",
       "      <th></th>\n",
       "      <th>CREDIT_SCORE</th>\n",
       "      <th>FIRST_PAYMENT_DATE</th>\n",
       "      <th>MATURITY_DATE</th>\n",
       "      <th>NUMBER_OF_UNITS</th>\n",
       "      <th>OCCUPANCY_STATUS</th>\n",
       "      <th>ORIGINAL_COMBINED_LOAN_TO_VALUE</th>\n",
       "      <th>ORIGINAL_DEBT_TO_INCOME_RATIO</th>\n",
       "      <th>ORIGINAL_UPB</th>\n",
       "      <th>ORIGINAL_LOAN_TO_VALUE</th>\n",
       "      <th>ORIGINAL_INTEREST_RATE</th>\n",
       "      <th>...</th>\n",
       "      <th>PRODUCT_TYPE</th>\n",
       "      <th>PROPERTY_STATE</th>\n",
       "      <th>PROPERTY_TYPE</th>\n",
       "      <th>LOAN_PURPOSE</th>\n",
       "      <th>ORIGINAL_LOAN_TERM</th>\n",
       "      <th>NUMBER_OF_BORROWERS</th>\n",
       "      <th>SELLER_NAME</th>\n",
       "      <th>SERVICER_NAME</th>\n",
       "      <th>PREPAID</th>\n",
       "      <th>DELINQUENT</th>\n",
       "    </tr>\n",
       "  </thead>\n",
       "  <tbody>\n",
       "    <tr>\n",
       "      <th>0</th>\n",
       "      <td>669.0</td>\n",
       "      <td>2002-06-01</td>\n",
       "      <td>2029-01-01</td>\n",
       "      <td>1.0</td>\n",
       "      <td>O</td>\n",
       "      <td>80.0</td>\n",
       "      <td>33.0</td>\n",
       "      <td>162000</td>\n",
       "      <td>80.0</td>\n",
       "      <td>7.120</td>\n",
       "      <td>...</td>\n",
       "      <td>FRM</td>\n",
       "      <td>WV</td>\n",
       "      <td>SF</td>\n",
       "      <td>P</td>\n",
       "      <td>320</td>\n",
       "      <td>2.0</td>\n",
       "      <td>Other sellers</td>\n",
       "      <td>Other servicers</td>\n",
       "      <td>True</td>\n",
       "      <td>False</td>\n",
       "    </tr>\n",
       "    <tr>\n",
       "      <th>1</th>\n",
       "      <td>732.0</td>\n",
       "      <td>1999-04-01</td>\n",
       "      <td>2029-03-01</td>\n",
       "      <td>1.0</td>\n",
       "      <td>O</td>\n",
       "      <td>25.0</td>\n",
       "      <td>10.0</td>\n",
       "      <td>53000</td>\n",
       "      <td>25.0</td>\n",
       "      <td>6.500</td>\n",
       "      <td>...</td>\n",
       "      <td>FRM</td>\n",
       "      <td>OH</td>\n",
       "      <td>SF</td>\n",
       "      <td>N</td>\n",
       "      <td>360</td>\n",
       "      <td>1.0</td>\n",
       "      <td>Other sellers</td>\n",
       "      <td>Other servicers</td>\n",
       "      <td>True</td>\n",
       "      <td>False</td>\n",
       "    </tr>\n",
       "    <tr>\n",
       "      <th>2</th>\n",
       "      <td>679.0</td>\n",
       "      <td>2002-08-01</td>\n",
       "      <td>2029-02-01</td>\n",
       "      <td>1.0</td>\n",
       "      <td>O</td>\n",
       "      <td>91.0</td>\n",
       "      <td>48.0</td>\n",
       "      <td>133000</td>\n",
       "      <td>91.0</td>\n",
       "      <td>6.750</td>\n",
       "      <td>...</td>\n",
       "      <td>FRM</td>\n",
       "      <td>OH</td>\n",
       "      <td>SF</td>\n",
       "      <td>P</td>\n",
       "      <td>319</td>\n",
       "      <td>1.0</td>\n",
       "      <td>Other sellers</td>\n",
       "      <td>Other servicers</td>\n",
       "      <td>True</td>\n",
       "      <td>False</td>\n",
       "    </tr>\n",
       "    <tr>\n",
       "      <th>3</th>\n",
       "      <td>721.0</td>\n",
       "      <td>2002-09-01</td>\n",
       "      <td>2029-02-01</td>\n",
       "      <td>1.0</td>\n",
       "      <td>O</td>\n",
       "      <td>39.0</td>\n",
       "      <td>13.0</td>\n",
       "      <td>174000</td>\n",
       "      <td>39.0</td>\n",
       "      <td>6.625</td>\n",
       "      <td>...</td>\n",
       "      <td>FRM</td>\n",
       "      <td>AZ</td>\n",
       "      <td>SF</td>\n",
       "      <td>N</td>\n",
       "      <td>318</td>\n",
       "      <td>2.0</td>\n",
       "      <td>Other sellers</td>\n",
       "      <td>Other servicers</td>\n",
       "      <td>True</td>\n",
       "      <td>False</td>\n",
       "    </tr>\n",
       "    <tr>\n",
       "      <th>4</th>\n",
       "      <td>618.0</td>\n",
       "      <td>2002-10-01</td>\n",
       "      <td>2029-02-01</td>\n",
       "      <td>1.0</td>\n",
       "      <td>O</td>\n",
       "      <td>85.0</td>\n",
       "      <td>24.0</td>\n",
       "      <td>122000</td>\n",
       "      <td>85.0</td>\n",
       "      <td>6.375</td>\n",
       "      <td>...</td>\n",
       "      <td>FRM</td>\n",
       "      <td>OH</td>\n",
       "      <td>SF</td>\n",
       "      <td>N</td>\n",
       "      <td>317</td>\n",
       "      <td>2.0</td>\n",
       "      <td>Other sellers</td>\n",
       "      <td>Other servicers</td>\n",
       "      <td>True</td>\n",
       "      <td>False</td>\n",
       "    </tr>\n",
       "  </tbody>\n",
       "</table>\n",
       "<p>5 rows × 22 columns</p>\n",
       "</div>"
      ],
      "text/plain": [
       "   CREDIT_SCORE FIRST_PAYMENT_DATE MATURITY_DATE  NUMBER_OF_UNITS  \\\n",
       "0         669.0         2002-06-01    2029-01-01              1.0   \n",
       "1         732.0         1999-04-01    2029-03-01              1.0   \n",
       "2         679.0         2002-08-01    2029-02-01              1.0   \n",
       "3         721.0         2002-09-01    2029-02-01              1.0   \n",
       "4         618.0         2002-10-01    2029-02-01              1.0   \n",
       "\n",
       "  OCCUPANCY_STATUS  ORIGINAL_COMBINED_LOAN_TO_VALUE  \\\n",
       "0                O                             80.0   \n",
       "1                O                             25.0   \n",
       "2                O                             91.0   \n",
       "3                O                             39.0   \n",
       "4                O                             85.0   \n",
       "\n",
       "   ORIGINAL_DEBT_TO_INCOME_RATIO  ORIGINAL_UPB  ORIGINAL_LOAN_TO_VALUE  \\\n",
       "0                           33.0        162000                    80.0   \n",
       "1                           10.0         53000                    25.0   \n",
       "2                           48.0        133000                    91.0   \n",
       "3                           13.0        174000                    39.0   \n",
       "4                           24.0        122000                    85.0   \n",
       "\n",
       "   ORIGINAL_INTEREST_RATE  ... PRODUCT_TYPE PROPERTY_STATE PROPERTY_TYPE  \\\n",
       "0                   7.120  ...          FRM             WV            SF   \n",
       "1                   6.500  ...          FRM             OH            SF   \n",
       "2                   6.750  ...          FRM             OH            SF   \n",
       "3                   6.625  ...          FRM             AZ            SF   \n",
       "4                   6.375  ...          FRM             OH            SF   \n",
       "\n",
       "  LOAN_PURPOSE ORIGINAL_LOAN_TERM NUMBER_OF_BORROWERS    SELLER_NAME  \\\n",
       "0            P                320                 2.0  Other sellers   \n",
       "1            N                360                 1.0  Other sellers   \n",
       "2            P                319                 1.0  Other sellers   \n",
       "3            N                318                 2.0  Other sellers   \n",
       "4            N                317                 2.0  Other sellers   \n",
       "\n",
       "     SERVICER_NAME PREPAID DELINQUENT  \n",
       "0  Other servicers    True      False  \n",
       "1  Other servicers    True      False  \n",
       "2  Other servicers    True      False  \n",
       "3  Other servicers    True      False  \n",
       "4  Other servicers    True      False  \n",
       "\n",
       "[5 rows x 22 columns]"
      ]
     },
     "execution_count": 25,
     "metadata": {},
     "output_type": "execute_result"
    }
   ],
   "source": [
    "small_mortgage_df.head()"
   ]
  },
  {
   "cell_type": "markdown",
   "id": "bdc12f8b",
   "metadata": {},
   "source": [
    "The FIRST_PAYMENT_DATE and MATURITY_DATE variables have been successfully converted to datetime data type."
   ]
  },
  {
   "cell_type": "markdown",
   "id": "c907a03f",
   "metadata": {},
   "source": [
    "    Step 6: Adding the origination date to the dataframe."
   ]
  },
  {
   "cell_type": "code",
   "execution_count": 26,
   "id": "d01479e5",
   "metadata": {},
   "outputs": [],
   "source": [
    "# Defining the Add Months function\n",
    "def add_months(start_date, delta_period):\n",
    "    end_date = start_date + relativedelta(months=delta_period)\n",
    "    return end_date"
   ]
  },
  {
   "cell_type": "code",
   "execution_count": 27,
   "id": "21ae79af",
   "metadata": {},
   "outputs": [
    {
     "name": "stderr",
     "output_type": "stream",
     "text": [
      "% Complete!: 100%|██████████| 494615/494615 [00:00<00:00, 976821.03it/s] \n"
     ]
    }
   ],
   "source": [
    "# Multiplying origination term by -1. This will help to decrement maturity by the original term loan\n",
    "# inorder to calculate the origination date.\n",
    "small_mortgage_df['ORIGINAL_LOAN_TERM'] = small_mortgage_df['ORIGINAL_LOAN_TERM'].progress_apply(lambda x: x*-1)"
   ]
  },
  {
   "cell_type": "code",
   "execution_count": 28,
   "id": "09cbe973",
   "metadata": {},
   "outputs": [
    {
     "name": "stderr",
     "output_type": "stream",
     "text": [
      "% Complete!: 100%|██████████| 494615/494615 [00:19<00:00, 25791.92it/s]\n"
     ]
    }
   ],
   "source": [
    "# Apply Add_month function on the dataframe using lambda operation.\n",
    "small_mortgage_df['Origination_date'] = small_mortgage_df.progress_apply(lambda row: add_months(row['MATURITY_DATE'], row['ORIGINAL_LOAN_TERM']), axis = 1)"
   ]
  },
  {
   "cell_type": "code",
   "execution_count": 29,
   "id": "54c38a09",
   "metadata": {},
   "outputs": [
    {
     "data": {
      "text/plain": [
       "0        2002-05-01\n",
       "1        1999-03-01\n",
       "2        2002-07-01\n",
       "3        2002-08-01\n",
       "4        2002-09-01\n",
       "            ...    \n",
       "500132   2002-02-01\n",
       "500133   2002-02-01\n",
       "500134   2002-02-01\n",
       "500135   2002-02-01\n",
       "500136   2002-02-01\n",
       "Name: Origination_date, Length: 494615, dtype: datetime64[ns]"
      ]
     },
     "execution_count": 29,
     "metadata": {},
     "output_type": "execute_result"
    }
   ],
   "source": [
    "# Checking if the variable has been created successfully.\n",
    "small_mortgage_df['Origination_date']"
   ]
  },
  {
   "cell_type": "markdown",
   "id": "a6a90333",
   "metadata": {},
   "source": [
    "The origination variable has been successfully created."
   ]
  },
  {
   "cell_type": "code",
   "execution_count": 30,
   "id": "28e07702",
   "metadata": {},
   "outputs": [
    {
     "name": "stdout",
     "output_type": "stream",
     "text": [
      "The oldest loan was originated on  1998-12-01 00:00:00\n"
     ]
    }
   ],
   "source": [
    "# Identifying the minimum origination date.\n",
    "minimum_date=min(small_mortgage_df['Origination_date'])\n",
    "print(\"The oldest loan was originated on \", minimum_date)"
   ]
  },
  {
   "cell_type": "code",
   "execution_count": 31,
   "id": "05507f14",
   "metadata": {},
   "outputs": [
    {
     "name": "stdout",
     "output_type": "stream",
     "text": [
      "The most recent loan was originated on  2011-02-01 00:00:00\n"
     ]
    }
   ],
   "source": [
    "# Identifying the maximum origination date.\n",
    "maximum_date=max(small_mortgage_df['Origination_date'])\n",
    "print(\"The most recent loan was originated on \", maximum_date)"
   ]
  },
  {
   "cell_type": "code",
   "execution_count": 32,
   "id": "e9b8aeeb",
   "metadata": {},
   "outputs": [
    {
     "name": "stdout",
     "output_type": "stream",
     "text": [
      "<class 'pandas.core.frame.DataFrame'>\n",
      "Index: 494615 entries, 0 to 500136\n",
      "Data columns (total 23 columns):\n",
      " #   Column                            Non-Null Count   Dtype         \n",
      "---  ------                            --------------   -----         \n",
      " 0   CREDIT_SCORE                      494615 non-null  float64       \n",
      " 1   FIRST_PAYMENT_DATE                494615 non-null  datetime64[ns]\n",
      " 2   MATURITY_DATE                     494615 non-null  datetime64[ns]\n",
      " 3   NUMBER_OF_UNITS                   494615 non-null  float64       \n",
      " 4   OCCUPANCY_STATUS                  494615 non-null  object        \n",
      " 5   ORIGINAL_COMBINED_LOAN_TO_VALUE   494615 non-null  float64       \n",
      " 6   ORIGINAL_DEBT_TO_INCOME_RATIO     494615 non-null  float64       \n",
      " 7   ORIGINAL_UPB                      494615 non-null  int64         \n",
      " 8   ORIGINAL_LOAN_TO_VALUE            494615 non-null  float64       \n",
      " 9   ORIGINAL_INTEREST_RATE            494615 non-null  float64       \n",
      " 10  CHANNEL                           494615 non-null  object        \n",
      " 11  PREPAYMENT_PENALTY_MORTGAGE_FLAG  494615 non-null  object        \n",
      " 12  PRODUCT_TYPE                      494615 non-null  object        \n",
      " 13  PROPERTY_STATE                    494615 non-null  object        \n",
      " 14  PROPERTY_TYPE                     494615 non-null  object        \n",
      " 15  LOAN_PURPOSE                      494615 non-null  object        \n",
      " 16  ORIGINAL_LOAN_TERM                494615 non-null  int64         \n",
      " 17  NUMBER_OF_BORROWERS               494615 non-null  float64       \n",
      " 18  SELLER_NAME                       494615 non-null  object        \n",
      " 19  SERVICER_NAME                     494615 non-null  object        \n",
      " 20  PREPAID                           494615 non-null  bool          \n",
      " 21  DELINQUENT                        494615 non-null  bool          \n",
      " 22  Origination_date                  494615 non-null  datetime64[ns]\n",
      "dtypes: bool(2), datetime64[ns](3), float64(7), int64(2), object(9)\n",
      "memory usage: 84.0+ MB\n"
     ]
    }
   ],
   "source": [
    "# Checking the information of the flat file after transformation.\n",
    "small_mortgage_df.info()"
   ]
  },
  {
   "cell_type": "markdown",
   "id": "22198cf0",
   "metadata": {},
   "source": [
    "The data types look good and the non-null count for all variables is same. So far so good with the flat file."
   ]
  },
  {
   "cell_type": "markdown",
   "id": "91950b21",
   "metadata": {},
   "source": [
    "#  Milestone 3 - Cleaning/Formatting Website Data"
   ]
  },
  {
   "cell_type": "markdown",
   "id": "399e71be",
   "metadata": {},
   "source": [
    "##  Connection to the webpage"
   ]
  },
  {
   "cell_type": "code",
   "execution_count": 33,
   "id": "6848e486",
   "metadata": {},
   "outputs": [
    {
     "name": "stdout",
     "output_type": "stream",
     "text": [
      "Connection to the webpage was successful.\n"
     ]
    }
   ],
   "source": [
    "# Load the webpage content. Try blocks will be used to ensure successful connection to the wikipedia link\n",
    "try:\n",
    "    connection_to_webpage = requests.get(\"https://money.cnn.com/pf/features/lists/total_taxes/total.html\")\n",
    "    connection_to_webpage.raise_for_status()\n",
    "    \n",
    "    # Convert to the webpage to a beutifulsoup object\n",
    "    soup = bs(connection_to_webpage.text, 'html.parser')\n",
    "    print('Connection to the webpage was successful.')\n",
    "    \n",
    "except Exception:\n",
    "    print(\"An error occured when connecting to the website. Check the link and try again.\")"
   ]
  },
  {
   "cell_type": "markdown",
   "id": "81ae1803",
   "metadata": {},
   "source": [
    "##  Scrapping the data table"
   ]
  },
  {
   "cell_type": "code",
   "execution_count": 34,
   "id": "ab234521",
   "metadata": {},
   "outputs": [
    {
     "name": "stdout",
     "output_type": "stream",
     "text": [
      "<class 'bs4.element.Tag'>\n"
     ]
    }
   ],
   "source": [
    "# Generating the right table using its index. The index was identified through visual inspection.\n",
    "data_table = soup.find_all('table')[4] # The needed table has an index position of 4.\n",
    "print(type(data_table))"
   ]
  },
  {
   "cell_type": "code",
   "execution_count": 35,
   "id": "454896f5",
   "metadata": {},
   "outputs": [
    {
     "name": "stdout",
     "output_type": "stream",
     "text": [
      "['State', 'Personal income tax', 'Sales and excise taxes', 'Total taxes']\n"
     ]
    }
   ],
   "source": [
    "# Extracting first level column names.\n",
    "first_level_headers = data_table.find_all('tr',recursive=False)[0]\n",
    "first_level_headers_list = sources_list = [td for td in first_level_headers.find_all('td')]\n",
    "first_level_names = [name.text.replace('*','') for name in first_level_headers_list]\n",
    "print(first_level_names)"
   ]
  },
  {
   "cell_type": "code",
   "execution_count": 36,
   "id": "02bac1e4",
   "metadata": {},
   "outputs": [
    {
     "name": "stdout",
     "output_type": "stream",
     "text": [
      "['Tax $ per $1000', 'Rank', 'Tax $ per $1000', 'Rank', 'Tax $ per $1000', 'Rank']\n"
     ]
    }
   ],
   "source": [
    "# Extracting Second level column names\n",
    "second_level_headers = data_table.find_all('tr',recursive=False)[1]\n",
    "second_level_headers_list = sources_list = [td for td in second_level_headers.find_all('td')]\n",
    "second_level_names = [name.text for name in second_level_headers_list]\n",
    "print(second_level_names)"
   ]
  },
  {
   "cell_type": "code",
   "execution_count": 37,
   "id": "aea002ee",
   "metadata": {},
   "outputs": [],
   "source": [
    "# Extracting data\n",
    "warnings.filterwarnings(\"ignore\", category=FutureWarning)  # This was put here to suppress non concerning warnings.\n",
    "\n",
    "#Extracting the data and appending it to a dataframe the rows.\n",
    "tax_df=pd.DataFrame()\n",
    "rows = data_table.find_all('tr',recursive=False)[2:]\n",
    "for i in rows:\n",
    "    values = i.find_all('td')\n",
    "    row =[tr.text.strip() for tr in values]\n",
    "        # Appending each row in a dataframe\n",
    "    tax_df = pd.concat([tax_df, pd.DataFrame([row])], ignore_index=True)"
   ]
  },
  {
   "cell_type": "code",
   "execution_count": 38,
   "id": "106a61e3",
   "metadata": {},
   "outputs": [],
   "source": [
    "# Making the state column as an index\n",
    "tax_df = tax_df.set_index(tax_df.columns[0])"
   ]
  },
  {
   "cell_type": "code",
   "execution_count": 39,
   "id": "e3c4ea55",
   "metadata": {},
   "outputs": [
    {
     "data": {
      "text/plain": [
       "Index([1, 2, 3, 4, 5, 6], dtype='int64')"
      ]
     },
     "execution_count": 39,
     "metadata": {},
     "output_type": "execute_result"
    }
   ],
   "source": [
    "# Assingning the name to the set index.\n",
    "tax_df.index.name = first_level_names[0]\n",
    "tax_df.columns"
   ]
  },
  {
   "cell_type": "code",
   "execution_count": 40,
   "id": "f7b6e7e5",
   "metadata": {},
   "outputs": [],
   "source": [
    "# Creating the the two level column names for the data table from the webpage.\n",
    "columns =  pd.MultiIndex.from_product([first_level_names[1:],second_level_names[0:2]])"
   ]
  },
  {
   "cell_type": "code",
   "execution_count": 41,
   "id": "d56e15a5",
   "metadata": {},
   "outputs": [
    {
     "data": {
      "text/html": [
       "<div>\n",
       "<style scoped>\n",
       "    .dataframe tbody tr th:only-of-type {\n",
       "        vertical-align: middle;\n",
       "    }\n",
       "\n",
       "    .dataframe tbody tr th {\n",
       "        vertical-align: top;\n",
       "    }\n",
       "\n",
       "    .dataframe thead tr th {\n",
       "        text-align: left;\n",
       "    }\n",
       "\n",
       "    .dataframe thead tr:last-of-type th {\n",
       "        text-align: right;\n",
       "    }\n",
       "</style>\n",
       "<table border=\"1\" class=\"dataframe\">\n",
       "  <thead>\n",
       "    <tr>\n",
       "      <th></th>\n",
       "      <th colspan=\"2\" halign=\"left\">Personal income tax</th>\n",
       "      <th colspan=\"2\" halign=\"left\">Sales and excise taxes</th>\n",
       "      <th colspan=\"2\" halign=\"left\">Total taxes</th>\n",
       "    </tr>\n",
       "    <tr>\n",
       "      <th></th>\n",
       "      <th>Tax $ per $1000</th>\n",
       "      <th>Rank</th>\n",
       "      <th>Tax $ per $1000</th>\n",
       "      <th>Rank</th>\n",
       "      <th>Tax $ per $1000</th>\n",
       "      <th>Rank</th>\n",
       "    </tr>\n",
       "    <tr>\n",
       "      <th>State</th>\n",
       "      <th></th>\n",
       "      <th></th>\n",
       "      <th></th>\n",
       "      <th></th>\n",
       "      <th></th>\n",
       "      <th></th>\n",
       "    </tr>\n",
       "  </thead>\n",
       "  <tbody>\n",
       "    <tr>\n",
       "      <th>New York</th>\n",
       "      <td>44.45</td>\n",
       "      <td>1</td>\n",
       "      <td>33.10</td>\n",
       "      <td>36</td>\n",
       "      <td>130.79</td>\n",
       "      <td>1</td>\n",
       "    </tr>\n",
       "    <tr>\n",
       "      <th>Maine</th>\n",
       "      <td>30.75</td>\n",
       "      <td>11</td>\n",
       "      <td>35.59</td>\n",
       "      <td>29</td>\n",
       "      <td>130.16</td>\n",
       "      <td>2</td>\n",
       "    </tr>\n",
       "    <tr>\n",
       "      <th>Wyoming</th>\n",
       "      <td>0.00</td>\n",
       "      <td>45</td>\n",
       "      <td>46.38</td>\n",
       "      <td>13</td>\n",
       "      <td>121.97</td>\n",
       "      <td>3</td>\n",
       "    </tr>\n",
       "    <tr>\n",
       "      <th>Hawaii</th>\n",
       "      <td>31.63</td>\n",
       "      <td>9</td>\n",
       "      <td>63.85</td>\n",
       "      <td>1</td>\n",
       "      <td>120.62</td>\n",
       "      <td>4</td>\n",
       "    </tr>\n",
       "    <tr>\n",
       "      <th>Wisconsin</th>\n",
       "      <td>31.34</td>\n",
       "      <td>10</td>\n",
       "      <td>35.90</td>\n",
       "      <td>28</td>\n",
       "      <td>117.26</td>\n",
       "      <td>5</td>\n",
       "    </tr>\n",
       "    <tr>\n",
       "      <th>Rhode Island</th>\n",
       "      <td>25.83</td>\n",
       "      <td>18</td>\n",
       "      <td>36.53</td>\n",
       "      <td>25</td>\n",
       "      <td>113.63</td>\n",
       "      <td>6</td>\n",
       "    </tr>\n",
       "    <tr>\n",
       "      <th>Minnesota</th>\n",
       "      <td>33.37</td>\n",
       "      <td>6</td>\n",
       "      <td>36.28</td>\n",
       "      <td>26</td>\n",
       "      <td>113.14</td>\n",
       "      <td>7</td>\n",
       "    </tr>\n",
       "    <tr>\n",
       "      <th>West Virginia</th>\n",
       "      <td>24.90</td>\n",
       "      <td>24</td>\n",
       "      <td>47.64</td>\n",
       "      <td>11</td>\n",
       "      <td>111.68</td>\n",
       "      <td>8</td>\n",
       "    </tr>\n",
       "    <tr>\n",
       "      <th>New Mexico</th>\n",
       "      <td>22.46</td>\n",
       "      <td>33</td>\n",
       "      <td>53.00</td>\n",
       "      <td>6</td>\n",
       "      <td>111.45</td>\n",
       "      <td>9</td>\n",
       "    </tr>\n",
       "    <tr>\n",
       "      <th>Louisiana</th>\n",
       "      <td>16.34</td>\n",
       "      <td>38</td>\n",
       "      <td>63.46</td>\n",
       "      <td>2</td>\n",
       "      <td>111.26</td>\n",
       "      <td>10</td>\n",
       "    </tr>\n",
       "    <tr>\n",
       "      <th>Ohio</th>\n",
       "      <td>36.18</td>\n",
       "      <td>4</td>\n",
       "      <td>33.03</td>\n",
       "      <td>37</td>\n",
       "      <td>110.96</td>\n",
       "      <td>11</td>\n",
       "    </tr>\n",
       "    <tr>\n",
       "      <th>Vermont</th>\n",
       "      <td>22.95</td>\n",
       "      <td>31</td>\n",
       "      <td>32.24</td>\n",
       "      <td>39</td>\n",
       "      <td>110.60</td>\n",
       "      <td>12</td>\n",
       "    </tr>\n",
       "    <tr>\n",
       "      <th>Utah</th>\n",
       "      <td>28.88</td>\n",
       "      <td>14</td>\n",
       "      <td>47.10</td>\n",
       "      <td>12</td>\n",
       "      <td>108.39</td>\n",
       "      <td>13</td>\n",
       "    </tr>\n",
       "    <tr>\n",
       "      <th>Nebraska</th>\n",
       "      <td>23.37</td>\n",
       "      <td>28</td>\n",
       "      <td>36.86</td>\n",
       "      <td>23</td>\n",
       "      <td>107.71</td>\n",
       "      <td>14</td>\n",
       "    </tr>\n",
       "    <tr>\n",
       "      <th>Delaware</th>\n",
       "      <td>30.47</td>\n",
       "      <td>12</td>\n",
       "      <td>13.02</td>\n",
       "      <td>49</td>\n",
       "      <td>107.24</td>\n",
       "      <td>15</td>\n",
       "    </tr>\n",
       "    <tr>\n",
       "      <th>Kentucky</th>\n",
       "      <td>34.45</td>\n",
       "      <td>5</td>\n",
       "      <td>38.84</td>\n",
       "      <td>21</td>\n",
       "      <td>106.22</td>\n",
       "      <td>16</td>\n",
       "    </tr>\n",
       "    <tr>\n",
       "      <th>California</th>\n",
       "      <td>29.09</td>\n",
       "      <td>13</td>\n",
       "      <td>36.59</td>\n",
       "      <td>24</td>\n",
       "      <td>106.01</td>\n",
       "      <td>17</td>\n",
       "    </tr>\n",
       "    <tr>\n",
       "      <th>North Dakota</th>\n",
       "      <td>12.14</td>\n",
       "      <td>41</td>\n",
       "      <td>41.90</td>\n",
       "      <td>17</td>\n",
       "      <td>105.19</td>\n",
       "      <td>18</td>\n",
       "    </tr>\n",
       "    <tr>\n",
       "      <th>Arizona</th>\n",
       "      <td>15.15</td>\n",
       "      <td>40</td>\n",
       "      <td>51.30</td>\n",
       "      <td>8</td>\n",
       "      <td>104.47</td>\n",
       "      <td>19</td>\n",
       "    </tr>\n",
       "    <tr>\n",
       "      <th>Maryland</th>\n",
       "      <td>40.16</td>\n",
       "      <td>2</td>\n",
       "      <td>26.13</td>\n",
       "      <td>44</td>\n",
       "      <td>104.42</td>\n",
       "      <td>20</td>\n",
       "    </tr>\n",
       "    <tr>\n",
       "      <th>New Jersey</th>\n",
       "      <td>20.66</td>\n",
       "      <td>35</td>\n",
       "      <td>26.49</td>\n",
       "      <td>43</td>\n",
       "      <td>104.20</td>\n",
       "      <td>21</td>\n",
       "    </tr>\n",
       "    <tr>\n",
       "      <th>Arkansas</th>\n",
       "      <td>25.21</td>\n",
       "      <td>22</td>\n",
       "      <td>53.78</td>\n",
       "      <td>5</td>\n",
       "      <td>104.00</td>\n",
       "      <td>22</td>\n",
       "    </tr>\n",
       "    <tr>\n",
       "      <th>Mississippi</th>\n",
       "      <td>15.69</td>\n",
       "      <td>39</td>\n",
       "      <td>51.85</td>\n",
       "      <td>7</td>\n",
       "      <td>103.92</td>\n",
       "      <td>23</td>\n",
       "    </tr>\n",
       "    <tr>\n",
       "      <th>Iowa</th>\n",
       "      <td>22.62</td>\n",
       "      <td>32</td>\n",
       "      <td>35.98</td>\n",
       "      <td>27</td>\n",
       "      <td>103.85</td>\n",
       "      <td>24</td>\n",
       "    </tr>\n",
       "    <tr>\n",
       "      <th>Michigan</th>\n",
       "      <td>22.35</td>\n",
       "      <td>34</td>\n",
       "      <td>34.69</td>\n",
       "      <td>32</td>\n",
       "      <td>103.83</td>\n",
       "      <td>25</td>\n",
       "    </tr>\n",
       "    <tr>\n",
       "      <th>Kansas</th>\n",
       "      <td>24.11</td>\n",
       "      <td>26</td>\n",
       "      <td>39.85</td>\n",
       "      <td>18</td>\n",
       "      <td>103.66</td>\n",
       "      <td>26</td>\n",
       "    </tr>\n",
       "    <tr>\n",
       "      <th>Connecticut</th>\n",
       "      <td>25.23</td>\n",
       "      <td>21</td>\n",
       "      <td>30.92</td>\n",
       "      <td>40</td>\n",
       "      <td>103.56</td>\n",
       "      <td>27</td>\n",
       "    </tr>\n",
       "    <tr>\n",
       "      <th>Alaska</th>\n",
       "      <td>0.00</td>\n",
       "      <td>45</td>\n",
       "      <td>15.42</td>\n",
       "      <td>47</td>\n",
       "      <td>102.76</td>\n",
       "      <td>28</td>\n",
       "    </tr>\n",
       "    <tr>\n",
       "      <th>Illinois</th>\n",
       "      <td>18.21</td>\n",
       "      <td>37</td>\n",
       "      <td>33.82</td>\n",
       "      <td>34</td>\n",
       "      <td>101.31</td>\n",
       "      <td>29</td>\n",
       "    </tr>\n",
       "    <tr>\n",
       "      <th>Nevada</th>\n",
       "      <td>0.00</td>\n",
       "      <td>45</td>\n",
       "      <td>60.41</td>\n",
       "      <td>4</td>\n",
       "      <td>101.20</td>\n",
       "      <td>30</td>\n",
       "    </tr>\n",
       "    <tr>\n",
       "      <th>Pennsylvania</th>\n",
       "      <td>25.51</td>\n",
       "      <td>20</td>\n",
       "      <td>30.28</td>\n",
       "      <td>41</td>\n",
       "      <td>100.91</td>\n",
       "      <td>31</td>\n",
       "    </tr>\n",
       "    <tr>\n",
       "      <th>Washington</th>\n",
       "      <td>0.00</td>\n",
       "      <td>45</td>\n",
       "      <td>61.92</td>\n",
       "      <td>3</td>\n",
       "      <td>100.90</td>\n",
       "      <td>32</td>\n",
       "    </tr>\n",
       "    <tr>\n",
       "      <th>Indiana</th>\n",
       "      <td>24.36</td>\n",
       "      <td>25</td>\n",
       "      <td>32.64</td>\n",
       "      <td>38</td>\n",
       "      <td>100.39</td>\n",
       "      <td>33</td>\n",
       "    </tr>\n",
       "    <tr>\n",
       "      <th>Georgia</th>\n",
       "      <td>27.06</td>\n",
       "      <td>16</td>\n",
       "      <td>39.19</td>\n",
       "      <td>19</td>\n",
       "      <td>100.36</td>\n",
       "      <td>34</td>\n",
       "    </tr>\n",
       "    <tr>\n",
       "      <th>North Carolina</th>\n",
       "      <td>32.24</td>\n",
       "      <td>7</td>\n",
       "      <td>34.84</td>\n",
       "      <td>31</td>\n",
       "      <td>100.17</td>\n",
       "      <td>35</td>\n",
       "    </tr>\n",
       "    <tr>\n",
       "      <th>Idaho</th>\n",
       "      <td>25.56</td>\n",
       "      <td>19</td>\n",
       "      <td>34.45</td>\n",
       "      <td>33</td>\n",
       "      <td>99.84</td>\n",
       "      <td>36</td>\n",
       "    </tr>\n",
       "    <tr>\n",
       "      <th>Oklahoma</th>\n",
       "      <td>25.91</td>\n",
       "      <td>17</td>\n",
       "      <td>39.06</td>\n",
       "      <td>20</td>\n",
       "      <td>99.53</td>\n",
       "      <td>37</td>\n",
       "    </tr>\n",
       "    <tr>\n",
       "      <th>Montana</th>\n",
       "      <td>23.77</td>\n",
       "      <td>27</td>\n",
       "      <td>17.18</td>\n",
       "      <td>46</td>\n",
       "      <td>98.05</td>\n",
       "      <td>38</td>\n",
       "    </tr>\n",
       "    <tr>\n",
       "      <th>Missouri</th>\n",
       "      <td>24.95</td>\n",
       "      <td>23</td>\n",
       "      <td>38.39</td>\n",
       "      <td>22</td>\n",
       "      <td>96.06</td>\n",
       "      <td>39</td>\n",
       "    </tr>\n",
       "    <tr>\n",
       "      <th>Massachusetts</th>\n",
       "      <td>31.75</td>\n",
       "      <td>8</td>\n",
       "      <td>21.52</td>\n",
       "      <td>45</td>\n",
       "      <td>95.87</td>\n",
       "      <td>40</td>\n",
       "    </tr>\n",
       "    <tr>\n",
       "      <th>South Carolina</th>\n",
       "      <td>23.08</td>\n",
       "      <td>29</td>\n",
       "      <td>33.65</td>\n",
       "      <td>35</td>\n",
       "      <td>95.82</td>\n",
       "      <td>41</td>\n",
       "    </tr>\n",
       "    <tr>\n",
       "      <th>Texas</th>\n",
       "      <td>0.00</td>\n",
       "      <td>44</td>\n",
       "      <td>46.37</td>\n",
       "      <td>14</td>\n",
       "      <td>95.49</td>\n",
       "      <td>42</td>\n",
       "    </tr>\n",
       "    <tr>\n",
       "      <th>Virginia</th>\n",
       "      <td>28.86</td>\n",
       "      <td>15</td>\n",
       "      <td>28.14</td>\n",
       "      <td>42</td>\n",
       "      <td>95.18</td>\n",
       "      <td>43</td>\n",
       "    </tr>\n",
       "    <tr>\n",
       "      <th>Florida</th>\n",
       "      <td>0.00</td>\n",
       "      <td>45</td>\n",
       "      <td>47.95</td>\n",
       "      <td>10</td>\n",
       "      <td>93.74</td>\n",
       "      <td>44</td>\n",
       "    </tr>\n",
       "    <tr>\n",
       "      <th>Colorado</th>\n",
       "      <td>23.08</td>\n",
       "      <td>30</td>\n",
       "      <td>35.21</td>\n",
       "      <td>30</td>\n",
       "      <td>92.30</td>\n",
       "      <td>45</td>\n",
       "    </tr>\n",
       "    <tr>\n",
       "      <th>Oregon</th>\n",
       "      <td>37.12</td>\n",
       "      <td>3</td>\n",
       "      <td>8.98</td>\n",
       "      <td>50</td>\n",
       "      <td>90.93</td>\n",
       "      <td>46</td>\n",
       "    </tr>\n",
       "    <tr>\n",
       "      <th>South Dakota</th>\n",
       "      <td>0.00</td>\n",
       "      <td>45</td>\n",
       "      <td>45.64</td>\n",
       "      <td>15</td>\n",
       "      <td>90.37</td>\n",
       "      <td>47</td>\n",
       "    </tr>\n",
       "    <tr>\n",
       "      <th>Alabama</th>\n",
       "      <td>19.16</td>\n",
       "      <td>36</td>\n",
       "      <td>43.25</td>\n",
       "      <td>16</td>\n",
       "      <td>87.58</td>\n",
       "      <td>48</td>\n",
       "    </tr>\n",
       "    <tr>\n",
       "      <th>New Hampshire</th>\n",
       "      <td>1.68</td>\n",
       "      <td>42</td>\n",
       "      <td>14.24</td>\n",
       "      <td>48</td>\n",
       "      <td>84.65</td>\n",
       "      <td>49</td>\n",
       "    </tr>\n",
       "    <tr>\n",
       "      <th>Tennessee</th>\n",
       "      <td>0.95</td>\n",
       "      <td>43</td>\n",
       "      <td>48.24</td>\n",
       "      <td>9</td>\n",
       "      <td>83.89</td>\n",
       "      <td>50</td>\n",
       "    </tr>\n",
       "    <tr>\n",
       "      <th>* Includes property taxes, personal income taxes, and sales and excise taxes.</th>\n",
       "      <td>NaN</td>\n",
       "      <td>NaN</td>\n",
       "      <td>NaN</td>\n",
       "      <td>NaN</td>\n",
       "      <td>NaN</td>\n",
       "      <td>NaN</td>\n",
       "    </tr>\n",
       "  </tbody>\n",
       "</table>\n",
       "</div>"
      ],
      "text/plain": [
       "                                                   Personal income tax       \\\n",
       "                                                       Tax $ per $1000 Rank   \n",
       "State                                                                         \n",
       "New York                                                         44.45    1   \n",
       "Maine                                                            30.75   11   \n",
       "Wyoming                                                           0.00   45   \n",
       "Hawaii                                                           31.63    9   \n",
       "Wisconsin                                                        31.34   10   \n",
       "Rhode Island                                                     25.83   18   \n",
       "Minnesota                                                        33.37    6   \n",
       "West Virginia                                                    24.90   24   \n",
       "New Mexico                                                       22.46   33   \n",
       "Louisiana                                                        16.34   38   \n",
       "Ohio                                                             36.18    4   \n",
       "Vermont                                                          22.95   31   \n",
       "Utah                                                             28.88   14   \n",
       "Nebraska                                                         23.37   28   \n",
       "Delaware                                                         30.47   12   \n",
       "Kentucky                                                         34.45    5   \n",
       "California                                                       29.09   13   \n",
       "North Dakota                                                     12.14   41   \n",
       "Arizona                                                          15.15   40   \n",
       "Maryland                                                         40.16    2   \n",
       "New Jersey                                                       20.66   35   \n",
       "Arkansas                                                         25.21   22   \n",
       "Mississippi                                                      15.69   39   \n",
       "Iowa                                                             22.62   32   \n",
       "Michigan                                                         22.35   34   \n",
       "Kansas                                                           24.11   26   \n",
       "Connecticut                                                      25.23   21   \n",
       "Alaska                                                            0.00   45   \n",
       "Illinois                                                         18.21   37   \n",
       "Nevada                                                            0.00   45   \n",
       "Pennsylvania                                                     25.51   20   \n",
       "Washington                                                        0.00   45   \n",
       "Indiana                                                          24.36   25   \n",
       "Georgia                                                          27.06   16   \n",
       "North Carolina                                                   32.24    7   \n",
       "Idaho                                                            25.56   19   \n",
       "Oklahoma                                                         25.91   17   \n",
       "Montana                                                          23.77   27   \n",
       "Missouri                                                         24.95   23   \n",
       "Massachusetts                                                    31.75    8   \n",
       "South Carolina                                                   23.08   29   \n",
       "Texas                                                             0.00   44   \n",
       "Virginia                                                         28.86   15   \n",
       "Florida                                                           0.00   45   \n",
       "Colorado                                                         23.08   30   \n",
       "Oregon                                                           37.12    3   \n",
       "South Dakota                                                      0.00   45   \n",
       "Alabama                                                          19.16   36   \n",
       "New Hampshire                                                     1.68   42   \n",
       "Tennessee                                                         0.95   43   \n",
       "* Includes property taxes, personal income taxe...                 NaN  NaN   \n",
       "\n",
       "                                                   Sales and excise taxes  \\\n",
       "                                                          Tax $ per $1000   \n",
       "State                                                                       \n",
       "New York                                                            33.10   \n",
       "Maine                                                               35.59   \n",
       "Wyoming                                                             46.38   \n",
       "Hawaii                                                              63.85   \n",
       "Wisconsin                                                           35.90   \n",
       "Rhode Island                                                        36.53   \n",
       "Minnesota                                                           36.28   \n",
       "West Virginia                                                       47.64   \n",
       "New Mexico                                                          53.00   \n",
       "Louisiana                                                           63.46   \n",
       "Ohio                                                                33.03   \n",
       "Vermont                                                             32.24   \n",
       "Utah                                                                47.10   \n",
       "Nebraska                                                            36.86   \n",
       "Delaware                                                            13.02   \n",
       "Kentucky                                                            38.84   \n",
       "California                                                          36.59   \n",
       "North Dakota                                                        41.90   \n",
       "Arizona                                                             51.30   \n",
       "Maryland                                                            26.13   \n",
       "New Jersey                                                          26.49   \n",
       "Arkansas                                                            53.78   \n",
       "Mississippi                                                         51.85   \n",
       "Iowa                                                                35.98   \n",
       "Michigan                                                            34.69   \n",
       "Kansas                                                              39.85   \n",
       "Connecticut                                                         30.92   \n",
       "Alaska                                                              15.42   \n",
       "Illinois                                                            33.82   \n",
       "Nevada                                                              60.41   \n",
       "Pennsylvania                                                        30.28   \n",
       "Washington                                                          61.92   \n",
       "Indiana                                                             32.64   \n",
       "Georgia                                                             39.19   \n",
       "North Carolina                                                      34.84   \n",
       "Idaho                                                               34.45   \n",
       "Oklahoma                                                            39.06   \n",
       "Montana                                                             17.18   \n",
       "Missouri                                                            38.39   \n",
       "Massachusetts                                                       21.52   \n",
       "South Carolina                                                      33.65   \n",
       "Texas                                                               46.37   \n",
       "Virginia                                                            28.14   \n",
       "Florida                                                             47.95   \n",
       "Colorado                                                            35.21   \n",
       "Oregon                                                               8.98   \n",
       "South Dakota                                                        45.64   \n",
       "Alabama                                                             43.25   \n",
       "New Hampshire                                                       14.24   \n",
       "Tennessee                                                           48.24   \n",
       "* Includes property taxes, personal income taxe...                    NaN   \n",
       "\n",
       "                                                            Total taxes       \n",
       "                                                   Rank Tax $ per $1000 Rank  \n",
       "State                                                                         \n",
       "New York                                             36          130.79    1  \n",
       "Maine                                                29          130.16    2  \n",
       "Wyoming                                              13          121.97    3  \n",
       "Hawaii                                                1          120.62    4  \n",
       "Wisconsin                                            28          117.26    5  \n",
       "Rhode Island                                         25          113.63    6  \n",
       "Minnesota                                            26          113.14    7  \n",
       "West Virginia                                        11          111.68    8  \n",
       "New Mexico                                            6          111.45    9  \n",
       "Louisiana                                             2          111.26   10  \n",
       "Ohio                                                 37          110.96   11  \n",
       "Vermont                                              39          110.60   12  \n",
       "Utah                                                 12          108.39   13  \n",
       "Nebraska                                             23          107.71   14  \n",
       "Delaware                                             49          107.24   15  \n",
       "Kentucky                                             21          106.22   16  \n",
       "California                                           24          106.01   17  \n",
       "North Dakota                                         17          105.19   18  \n",
       "Arizona                                               8          104.47   19  \n",
       "Maryland                                             44          104.42   20  \n",
       "New Jersey                                           43          104.20   21  \n",
       "Arkansas                                              5          104.00   22  \n",
       "Mississippi                                           7          103.92   23  \n",
       "Iowa                                                 27          103.85   24  \n",
       "Michigan                                             32          103.83   25  \n",
       "Kansas                                               18          103.66   26  \n",
       "Connecticut                                          40          103.56   27  \n",
       "Alaska                                               47          102.76   28  \n",
       "Illinois                                             34          101.31   29  \n",
       "Nevada                                                4          101.20   30  \n",
       "Pennsylvania                                         41          100.91   31  \n",
       "Washington                                            3          100.90   32  \n",
       "Indiana                                              38          100.39   33  \n",
       "Georgia                                              19          100.36   34  \n",
       "North Carolina                                       31          100.17   35  \n",
       "Idaho                                                33           99.84   36  \n",
       "Oklahoma                                             20           99.53   37  \n",
       "Montana                                              46           98.05   38  \n",
       "Missouri                                             22           96.06   39  \n",
       "Massachusetts                                        45           95.87   40  \n",
       "South Carolina                                       35           95.82   41  \n",
       "Texas                                                14           95.49   42  \n",
       "Virginia                                             42           95.18   43  \n",
       "Florida                                              10           93.74   44  \n",
       "Colorado                                             30           92.30   45  \n",
       "Oregon                                               50           90.93   46  \n",
       "South Dakota                                         15           90.37   47  \n",
       "Alabama                                              16           87.58   48  \n",
       "New Hampshire                                        48           84.65   49  \n",
       "Tennessee                                             9           83.89   50  \n",
       "* Includes property taxes, personal income taxe...  NaN             NaN  NaN  "
      ]
     },
     "execution_count": 41,
     "metadata": {},
     "output_type": "execute_result"
    }
   ],
   "source": [
    "# Adding the column names to the dataframe and outputting the scrapped table\n",
    "tax_df.columns= columns\n",
    "tax_df"
   ]
  },
  {
   "cell_type": "markdown",
   "id": "9d49acbb",
   "metadata": {},
   "source": [
    "The above output shows how the table looks like on the webpage, except for the last row. Now, a few transformations will be performed to clean the table."
   ]
  },
  {
   "cell_type": "markdown",
   "id": "9736bbdb",
   "metadata": {},
   "source": [
    "## Data transformation and/or cleansing steps"
   ]
  },
  {
   "cell_type": "markdown",
   "id": "8aa0852f",
   "metadata": {},
   "source": [
    "    Step 1: Dropping first level column names."
   ]
  },
  {
   "cell_type": "code",
   "execution_count": 42,
   "id": "4f25edf7",
   "metadata": {},
   "outputs": [
    {
     "data": {
      "text/html": [
       "<div>\n",
       "<style scoped>\n",
       "    .dataframe tbody tr th:only-of-type {\n",
       "        vertical-align: middle;\n",
       "    }\n",
       "\n",
       "    .dataframe tbody tr th {\n",
       "        vertical-align: top;\n",
       "    }\n",
       "\n",
       "    .dataframe thead th {\n",
       "        text-align: right;\n",
       "    }\n",
       "</style>\n",
       "<table border=\"1\" class=\"dataframe\">\n",
       "  <thead>\n",
       "    <tr style=\"text-align: right;\">\n",
       "      <th></th>\n",
       "      <th>Tax $ per $1000</th>\n",
       "      <th>Rank</th>\n",
       "      <th>Tax $ per $1000</th>\n",
       "      <th>Rank</th>\n",
       "      <th>Tax $ per $1000</th>\n",
       "      <th>Rank</th>\n",
       "    </tr>\n",
       "    <tr>\n",
       "      <th>State</th>\n",
       "      <th></th>\n",
       "      <th></th>\n",
       "      <th></th>\n",
       "      <th></th>\n",
       "      <th></th>\n",
       "      <th></th>\n",
       "    </tr>\n",
       "  </thead>\n",
       "  <tbody>\n",
       "    <tr>\n",
       "      <th>New York</th>\n",
       "      <td>44.45</td>\n",
       "      <td>1</td>\n",
       "      <td>33.10</td>\n",
       "      <td>36</td>\n",
       "      <td>130.79</td>\n",
       "      <td>1</td>\n",
       "    </tr>\n",
       "    <tr>\n",
       "      <th>Maine</th>\n",
       "      <td>30.75</td>\n",
       "      <td>11</td>\n",
       "      <td>35.59</td>\n",
       "      <td>29</td>\n",
       "      <td>130.16</td>\n",
       "      <td>2</td>\n",
       "    </tr>\n",
       "    <tr>\n",
       "      <th>Wyoming</th>\n",
       "      <td>0.00</td>\n",
       "      <td>45</td>\n",
       "      <td>46.38</td>\n",
       "      <td>13</td>\n",
       "      <td>121.97</td>\n",
       "      <td>3</td>\n",
       "    </tr>\n",
       "    <tr>\n",
       "      <th>Hawaii</th>\n",
       "      <td>31.63</td>\n",
       "      <td>9</td>\n",
       "      <td>63.85</td>\n",
       "      <td>1</td>\n",
       "      <td>120.62</td>\n",
       "      <td>4</td>\n",
       "    </tr>\n",
       "    <tr>\n",
       "      <th>Wisconsin</th>\n",
       "      <td>31.34</td>\n",
       "      <td>10</td>\n",
       "      <td>35.90</td>\n",
       "      <td>28</td>\n",
       "      <td>117.26</td>\n",
       "      <td>5</td>\n",
       "    </tr>\n",
       "  </tbody>\n",
       "</table>\n",
       "</div>"
      ],
      "text/plain": [
       "          Tax $ per $1000 Rank Tax $ per $1000 Rank Tax $ per $1000 Rank\n",
       "State                                                                   \n",
       "New York            44.45    1           33.10   36          130.79    1\n",
       "Maine               30.75   11           35.59   29          130.16    2\n",
       "Wyoming              0.00   45           46.38   13          121.97    3\n",
       "Hawaii              31.63    9           63.85    1          120.62    4\n",
       "Wisconsin           31.34   10           35.90   28          117.26    5"
      ]
     },
     "execution_count": 42,
     "metadata": {},
     "output_type": "execute_result"
    }
   ],
   "source": [
    "# Dropping first level column name.\n",
    "tax_df=tax_df.droplevel(0, axis='columns')\n",
    "tax_df.head()"
   ]
  },
  {
   "cell_type": "markdown",
   "id": "7f0db8ba",
   "metadata": {},
   "source": [
    "The first level column names were successfully dropped."
   ]
  },
  {
   "cell_type": "markdown",
   "id": "7027129b",
   "metadata": {},
   "source": [
    "    Step 2: Resetting the index for the dataframe."
   ]
  },
  {
   "cell_type": "code",
   "execution_count": 43,
   "id": "b3f178bd",
   "metadata": {},
   "outputs": [
    {
     "data": {
      "text/html": [
       "<div>\n",
       "<style scoped>\n",
       "    .dataframe tbody tr th:only-of-type {\n",
       "        vertical-align: middle;\n",
       "    }\n",
       "\n",
       "    .dataframe tbody tr th {\n",
       "        vertical-align: top;\n",
       "    }\n",
       "\n",
       "    .dataframe thead th {\n",
       "        text-align: right;\n",
       "    }\n",
       "</style>\n",
       "<table border=\"1\" class=\"dataframe\">\n",
       "  <thead>\n",
       "    <tr style=\"text-align: right;\">\n",
       "      <th></th>\n",
       "      <th>State</th>\n",
       "      <th>Tax $ per $1000</th>\n",
       "      <th>Rank</th>\n",
       "      <th>Tax $ per $1000</th>\n",
       "      <th>Rank</th>\n",
       "      <th>Tax $ per $1000</th>\n",
       "      <th>Rank</th>\n",
       "    </tr>\n",
       "  </thead>\n",
       "  <tbody>\n",
       "    <tr>\n",
       "      <th>0</th>\n",
       "      <td>New York</td>\n",
       "      <td>44.45</td>\n",
       "      <td>1</td>\n",
       "      <td>33.10</td>\n",
       "      <td>36</td>\n",
       "      <td>130.79</td>\n",
       "      <td>1</td>\n",
       "    </tr>\n",
       "    <tr>\n",
       "      <th>1</th>\n",
       "      <td>Maine</td>\n",
       "      <td>30.75</td>\n",
       "      <td>11</td>\n",
       "      <td>35.59</td>\n",
       "      <td>29</td>\n",
       "      <td>130.16</td>\n",
       "      <td>2</td>\n",
       "    </tr>\n",
       "    <tr>\n",
       "      <th>2</th>\n",
       "      <td>Wyoming</td>\n",
       "      <td>0.00</td>\n",
       "      <td>45</td>\n",
       "      <td>46.38</td>\n",
       "      <td>13</td>\n",
       "      <td>121.97</td>\n",
       "      <td>3</td>\n",
       "    </tr>\n",
       "    <tr>\n",
       "      <th>3</th>\n",
       "      <td>Hawaii</td>\n",
       "      <td>31.63</td>\n",
       "      <td>9</td>\n",
       "      <td>63.85</td>\n",
       "      <td>1</td>\n",
       "      <td>120.62</td>\n",
       "      <td>4</td>\n",
       "    </tr>\n",
       "    <tr>\n",
       "      <th>4</th>\n",
       "      <td>Wisconsin</td>\n",
       "      <td>31.34</td>\n",
       "      <td>10</td>\n",
       "      <td>35.90</td>\n",
       "      <td>28</td>\n",
       "      <td>117.26</td>\n",
       "      <td>5</td>\n",
       "    </tr>\n",
       "  </tbody>\n",
       "</table>\n",
       "</div>"
      ],
      "text/plain": [
       "       State Tax $ per $1000 Rank Tax $ per $1000 Rank Tax $ per $1000 Rank\n",
       "0   New York           44.45    1           33.10   36          130.79    1\n",
       "1      Maine           30.75   11           35.59   29          130.16    2\n",
       "2    Wyoming            0.00   45           46.38   13          121.97    3\n",
       "3     Hawaii           31.63    9           63.85    1          120.62    4\n",
       "4  Wisconsin           31.34   10           35.90   28          117.26    5"
      ]
     },
     "execution_count": 43,
     "metadata": {},
     "output_type": "execute_result"
    }
   ],
   "source": [
    "# Resetting the index\n",
    "tax_df = tax_df.reset_index()\n",
    "tax_df.head()"
   ]
  },
  {
   "cell_type": "markdown",
   "id": "951eed71",
   "metadata": {},
   "source": [
    "The reset was successful."
   ]
  },
  {
   "cell_type": "markdown",
   "id": "e19279c1",
   "metadata": {},
   "source": [
    "    Step 3: Rename the second level column names."
   ]
  },
  {
   "cell_type": "code",
   "execution_count": 44,
   "id": "4651cbb8",
   "metadata": {},
   "outputs": [
    {
     "data": {
      "text/html": [
       "<div>\n",
       "<style scoped>\n",
       "    .dataframe tbody tr th:only-of-type {\n",
       "        vertical-align: middle;\n",
       "    }\n",
       "\n",
       "    .dataframe tbody tr th {\n",
       "        vertical-align: top;\n",
       "    }\n",
       "\n",
       "    .dataframe thead th {\n",
       "        text-align: right;\n",
       "    }\n",
       "</style>\n",
       "<table border=\"1\" class=\"dataframe\">\n",
       "  <thead>\n",
       "    <tr style=\"text-align: right;\">\n",
       "      <th></th>\n",
       "      <th>State</th>\n",
       "      <th>Personal taxes per $1000</th>\n",
       "      <th>Rank_one</th>\n",
       "      <th>State_and_sales taxes per $1000</th>\n",
       "      <th>Rank_two</th>\n",
       "      <th>Total_Taxes_per_$1000</th>\n",
       "      <th>State_tax_Rank</th>\n",
       "    </tr>\n",
       "  </thead>\n",
       "  <tbody>\n",
       "    <tr>\n",
       "      <th>0</th>\n",
       "      <td>New York</td>\n",
       "      <td>44.45</td>\n",
       "      <td>1</td>\n",
       "      <td>33.10</td>\n",
       "      <td>36</td>\n",
       "      <td>130.79</td>\n",
       "      <td>1</td>\n",
       "    </tr>\n",
       "    <tr>\n",
       "      <th>1</th>\n",
       "      <td>Maine</td>\n",
       "      <td>30.75</td>\n",
       "      <td>11</td>\n",
       "      <td>35.59</td>\n",
       "      <td>29</td>\n",
       "      <td>130.16</td>\n",
       "      <td>2</td>\n",
       "    </tr>\n",
       "    <tr>\n",
       "      <th>2</th>\n",
       "      <td>Wyoming</td>\n",
       "      <td>0.00</td>\n",
       "      <td>45</td>\n",
       "      <td>46.38</td>\n",
       "      <td>13</td>\n",
       "      <td>121.97</td>\n",
       "      <td>3</td>\n",
       "    </tr>\n",
       "    <tr>\n",
       "      <th>3</th>\n",
       "      <td>Hawaii</td>\n",
       "      <td>31.63</td>\n",
       "      <td>9</td>\n",
       "      <td>63.85</td>\n",
       "      <td>1</td>\n",
       "      <td>120.62</td>\n",
       "      <td>4</td>\n",
       "    </tr>\n",
       "    <tr>\n",
       "      <th>4</th>\n",
       "      <td>Wisconsin</td>\n",
       "      <td>31.34</td>\n",
       "      <td>10</td>\n",
       "      <td>35.90</td>\n",
       "      <td>28</td>\n",
       "      <td>117.26</td>\n",
       "      <td>5</td>\n",
       "    </tr>\n",
       "  </tbody>\n",
       "</table>\n",
       "</div>"
      ],
      "text/plain": [
       "       State Personal taxes per $1000 Rank_one  \\\n",
       "0   New York                    44.45        1   \n",
       "1      Maine                    30.75       11   \n",
       "2    Wyoming                     0.00       45   \n",
       "3     Hawaii                    31.63        9   \n",
       "4  Wisconsin                    31.34       10   \n",
       "\n",
       "  State_and_sales taxes per $1000 Rank_two Total_Taxes_per_$1000  \\\n",
       "0                           33.10       36                130.79   \n",
       "1                           35.59       29                130.16   \n",
       "2                           46.38       13                121.97   \n",
       "3                           63.85        1                120.62   \n",
       "4                           35.90       28                117.26   \n",
       "\n",
       "  State_tax_Rank  \n",
       "0              1  \n",
       "1              2  \n",
       "2              3  \n",
       "3              4  \n",
       "4              5  "
      ]
     },
     "execution_count": 44,
     "metadata": {},
     "output_type": "execute_result"
    }
   ],
   "source": [
    "# Creating new column names.\n",
    "new_names = ['State','Personal taxes per $1000','Rank_one','State_and_sales taxes per $1000','Rank_two','Total_Taxes_per_$1000','State_tax_Rank']\n",
    "\n",
    "# Applying new column names\n",
    "tax_df.columns=new_names\n",
    "tax_df.head()"
   ]
  },
  {
   "cell_type": "markdown",
   "id": "0a68e019",
   "metadata": {},
   "source": [
    "Renaming the columns was successful."
   ]
  },
  {
   "cell_type": "markdown",
   "id": "679478a8",
   "metadata": {},
   "source": [
    "    Step 4: Remove the last row of the data, since it does not contain any valuable information."
   ]
  },
  {
   "cell_type": "code",
   "execution_count": 45,
   "id": "7ba60546",
   "metadata": {},
   "outputs": [
    {
     "data": {
      "text/html": [
       "<div>\n",
       "<style scoped>\n",
       "    .dataframe tbody tr th:only-of-type {\n",
       "        vertical-align: middle;\n",
       "    }\n",
       "\n",
       "    .dataframe tbody tr th {\n",
       "        vertical-align: top;\n",
       "    }\n",
       "\n",
       "    .dataframe thead th {\n",
       "        text-align: right;\n",
       "    }\n",
       "</style>\n",
       "<table border=\"1\" class=\"dataframe\">\n",
       "  <thead>\n",
       "    <tr style=\"text-align: right;\">\n",
       "      <th></th>\n",
       "      <th>State</th>\n",
       "      <th>Personal taxes per $1000</th>\n",
       "      <th>Rank_one</th>\n",
       "      <th>State_and_sales taxes per $1000</th>\n",
       "      <th>Rank_two</th>\n",
       "      <th>Total_Taxes_per_$1000</th>\n",
       "      <th>State_tax_Rank</th>\n",
       "    </tr>\n",
       "  </thead>\n",
       "  <tbody>\n",
       "    <tr>\n",
       "      <th>50</th>\n",
       "      <td>* Includes property taxes, personal income tax...</td>\n",
       "      <td>NaN</td>\n",
       "      <td>NaN</td>\n",
       "      <td>NaN</td>\n",
       "      <td>NaN</td>\n",
       "      <td>NaN</td>\n",
       "      <td>NaN</td>\n",
       "    </tr>\n",
       "  </tbody>\n",
       "</table>\n",
       "</div>"
      ],
      "text/plain": [
       "                                                State  \\\n",
       "50  * Includes property taxes, personal income tax...   \n",
       "\n",
       "   Personal taxes per $1000 Rank_one State_and_sales taxes per $1000 Rank_two  \\\n",
       "50                      NaN      NaN                             NaN      NaN   \n",
       "\n",
       "   Total_Taxes_per_$1000 State_tax_Rank  \n",
       "50                   NaN            NaN  "
      ]
     },
     "execution_count": 45,
     "metadata": {},
     "output_type": "execute_result"
    }
   ],
   "source": [
    "# Checking the row to be dropped.\n",
    "tax_df.tail(1)"
   ]
  },
  {
   "cell_type": "code",
   "execution_count": 46,
   "id": "3749df05",
   "metadata": {},
   "outputs": [
    {
     "data": {
      "text/html": [
       "<div>\n",
       "<style scoped>\n",
       "    .dataframe tbody tr th:only-of-type {\n",
       "        vertical-align: middle;\n",
       "    }\n",
       "\n",
       "    .dataframe tbody tr th {\n",
       "        vertical-align: top;\n",
       "    }\n",
       "\n",
       "    .dataframe thead th {\n",
       "        text-align: right;\n",
       "    }\n",
       "</style>\n",
       "<table border=\"1\" class=\"dataframe\">\n",
       "  <thead>\n",
       "    <tr style=\"text-align: right;\">\n",
       "      <th></th>\n",
       "      <th>State</th>\n",
       "      <th>Personal taxes per $1000</th>\n",
       "      <th>Rank_one</th>\n",
       "      <th>State_and_sales taxes per $1000</th>\n",
       "      <th>Rank_two</th>\n",
       "      <th>Total_Taxes_per_$1000</th>\n",
       "      <th>State_tax_Rank</th>\n",
       "    </tr>\n",
       "  </thead>\n",
       "  <tbody>\n",
       "    <tr>\n",
       "      <th>45</th>\n",
       "      <td>Oregon</td>\n",
       "      <td>37.12</td>\n",
       "      <td>3</td>\n",
       "      <td>8.98</td>\n",
       "      <td>50</td>\n",
       "      <td>90.93</td>\n",
       "      <td>46</td>\n",
       "    </tr>\n",
       "    <tr>\n",
       "      <th>46</th>\n",
       "      <td>South Dakota</td>\n",
       "      <td>0.00</td>\n",
       "      <td>45</td>\n",
       "      <td>45.64</td>\n",
       "      <td>15</td>\n",
       "      <td>90.37</td>\n",
       "      <td>47</td>\n",
       "    </tr>\n",
       "    <tr>\n",
       "      <th>47</th>\n",
       "      <td>Alabama</td>\n",
       "      <td>19.16</td>\n",
       "      <td>36</td>\n",
       "      <td>43.25</td>\n",
       "      <td>16</td>\n",
       "      <td>87.58</td>\n",
       "      <td>48</td>\n",
       "    </tr>\n",
       "    <tr>\n",
       "      <th>48</th>\n",
       "      <td>New Hampshire</td>\n",
       "      <td>1.68</td>\n",
       "      <td>42</td>\n",
       "      <td>14.24</td>\n",
       "      <td>48</td>\n",
       "      <td>84.65</td>\n",
       "      <td>49</td>\n",
       "    </tr>\n",
       "    <tr>\n",
       "      <th>49</th>\n",
       "      <td>Tennessee</td>\n",
       "      <td>0.95</td>\n",
       "      <td>43</td>\n",
       "      <td>48.24</td>\n",
       "      <td>9</td>\n",
       "      <td>83.89</td>\n",
       "      <td>50</td>\n",
       "    </tr>\n",
       "  </tbody>\n",
       "</table>\n",
       "</div>"
      ],
      "text/plain": [
       "            State Personal taxes per $1000 Rank_one  \\\n",
       "45         Oregon                    37.12        3   \n",
       "46   South Dakota                     0.00       45   \n",
       "47        Alabama                    19.16       36   \n",
       "48  New Hampshire                     1.68       42   \n",
       "49      Tennessee                     0.95       43   \n",
       "\n",
       "   State_and_sales taxes per $1000 Rank_two Total_Taxes_per_$1000  \\\n",
       "45                            8.98       50                 90.93   \n",
       "46                           45.64       15                 90.37   \n",
       "47                           43.25       16                 87.58   \n",
       "48                           14.24       48                 84.65   \n",
       "49                           48.24        9                 83.89   \n",
       "\n",
       "   State_tax_Rank  \n",
       "45             46  \n",
       "46             47  \n",
       "47             48  \n",
       "48             49  \n",
       "49             50  "
      ]
     },
     "execution_count": 46,
     "metadata": {},
     "output_type": "execute_result"
    }
   ],
   "source": [
    "# Dropping the last row.\n",
    "tax_df= tax_df.iloc[:-1,:]\n",
    "tax_df.tail()"
   ]
  },
  {
   "cell_type": "markdown",
   "id": "96b238fb",
   "metadata": {},
   "source": [
    "The last row has been successfully dropped."
   ]
  },
  {
   "cell_type": "markdown",
   "id": "ea1ddd83",
   "metadata": {},
   "source": [
    "    Step 5: Adding State Abbreviation to the data.(This will be used when merging with the flat file)"
   ]
  },
  {
   "cell_type": "code",
   "execution_count": 47,
   "id": "4bb20883",
   "metadata": {},
   "outputs": [],
   "source": [
    "# Creating a dictionary of US states and their abbreviations.\n",
    "us_state_to_abbrev = {\n",
    "    \"Alabama\": \"AL\",\n",
    "    \"Alaska\": \"AK\",\n",
    "    \"Arizona\": \"AZ\",\n",
    "    \"Arkansas\": \"AR\",\n",
    "    \"California\": \"CA\",\n",
    "    \"Colorado\": \"CO\",\n",
    "    \"Connecticut\": \"CT\",\n",
    "    \"Delaware\": \"DE\",\n",
    "    \"Florida\": \"FL\",\n",
    "    \"Georgia\": \"GA\",\n",
    "    \"Hawaii\": \"HI\",\n",
    "    \"Idaho\": \"ID\",\n",
    "    \"Illinois\": \"IL\",\n",
    "    \"Indiana\": \"IN\",\n",
    "    \"Iowa\": \"IA\",\n",
    "    \"Kansas\": \"KS\",\n",
    "    \"Kentucky\": \"KY\",\n",
    "    \"Louisiana\": \"LA\",\n",
    "    \"Maine\": \"ME\",\n",
    "    \"Maryland\": \"MD\",\n",
    "    \"Massachusetts\": \"MA\",\n",
    "    \"Michigan\": \"MI\",\n",
    "    \"Minnesota\": \"MN\",\n",
    "    \"Mississippi\": \"MS\",\n",
    "    \"Missouri\": \"MO\",\n",
    "    \"Montana\": \"MT\",\n",
    "    \"Nebraska\": \"NE\",\n",
    "    \"Nevada\": \"NV\",\n",
    "    \"New Hampshire\": \"NH\",\n",
    "    \"New Jersey\": \"NJ\",\n",
    "    \"New Mexico\": \"NM\",\n",
    "    \"New York\": \"NY\",\n",
    "    \"North Carolina\": \"NC\",\n",
    "    \"North Dakota\": \"ND\",\n",
    "    \"Ohio\": \"OH\",\n",
    "    \"Oklahoma\": \"OK\",\n",
    "    \"Oregon\": \"OR\",\n",
    "    \"Pennsylvania\": \"PA\",\n",
    "    \"Rhode Island\": \"RI\",\n",
    "    \"South Carolina\": \"SC\",\n",
    "    \"South Dakota\": \"SD\",\n",
    "    \"Tennessee\": \"TN\",\n",
    "    \"Texas\": \"TX\",\n",
    "    \"Utah\": \"UT\",\n",
    "    \"Vermont\": \"VT\",\n",
    "    \"Virginia\": \"VA\",\n",
    "    \"Washington\": \"WA\",\n",
    "    \"West Virginia\": \"WV\",\n",
    "    \"Wisconsin\": \"WI\",\n",
    "    \"Wyoming\": \"WY\",\n",
    "    \"District of Columbia\": \"DC\",\n",
    "    \"American Samoa\": \"AS\",\n",
    "    \"Guam\": \"GU\",\n",
    "    \"Northern Mariana Islands\": \"MP\",\n",
    "    \"Puerto Rico\": \"PR\",\n",
    "    \"United States Minor Outlying Islands\": \"UM\",\n",
    "    \"U.S. Virgin Islands\": \"VI\",\n",
    "}"
   ]
  },
  {
   "cell_type": "code",
   "execution_count": 48,
   "id": "1fecaec2",
   "metadata": {},
   "outputs": [],
   "source": [
    "tax_df['State_abbreviation'] = tax_df['State'].map(us_state_to_abbrev)"
   ]
  },
  {
   "cell_type": "code",
   "execution_count": 49,
   "id": "6ffe6429",
   "metadata": {},
   "outputs": [
    {
     "data": {
      "text/html": [
       "<div>\n",
       "<style scoped>\n",
       "    .dataframe tbody tr th:only-of-type {\n",
       "        vertical-align: middle;\n",
       "    }\n",
       "\n",
       "    .dataframe tbody tr th {\n",
       "        vertical-align: top;\n",
       "    }\n",
       "\n",
       "    .dataframe thead th {\n",
       "        text-align: right;\n",
       "    }\n",
       "</style>\n",
       "<table border=\"1\" class=\"dataframe\">\n",
       "  <thead>\n",
       "    <tr style=\"text-align: right;\">\n",
       "      <th></th>\n",
       "      <th>State</th>\n",
       "      <th>Personal taxes per $1000</th>\n",
       "      <th>Rank_one</th>\n",
       "      <th>State_and_sales taxes per $1000</th>\n",
       "      <th>Rank_two</th>\n",
       "      <th>Total_Taxes_per_$1000</th>\n",
       "      <th>State_tax_Rank</th>\n",
       "      <th>State_abbreviation</th>\n",
       "    </tr>\n",
       "  </thead>\n",
       "  <tbody>\n",
       "    <tr>\n",
       "      <th>0</th>\n",
       "      <td>New York</td>\n",
       "      <td>44.45</td>\n",
       "      <td>1</td>\n",
       "      <td>33.10</td>\n",
       "      <td>36</td>\n",
       "      <td>130.79</td>\n",
       "      <td>1</td>\n",
       "      <td>NY</td>\n",
       "    </tr>\n",
       "    <tr>\n",
       "      <th>1</th>\n",
       "      <td>Maine</td>\n",
       "      <td>30.75</td>\n",
       "      <td>11</td>\n",
       "      <td>35.59</td>\n",
       "      <td>29</td>\n",
       "      <td>130.16</td>\n",
       "      <td>2</td>\n",
       "      <td>ME</td>\n",
       "    </tr>\n",
       "    <tr>\n",
       "      <th>2</th>\n",
       "      <td>Wyoming</td>\n",
       "      <td>0.00</td>\n",
       "      <td>45</td>\n",
       "      <td>46.38</td>\n",
       "      <td>13</td>\n",
       "      <td>121.97</td>\n",
       "      <td>3</td>\n",
       "      <td>WY</td>\n",
       "    </tr>\n",
       "    <tr>\n",
       "      <th>3</th>\n",
       "      <td>Hawaii</td>\n",
       "      <td>31.63</td>\n",
       "      <td>9</td>\n",
       "      <td>63.85</td>\n",
       "      <td>1</td>\n",
       "      <td>120.62</td>\n",
       "      <td>4</td>\n",
       "      <td>HI</td>\n",
       "    </tr>\n",
       "    <tr>\n",
       "      <th>4</th>\n",
       "      <td>Wisconsin</td>\n",
       "      <td>31.34</td>\n",
       "      <td>10</td>\n",
       "      <td>35.90</td>\n",
       "      <td>28</td>\n",
       "      <td>117.26</td>\n",
       "      <td>5</td>\n",
       "      <td>WI</td>\n",
       "    </tr>\n",
       "  </tbody>\n",
       "</table>\n",
       "</div>"
      ],
      "text/plain": [
       "       State Personal taxes per $1000 Rank_one  \\\n",
       "0   New York                    44.45        1   \n",
       "1      Maine                    30.75       11   \n",
       "2    Wyoming                     0.00       45   \n",
       "3     Hawaii                    31.63        9   \n",
       "4  Wisconsin                    31.34       10   \n",
       "\n",
       "  State_and_sales taxes per $1000 Rank_two Total_Taxes_per_$1000  \\\n",
       "0                           33.10       36                130.79   \n",
       "1                           35.59       29                130.16   \n",
       "2                           46.38       13                121.97   \n",
       "3                           63.85        1                120.62   \n",
       "4                           35.90       28                117.26   \n",
       "\n",
       "  State_tax_Rank State_abbreviation  \n",
       "0              1                 NY  \n",
       "1              2                 ME  \n",
       "2              3                 WY  \n",
       "3              4                 HI  \n",
       "4              5                 WI  "
      ]
     },
     "execution_count": 49,
     "metadata": {},
     "output_type": "execute_result"
    }
   ],
   "source": [
    "tax_df.head()"
   ]
  },
  {
   "cell_type": "markdown",
   "id": "0efb2bb1",
   "metadata": {},
   "source": [
    "The mapping to the state abbreviation was successful. Since Personal,state and sales taxes are included in total taxes, they will be dropped along with their ranks."
   ]
  },
  {
   "cell_type": "markdown",
   "id": "04ecedea",
   "metadata": {},
   "source": [
    "    Setp 6 : Retaining only total taxes, rank and state abbreviation."
   ]
  },
  {
   "cell_type": "code",
   "execution_count": 50,
   "id": "0e4fb4a5",
   "metadata": {},
   "outputs": [
    {
     "data": {
      "text/html": [
       "<div>\n",
       "<style scoped>\n",
       "    .dataframe tbody tr th:only-of-type {\n",
       "        vertical-align: middle;\n",
       "    }\n",
       "\n",
       "    .dataframe tbody tr th {\n",
       "        vertical-align: top;\n",
       "    }\n",
       "\n",
       "    .dataframe thead th {\n",
       "        text-align: right;\n",
       "    }\n",
       "</style>\n",
       "<table border=\"1\" class=\"dataframe\">\n",
       "  <thead>\n",
       "    <tr style=\"text-align: right;\">\n",
       "      <th></th>\n",
       "      <th>Total_Taxes_per_$1000</th>\n",
       "      <th>State_tax_Rank</th>\n",
       "      <th>State_abbreviation</th>\n",
       "    </tr>\n",
       "  </thead>\n",
       "  <tbody>\n",
       "    <tr>\n",
       "      <th>0</th>\n",
       "      <td>130.79</td>\n",
       "      <td>1</td>\n",
       "      <td>NY</td>\n",
       "    </tr>\n",
       "    <tr>\n",
       "      <th>1</th>\n",
       "      <td>130.16</td>\n",
       "      <td>2</td>\n",
       "      <td>ME</td>\n",
       "    </tr>\n",
       "    <tr>\n",
       "      <th>2</th>\n",
       "      <td>121.97</td>\n",
       "      <td>3</td>\n",
       "      <td>WY</td>\n",
       "    </tr>\n",
       "    <tr>\n",
       "      <th>3</th>\n",
       "      <td>120.62</td>\n",
       "      <td>4</td>\n",
       "      <td>HI</td>\n",
       "    </tr>\n",
       "    <tr>\n",
       "      <th>4</th>\n",
       "      <td>117.26</td>\n",
       "      <td>5</td>\n",
       "      <td>WI</td>\n",
       "    </tr>\n",
       "    <tr>\n",
       "      <th>5</th>\n",
       "      <td>113.63</td>\n",
       "      <td>6</td>\n",
       "      <td>RI</td>\n",
       "    </tr>\n",
       "    <tr>\n",
       "      <th>6</th>\n",
       "      <td>113.14</td>\n",
       "      <td>7</td>\n",
       "      <td>MN</td>\n",
       "    </tr>\n",
       "    <tr>\n",
       "      <th>7</th>\n",
       "      <td>111.68</td>\n",
       "      <td>8</td>\n",
       "      <td>WV</td>\n",
       "    </tr>\n",
       "    <tr>\n",
       "      <th>8</th>\n",
       "      <td>111.45</td>\n",
       "      <td>9</td>\n",
       "      <td>NM</td>\n",
       "    </tr>\n",
       "    <tr>\n",
       "      <th>9</th>\n",
       "      <td>111.26</td>\n",
       "      <td>10</td>\n",
       "      <td>LA</td>\n",
       "    </tr>\n",
       "    <tr>\n",
       "      <th>10</th>\n",
       "      <td>110.96</td>\n",
       "      <td>11</td>\n",
       "      <td>OH</td>\n",
       "    </tr>\n",
       "    <tr>\n",
       "      <th>11</th>\n",
       "      <td>110.60</td>\n",
       "      <td>12</td>\n",
       "      <td>VT</td>\n",
       "    </tr>\n",
       "    <tr>\n",
       "      <th>12</th>\n",
       "      <td>108.39</td>\n",
       "      <td>13</td>\n",
       "      <td>UT</td>\n",
       "    </tr>\n",
       "    <tr>\n",
       "      <th>13</th>\n",
       "      <td>107.71</td>\n",
       "      <td>14</td>\n",
       "      <td>NE</td>\n",
       "    </tr>\n",
       "    <tr>\n",
       "      <th>14</th>\n",
       "      <td>107.24</td>\n",
       "      <td>15</td>\n",
       "      <td>DE</td>\n",
       "    </tr>\n",
       "    <tr>\n",
       "      <th>15</th>\n",
       "      <td>106.22</td>\n",
       "      <td>16</td>\n",
       "      <td>KY</td>\n",
       "    </tr>\n",
       "    <tr>\n",
       "      <th>16</th>\n",
       "      <td>106.01</td>\n",
       "      <td>17</td>\n",
       "      <td>CA</td>\n",
       "    </tr>\n",
       "    <tr>\n",
       "      <th>17</th>\n",
       "      <td>105.19</td>\n",
       "      <td>18</td>\n",
       "      <td>ND</td>\n",
       "    </tr>\n",
       "    <tr>\n",
       "      <th>18</th>\n",
       "      <td>104.47</td>\n",
       "      <td>19</td>\n",
       "      <td>AZ</td>\n",
       "    </tr>\n",
       "    <tr>\n",
       "      <th>19</th>\n",
       "      <td>104.42</td>\n",
       "      <td>20</td>\n",
       "      <td>MD</td>\n",
       "    </tr>\n",
       "    <tr>\n",
       "      <th>20</th>\n",
       "      <td>104.20</td>\n",
       "      <td>21</td>\n",
       "      <td>NJ</td>\n",
       "    </tr>\n",
       "    <tr>\n",
       "      <th>21</th>\n",
       "      <td>104.00</td>\n",
       "      <td>22</td>\n",
       "      <td>AR</td>\n",
       "    </tr>\n",
       "    <tr>\n",
       "      <th>22</th>\n",
       "      <td>103.92</td>\n",
       "      <td>23</td>\n",
       "      <td>MS</td>\n",
       "    </tr>\n",
       "    <tr>\n",
       "      <th>23</th>\n",
       "      <td>103.85</td>\n",
       "      <td>24</td>\n",
       "      <td>IA</td>\n",
       "    </tr>\n",
       "    <tr>\n",
       "      <th>24</th>\n",
       "      <td>103.83</td>\n",
       "      <td>25</td>\n",
       "      <td>MI</td>\n",
       "    </tr>\n",
       "    <tr>\n",
       "      <th>25</th>\n",
       "      <td>103.66</td>\n",
       "      <td>26</td>\n",
       "      <td>KS</td>\n",
       "    </tr>\n",
       "    <tr>\n",
       "      <th>26</th>\n",
       "      <td>103.56</td>\n",
       "      <td>27</td>\n",
       "      <td>CT</td>\n",
       "    </tr>\n",
       "    <tr>\n",
       "      <th>27</th>\n",
       "      <td>102.76</td>\n",
       "      <td>28</td>\n",
       "      <td>AK</td>\n",
       "    </tr>\n",
       "    <tr>\n",
       "      <th>28</th>\n",
       "      <td>101.31</td>\n",
       "      <td>29</td>\n",
       "      <td>IL</td>\n",
       "    </tr>\n",
       "    <tr>\n",
       "      <th>29</th>\n",
       "      <td>101.20</td>\n",
       "      <td>30</td>\n",
       "      <td>NV</td>\n",
       "    </tr>\n",
       "    <tr>\n",
       "      <th>30</th>\n",
       "      <td>100.91</td>\n",
       "      <td>31</td>\n",
       "      <td>PA</td>\n",
       "    </tr>\n",
       "    <tr>\n",
       "      <th>31</th>\n",
       "      <td>100.90</td>\n",
       "      <td>32</td>\n",
       "      <td>WA</td>\n",
       "    </tr>\n",
       "    <tr>\n",
       "      <th>32</th>\n",
       "      <td>100.39</td>\n",
       "      <td>33</td>\n",
       "      <td>IN</td>\n",
       "    </tr>\n",
       "    <tr>\n",
       "      <th>33</th>\n",
       "      <td>100.36</td>\n",
       "      <td>34</td>\n",
       "      <td>GA</td>\n",
       "    </tr>\n",
       "    <tr>\n",
       "      <th>34</th>\n",
       "      <td>100.17</td>\n",
       "      <td>35</td>\n",
       "      <td>NC</td>\n",
       "    </tr>\n",
       "    <tr>\n",
       "      <th>35</th>\n",
       "      <td>99.84</td>\n",
       "      <td>36</td>\n",
       "      <td>ID</td>\n",
       "    </tr>\n",
       "    <tr>\n",
       "      <th>36</th>\n",
       "      <td>99.53</td>\n",
       "      <td>37</td>\n",
       "      <td>OK</td>\n",
       "    </tr>\n",
       "    <tr>\n",
       "      <th>37</th>\n",
       "      <td>98.05</td>\n",
       "      <td>38</td>\n",
       "      <td>MT</td>\n",
       "    </tr>\n",
       "    <tr>\n",
       "      <th>38</th>\n",
       "      <td>96.06</td>\n",
       "      <td>39</td>\n",
       "      <td>MO</td>\n",
       "    </tr>\n",
       "    <tr>\n",
       "      <th>39</th>\n",
       "      <td>95.87</td>\n",
       "      <td>40</td>\n",
       "      <td>MA</td>\n",
       "    </tr>\n",
       "    <tr>\n",
       "      <th>40</th>\n",
       "      <td>95.82</td>\n",
       "      <td>41</td>\n",
       "      <td>SC</td>\n",
       "    </tr>\n",
       "    <tr>\n",
       "      <th>41</th>\n",
       "      <td>95.49</td>\n",
       "      <td>42</td>\n",
       "      <td>TX</td>\n",
       "    </tr>\n",
       "    <tr>\n",
       "      <th>42</th>\n",
       "      <td>95.18</td>\n",
       "      <td>43</td>\n",
       "      <td>VA</td>\n",
       "    </tr>\n",
       "    <tr>\n",
       "      <th>43</th>\n",
       "      <td>93.74</td>\n",
       "      <td>44</td>\n",
       "      <td>FL</td>\n",
       "    </tr>\n",
       "    <tr>\n",
       "      <th>44</th>\n",
       "      <td>92.30</td>\n",
       "      <td>45</td>\n",
       "      <td>CO</td>\n",
       "    </tr>\n",
       "    <tr>\n",
       "      <th>45</th>\n",
       "      <td>90.93</td>\n",
       "      <td>46</td>\n",
       "      <td>OR</td>\n",
       "    </tr>\n",
       "    <tr>\n",
       "      <th>46</th>\n",
       "      <td>90.37</td>\n",
       "      <td>47</td>\n",
       "      <td>SD</td>\n",
       "    </tr>\n",
       "    <tr>\n",
       "      <th>47</th>\n",
       "      <td>87.58</td>\n",
       "      <td>48</td>\n",
       "      <td>AL</td>\n",
       "    </tr>\n",
       "    <tr>\n",
       "      <th>48</th>\n",
       "      <td>84.65</td>\n",
       "      <td>49</td>\n",
       "      <td>NH</td>\n",
       "    </tr>\n",
       "    <tr>\n",
       "      <th>49</th>\n",
       "      <td>83.89</td>\n",
       "      <td>50</td>\n",
       "      <td>TN</td>\n",
       "    </tr>\n",
       "  </tbody>\n",
       "</table>\n",
       "</div>"
      ],
      "text/plain": [
       "   Total_Taxes_per_$1000 State_tax_Rank State_abbreviation\n",
       "0                 130.79              1                 NY\n",
       "1                 130.16              2                 ME\n",
       "2                 121.97              3                 WY\n",
       "3                 120.62              4                 HI\n",
       "4                 117.26              5                 WI\n",
       "5                 113.63              6                 RI\n",
       "6                 113.14              7                 MN\n",
       "7                 111.68              8                 WV\n",
       "8                 111.45              9                 NM\n",
       "9                 111.26             10                 LA\n",
       "10                110.96             11                 OH\n",
       "11                110.60             12                 VT\n",
       "12                108.39             13                 UT\n",
       "13                107.71             14                 NE\n",
       "14                107.24             15                 DE\n",
       "15                106.22             16                 KY\n",
       "16                106.01             17                 CA\n",
       "17                105.19             18                 ND\n",
       "18                104.47             19                 AZ\n",
       "19                104.42             20                 MD\n",
       "20                104.20             21                 NJ\n",
       "21                104.00             22                 AR\n",
       "22                103.92             23                 MS\n",
       "23                103.85             24                 IA\n",
       "24                103.83             25                 MI\n",
       "25                103.66             26                 KS\n",
       "26                103.56             27                 CT\n",
       "27                102.76             28                 AK\n",
       "28                101.31             29                 IL\n",
       "29                101.20             30                 NV\n",
       "30                100.91             31                 PA\n",
       "31                100.90             32                 WA\n",
       "32                100.39             33                 IN\n",
       "33                100.36             34                 GA\n",
       "34                100.17             35                 NC\n",
       "35                 99.84             36                 ID\n",
       "36                 99.53             37                 OK\n",
       "37                 98.05             38                 MT\n",
       "38                 96.06             39                 MO\n",
       "39                 95.87             40                 MA\n",
       "40                 95.82             41                 SC\n",
       "41                 95.49             42                 TX\n",
       "42                 95.18             43                 VA\n",
       "43                 93.74             44                 FL\n",
       "44                 92.30             45                 CO\n",
       "45                 90.93             46                 OR\n",
       "46                 90.37             47                 SD\n",
       "47                 87.58             48                 AL\n",
       "48                 84.65             49                 NH\n",
       "49                 83.89             50                 TN"
      ]
     },
     "execution_count": 50,
     "metadata": {},
     "output_type": "execute_result"
    }
   ],
   "source": [
    "tax_df = tax_df[['Total_Taxes_per_$1000','State_tax_Rank','State_abbreviation']]\n",
    "tax_df"
   ]
  },
  {
   "cell_type": "markdown",
   "id": "8ede2018",
   "metadata": {},
   "source": [
    "The website data looks good."
   ]
  },
  {
   "cell_type": "markdown",
   "id": "c9d93904",
   "metadata": {},
   "source": [
    "# Milestone 4 - Connecting to an API/Pulling in the Data and Cleaning/Formatting"
   ]
  },
  {
   "cell_type": "markdown",
   "id": "7f860fe0",
   "metadata": {},
   "source": [
    "## API Description"
   ]
  },
  {
   "cell_type": "markdown",
   "id": "26f5a232",
   "metadata": {},
   "source": [
    "Fredapi is a Python API for the FRED data provided by the Federal Reserve Bank of St. Louis. fredapi provides a wrapper in python to the FRED web service, and also provides several conveninent methods for parsing and analyzing point-in-time data."
   ]
  },
  {
   "cell_type": "markdown",
   "id": "d8225c10",
   "metadata": {},
   "source": [
    "## Connection to the API"
   ]
  },
  {
   "cell_type": "code",
   "execution_count": 51,
   "id": "9b52634e",
   "metadata": {},
   "outputs": [],
   "source": [
    "# Loading the fred_api key.\n",
    "with open('D:/Training/Bellevue/Data Preparation/Data/fred_api_key.json') as f:\n",
    "    keys = json.load(f)\n",
    "    fred_api_key = keys['fred_api_key']"
   ]
  },
  {
   "cell_type": "code",
   "execution_count": 52,
   "id": "c7b32c78",
   "metadata": {},
   "outputs": [
    {
     "data": {
      "text/plain": [
       "<fredapi.fred.Fred at 0x1dd1ba3cad0>"
      ]
     },
     "execution_count": 52,
     "metadata": {},
     "output_type": "execute_result"
    }
   ],
   "source": [
    "# Connecting to the API using the API key.\n",
    "fred = fa.Fred(api_key=fred_api_key)\n",
    "fred"
   ]
  },
  {
   "cell_type": "markdown",
   "id": "bea5229b",
   "metadata": {},
   "source": [
    "Connection to the API was successful."
   ]
  },
  {
   "cell_type": "markdown",
   "id": "eb7e4942",
   "metadata": {},
   "source": [
    "## Pulling the necessary variables."
   ]
  },
  {
   "cell_type": "code",
   "execution_count": 53,
   "id": "23278d18",
   "metadata": {},
   "outputs": [],
   "source": [
    "# Pulling unemployment rate(UNRATE)\n",
    "unrate = fred.get_series('UNRATE') \n",
    "unrate.name = 'unrate'\n",
    "# Pulling Case-Shiller U.S. National Home Price Index (HPI)\n",
    "CSUSHPINSA = fred.get_series('CSUSHPINSA') \n",
    "CSUSHPINSA.name ='CSUSHPINSA'\n",
    "# Pulling  Consumer Price Index(CPI)\n",
    "CPALTT01USM657N = fred.get_series('CPALTT01USM657N') \n",
    "CPALTT01USM657N.name = 'CPALTT01USM657N'"
   ]
  },
  {
   "cell_type": "markdown",
   "id": "199b6554",
   "metadata": {},
   "source": [
    "##  Data transformation and/or cleansing steps"
   ]
  },
  {
   "cell_type": "markdown",
   "id": "b4d86470",
   "metadata": {},
   "source": [
    "    Step 1 : Merging the three variables into a pandas dataframe."
   ]
  },
  {
   "cell_type": "code",
   "execution_count": 54,
   "id": "562347d3",
   "metadata": {},
   "outputs": [
    {
     "data": {
      "text/html": [
       "<div>\n",
       "<style scoped>\n",
       "    .dataframe tbody tr th:only-of-type {\n",
       "        vertical-align: middle;\n",
       "    }\n",
       "\n",
       "    .dataframe tbody tr th {\n",
       "        vertical-align: top;\n",
       "    }\n",
       "\n",
       "    .dataframe thead th {\n",
       "        text-align: right;\n",
       "    }\n",
       "</style>\n",
       "<table border=\"1\" class=\"dataframe\">\n",
       "  <thead>\n",
       "    <tr style=\"text-align: right;\">\n",
       "      <th></th>\n",
       "      <th>unrate</th>\n",
       "      <th>CSUSHPINSA</th>\n",
       "      <th>CPALTT01USM657N</th>\n",
       "    </tr>\n",
       "  </thead>\n",
       "  <tbody>\n",
       "    <tr>\n",
       "      <th>1975-01-01</th>\n",
       "      <td>8.1</td>\n",
       "      <td>NaN</td>\n",
       "      <td>0.385356</td>\n",
       "    </tr>\n",
       "    <tr>\n",
       "      <th>1975-02-01</th>\n",
       "      <td>8.1</td>\n",
       "      <td>NaN</td>\n",
       "      <td>0.767754</td>\n",
       "    </tr>\n",
       "    <tr>\n",
       "      <th>1975-03-01</th>\n",
       "      <td>8.6</td>\n",
       "      <td>NaN</td>\n",
       "      <td>0.380952</td>\n",
       "    </tr>\n",
       "    <tr>\n",
       "      <th>1975-04-01</th>\n",
       "      <td>8.8</td>\n",
       "      <td>NaN</td>\n",
       "      <td>0.379507</td>\n",
       "    </tr>\n",
       "    <tr>\n",
       "      <th>1975-05-01</th>\n",
       "      <td>9.0</td>\n",
       "      <td>NaN</td>\n",
       "      <td>0.567108</td>\n",
       "    </tr>\n",
       "  </tbody>\n",
       "</table>\n",
       "</div>"
      ],
      "text/plain": [
       "            unrate  CSUSHPINSA  CPALTT01USM657N\n",
       "1975-01-01     8.1         NaN         0.385356\n",
       "1975-02-01     8.1         NaN         0.767754\n",
       "1975-03-01     8.6         NaN         0.380952\n",
       "1975-04-01     8.8         NaN         0.379507\n",
       "1975-05-01     9.0         NaN         0.567108"
      ]
     },
     "execution_count": 54,
     "metadata": {},
     "output_type": "execute_result"
    }
   ],
   "source": [
    "# Merging UNRATE and HPI\n",
    "api_data = pd.merge(unrate,CSUSHPINSA, left_index= True, right_index=True)\n",
    "\n",
    "# adding the CPI to the two variables.\n",
    "api_data = pd.merge(api_data,CPALTT01USM657N, left_index= True, right_index=True)\n",
    "api_data.head()"
   ]
  },
  {
   "cell_type": "markdown",
   "id": "edd975f1",
   "metadata": {},
   "source": [
    "    Step 2 : Replacing headers."
   ]
  },
  {
   "cell_type": "code",
   "execution_count": 55,
   "id": "630f296a",
   "metadata": {},
   "outputs": [
    {
     "data": {
      "text/html": [
       "<div>\n",
       "<style scoped>\n",
       "    .dataframe tbody tr th:only-of-type {\n",
       "        vertical-align: middle;\n",
       "    }\n",
       "\n",
       "    .dataframe tbody tr th {\n",
       "        vertical-align: top;\n",
       "    }\n",
       "\n",
       "    .dataframe thead th {\n",
       "        text-align: right;\n",
       "    }\n",
       "</style>\n",
       "<table border=\"1\" class=\"dataframe\">\n",
       "  <thead>\n",
       "    <tr style=\"text-align: right;\">\n",
       "      <th></th>\n",
       "      <th>unemployment_rate</th>\n",
       "      <th>home_price_index</th>\n",
       "      <th>consumer_price_index</th>\n",
       "    </tr>\n",
       "  </thead>\n",
       "  <tbody>\n",
       "    <tr>\n",
       "      <th>1975-01-01</th>\n",
       "      <td>8.1</td>\n",
       "      <td>NaN</td>\n",
       "      <td>0.385356</td>\n",
       "    </tr>\n",
       "    <tr>\n",
       "      <th>1975-02-01</th>\n",
       "      <td>8.1</td>\n",
       "      <td>NaN</td>\n",
       "      <td>0.767754</td>\n",
       "    </tr>\n",
       "    <tr>\n",
       "      <th>1975-03-01</th>\n",
       "      <td>8.6</td>\n",
       "      <td>NaN</td>\n",
       "      <td>0.380952</td>\n",
       "    </tr>\n",
       "    <tr>\n",
       "      <th>1975-04-01</th>\n",
       "      <td>8.8</td>\n",
       "      <td>NaN</td>\n",
       "      <td>0.379507</td>\n",
       "    </tr>\n",
       "    <tr>\n",
       "      <th>1975-05-01</th>\n",
       "      <td>9.0</td>\n",
       "      <td>NaN</td>\n",
       "      <td>0.567108</td>\n",
       "    </tr>\n",
       "  </tbody>\n",
       "</table>\n",
       "</div>"
      ],
      "text/plain": [
       "            unemployment_rate  home_price_index  consumer_price_index\n",
       "1975-01-01                8.1               NaN              0.385356\n",
       "1975-02-01                8.1               NaN              0.767754\n",
       "1975-03-01                8.6               NaN              0.380952\n",
       "1975-04-01                8.8               NaN              0.379507\n",
       "1975-05-01                9.0               NaN              0.567108"
      ]
     },
     "execution_count": 55,
     "metadata": {},
     "output_type": "execute_result"
    }
   ],
   "source": [
    "# Creating new column names.\n",
    "new_names = ['unemployment_rate','home_price_index','consumer_price_index',]\n",
    "\n",
    "# Applying new column names\n",
    "api_data.columns=new_names\n",
    "api_data.head()"
   ]
  },
  {
   "cell_type": "markdown",
   "id": "6f097293",
   "metadata": {},
   "source": [
    "Renaming columns was successfull."
   ]
  },
  {
   "cell_type": "markdown",
   "id": "cccd22f2",
   "metadata": {},
   "source": [
    "    Step 3: Naming the index."
   ]
  },
  {
   "cell_type": "code",
   "execution_count": 56,
   "id": "af957f2e",
   "metadata": {},
   "outputs": [
    {
     "data": {
      "text/html": [
       "<div>\n",
       "<style scoped>\n",
       "    .dataframe tbody tr th:only-of-type {\n",
       "        vertical-align: middle;\n",
       "    }\n",
       "\n",
       "    .dataframe tbody tr th {\n",
       "        vertical-align: top;\n",
       "    }\n",
       "\n",
       "    .dataframe thead th {\n",
       "        text-align: right;\n",
       "    }\n",
       "</style>\n",
       "<table border=\"1\" class=\"dataframe\">\n",
       "  <thead>\n",
       "    <tr style=\"text-align: right;\">\n",
       "      <th></th>\n",
       "      <th>unemployment_rate</th>\n",
       "      <th>home_price_index</th>\n",
       "      <th>consumer_price_index</th>\n",
       "    </tr>\n",
       "    <tr>\n",
       "      <th>year</th>\n",
       "      <th></th>\n",
       "      <th></th>\n",
       "      <th></th>\n",
       "    </tr>\n",
       "  </thead>\n",
       "  <tbody>\n",
       "    <tr>\n",
       "      <th>1975-01-01</th>\n",
       "      <td>8.1</td>\n",
       "      <td>NaN</td>\n",
       "      <td>0.385356</td>\n",
       "    </tr>\n",
       "    <tr>\n",
       "      <th>1975-02-01</th>\n",
       "      <td>8.1</td>\n",
       "      <td>NaN</td>\n",
       "      <td>0.767754</td>\n",
       "    </tr>\n",
       "    <tr>\n",
       "      <th>1975-03-01</th>\n",
       "      <td>8.6</td>\n",
       "      <td>NaN</td>\n",
       "      <td>0.380952</td>\n",
       "    </tr>\n",
       "    <tr>\n",
       "      <th>1975-04-01</th>\n",
       "      <td>8.8</td>\n",
       "      <td>NaN</td>\n",
       "      <td>0.379507</td>\n",
       "    </tr>\n",
       "    <tr>\n",
       "      <th>1975-05-01</th>\n",
       "      <td>9.0</td>\n",
       "      <td>NaN</td>\n",
       "      <td>0.567108</td>\n",
       "    </tr>\n",
       "  </tbody>\n",
       "</table>\n",
       "</div>"
      ],
      "text/plain": [
       "            unemployment_rate  home_price_index  consumer_price_index\n",
       "year                                                                 \n",
       "1975-01-01                8.1               NaN              0.385356\n",
       "1975-02-01                8.1               NaN              0.767754\n",
       "1975-03-01                8.6               NaN              0.380952\n",
       "1975-04-01                8.8               NaN              0.379507\n",
       "1975-05-01                9.0               NaN              0.567108"
      ]
     },
     "execution_count": 56,
     "metadata": {},
     "output_type": "execute_result"
    }
   ],
   "source": [
    "# Naming the index as year.\n",
    "api_data.index.name = 'year'\n",
    "api_data.head()"
   ]
  },
  {
   "cell_type": "markdown",
   "id": "09414991",
   "metadata": {},
   "source": [
    "The index was successfully named."
   ]
  },
  {
   "cell_type": "markdown",
   "id": "b5e2d45e",
   "metadata": {},
   "source": [
    "    Step 4: Resetting the index."
   ]
  },
  {
   "cell_type": "code",
   "execution_count": 57,
   "id": "c31fc6a8",
   "metadata": {},
   "outputs": [
    {
     "data": {
      "text/html": [
       "<div>\n",
       "<style scoped>\n",
       "    .dataframe tbody tr th:only-of-type {\n",
       "        vertical-align: middle;\n",
       "    }\n",
       "\n",
       "    .dataframe tbody tr th {\n",
       "        vertical-align: top;\n",
       "    }\n",
       "\n",
       "    .dataframe thead th {\n",
       "        text-align: right;\n",
       "    }\n",
       "</style>\n",
       "<table border=\"1\" class=\"dataframe\">\n",
       "  <thead>\n",
       "    <tr style=\"text-align: right;\">\n",
       "      <th></th>\n",
       "      <th>year</th>\n",
       "      <th>unemployment_rate</th>\n",
       "      <th>home_price_index</th>\n",
       "      <th>consumer_price_index</th>\n",
       "    </tr>\n",
       "  </thead>\n",
       "  <tbody>\n",
       "    <tr>\n",
       "      <th>0</th>\n",
       "      <td>1975-01-01</td>\n",
       "      <td>8.1</td>\n",
       "      <td>NaN</td>\n",
       "      <td>0.385356</td>\n",
       "    </tr>\n",
       "    <tr>\n",
       "      <th>1</th>\n",
       "      <td>1975-02-01</td>\n",
       "      <td>8.1</td>\n",
       "      <td>NaN</td>\n",
       "      <td>0.767754</td>\n",
       "    </tr>\n",
       "    <tr>\n",
       "      <th>2</th>\n",
       "      <td>1975-03-01</td>\n",
       "      <td>8.6</td>\n",
       "      <td>NaN</td>\n",
       "      <td>0.380952</td>\n",
       "    </tr>\n",
       "    <tr>\n",
       "      <th>3</th>\n",
       "      <td>1975-04-01</td>\n",
       "      <td>8.8</td>\n",
       "      <td>NaN</td>\n",
       "      <td>0.379507</td>\n",
       "    </tr>\n",
       "    <tr>\n",
       "      <th>4</th>\n",
       "      <td>1975-05-01</td>\n",
       "      <td>9.0</td>\n",
       "      <td>NaN</td>\n",
       "      <td>0.567108</td>\n",
       "    </tr>\n",
       "  </tbody>\n",
       "</table>\n",
       "</div>"
      ],
      "text/plain": [
       "        year  unemployment_rate  home_price_index  consumer_price_index\n",
       "0 1975-01-01                8.1               NaN              0.385356\n",
       "1 1975-02-01                8.1               NaN              0.767754\n",
       "2 1975-03-01                8.6               NaN              0.380952\n",
       "3 1975-04-01                8.8               NaN              0.379507\n",
       "4 1975-05-01                9.0               NaN              0.567108"
      ]
     },
     "execution_count": 57,
     "metadata": {},
     "output_type": "execute_result"
    }
   ],
   "source": [
    "# Resetting the index\n",
    "api_data  = api_data .reset_index()\n",
    "api_data .head()"
   ]
  },
  {
   "cell_type": "markdown",
   "id": "803d14fc",
   "metadata": {},
   "source": [
    "The index was successfully reset"
   ]
  },
  {
   "cell_type": "markdown",
   "id": "64ecfc78",
   "metadata": {},
   "source": [
    "    Step 5: Filter out the necessary data by date."
   ]
  },
  {
   "cell_type": "markdown",
   "id": "ae9cd1b6",
   "metadata": {},
   "source": [
    "Api data will have to be merged later with the flat file created in milestone 2. The flat file has the origination_date column with dates ranging from 1998-12-01 to 2011-02-01. These dates will be used to merge the api_data with the flat file on the year column. To align with the flat file, the api data will also be filtered such that it only includes observations ranging from 1998-12-01 to 2011-02-01."
   ]
  },
  {
   "cell_type": "code",
   "execution_count": 58,
   "id": "b32e92e7",
   "metadata": {},
   "outputs": [
    {
     "data": {
      "text/html": [
       "<div>\n",
       "<style scoped>\n",
       "    .dataframe tbody tr th:only-of-type {\n",
       "        vertical-align: middle;\n",
       "    }\n",
       "\n",
       "    .dataframe tbody tr th {\n",
       "        vertical-align: top;\n",
       "    }\n",
       "\n",
       "    .dataframe thead th {\n",
       "        text-align: right;\n",
       "    }\n",
       "</style>\n",
       "<table border=\"1\" class=\"dataframe\">\n",
       "  <thead>\n",
       "    <tr style=\"text-align: right;\">\n",
       "      <th></th>\n",
       "      <th>year</th>\n",
       "      <th>unemployment_rate</th>\n",
       "      <th>home_price_index</th>\n",
       "      <th>consumer_price_index</th>\n",
       "    </tr>\n",
       "  </thead>\n",
       "  <tbody>\n",
       "    <tr>\n",
       "      <th>287</th>\n",
       "      <td>1998-12-01</td>\n",
       "      <td>4.4</td>\n",
       "      <td>92.443</td>\n",
       "      <td>-0.060976</td>\n",
       "    </tr>\n",
       "    <tr>\n",
       "      <th>288</th>\n",
       "      <td>1999-01-01</td>\n",
       "      <td>4.3</td>\n",
       "      <td>92.714</td>\n",
       "      <td>0.244051</td>\n",
       "    </tr>\n",
       "    <tr>\n",
       "      <th>289</th>\n",
       "      <td>1999-02-01</td>\n",
       "      <td>4.4</td>\n",
       "      <td>92.981</td>\n",
       "      <td>0.121729</td>\n",
       "    </tr>\n",
       "    <tr>\n",
       "      <th>290</th>\n",
       "      <td>1999-03-01</td>\n",
       "      <td>4.2</td>\n",
       "      <td>93.611</td>\n",
       "      <td>0.303951</td>\n",
       "    </tr>\n",
       "    <tr>\n",
       "      <th>291</th>\n",
       "      <td>1999-04-01</td>\n",
       "      <td>4.3</td>\n",
       "      <td>94.436</td>\n",
       "      <td>0.727273</td>\n",
       "    </tr>\n",
       "    <tr>\n",
       "      <th>...</th>\n",
       "      <td>...</td>\n",
       "      <td>...</td>\n",
       "      <td>...</td>\n",
       "      <td>...</td>\n",
       "    </tr>\n",
       "    <tr>\n",
       "      <th>429</th>\n",
       "      <td>2010-10-01</td>\n",
       "      <td>9.4</td>\n",
       "      <td>143.133</td>\n",
       "      <td>0.124520</td>\n",
       "    </tr>\n",
       "    <tr>\n",
       "      <th>430</th>\n",
       "      <td>2010-11-01</td>\n",
       "      <td>9.8</td>\n",
       "      <td>141.823</td>\n",
       "      <td>0.042065</td>\n",
       "    </tr>\n",
       "    <tr>\n",
       "      <th>431</th>\n",
       "      <td>2010-12-01</td>\n",
       "      <td>9.3</td>\n",
       "      <td>140.632</td>\n",
       "      <td>0.171844</td>\n",
       "    </tr>\n",
       "    <tr>\n",
       "      <th>432</th>\n",
       "      <td>2011-01-01</td>\n",
       "      <td>9.1</td>\n",
       "      <td>139.040</td>\n",
       "      <td>0.476323</td>\n",
       "    </tr>\n",
       "    <tr>\n",
       "      <th>433</th>\n",
       "      <td>2011-02-01</td>\n",
       "      <td>9.0</td>\n",
       "      <td>137.735</td>\n",
       "      <td>0.493137</td>\n",
       "    </tr>\n",
       "  </tbody>\n",
       "</table>\n",
       "<p>147 rows × 4 columns</p>\n",
       "</div>"
      ],
      "text/plain": [
       "          year  unemployment_rate  home_price_index  consumer_price_index\n",
       "287 1998-12-01                4.4            92.443             -0.060976\n",
       "288 1999-01-01                4.3            92.714              0.244051\n",
       "289 1999-02-01                4.4            92.981              0.121729\n",
       "290 1999-03-01                4.2            93.611              0.303951\n",
       "291 1999-04-01                4.3            94.436              0.727273\n",
       "..         ...                ...               ...                   ...\n",
       "429 2010-10-01                9.4           143.133              0.124520\n",
       "430 2010-11-01                9.8           141.823              0.042065\n",
       "431 2010-12-01                9.3           140.632              0.171844\n",
       "432 2011-01-01                9.1           139.040              0.476323\n",
       "433 2011-02-01                9.0           137.735              0.493137\n",
       "\n",
       "[147 rows x 4 columns]"
      ]
     },
     "execution_count": 58,
     "metadata": {},
     "output_type": "execute_result"
    }
   ],
   "source": [
    "# filtering out the necessary data by date.\n",
    "api_data = api_data.query(\"year >= '1998-12-01'and year <= '2011-02-01'\")\n",
    "api_data"
   ]
  },
  {
   "cell_type": "markdown",
   "id": "18e8feb1",
   "metadata": {},
   "source": [
    "    Step 6: Binning unemployement rate based on the midpoint."
   ]
  },
  {
   "cell_type": "code",
   "execution_count": 59,
   "id": "b2399048",
   "metadata": {},
   "outputs": [],
   "source": [
    "#calculate the midpoint(median) for points column. Median is chosen because its robust to impact of outliers.\n",
    "midpoint = api_data['unemployment_rate'].quantile([0.25, 0.5, 0.75])[0.5]"
   ]
  },
  {
   "cell_type": "code",
   "execution_count": 60,
   "id": "02b8556b",
   "metadata": {},
   "outputs": [],
   "source": [
    "# Mapping function to create ranges(or buckets).\n",
    "def mapping(rate):\n",
    "    # This function divides columns in two buckets(high and Low) with midpoint being the cut-off.\n",
    "    if rate >=midpoint:\n",
    "        return \"High\"\n",
    "    elif rate <midpoint:\n",
    "        return \"Low\"\n",
    "    else:\n",
    "        return \"Invalid\""
   ]
  },
  {
   "cell_type": "code",
   "execution_count": 61,
   "id": "536d4fec",
   "metadata": {},
   "outputs": [
    {
     "data": {
      "text/plain": [
       "unemployment_buckets\n",
       "High    75\n",
       "Low     72\n",
       "Name: count, dtype: int64"
      ]
     },
     "execution_count": 61,
     "metadata": {},
     "output_type": "execute_result"
    }
   ],
   "source": [
    "# Applying the mapping  function.\n",
    "api_data['unemployment_buckets'] = api_data['unemployment_rate'].apply(lambda rates: mapping(rates))\n",
    "api_data['unemployment_buckets'].value_counts()"
   ]
  },
  {
   "cell_type": "markdown",
   "id": "c2ba49dc",
   "metadata": {},
   "source": [
    "The unemployement buckets were successfully created."
   ]
  },
  {
   "cell_type": "markdown",
   "id": "4845f376",
   "metadata": {},
   "source": [
    "    Step 7: Binning consumer price index."
   ]
  },
  {
   "cell_type": "code",
   "execution_count": 62,
   "id": "bc4e7892",
   "metadata": {},
   "outputs": [],
   "source": [
    "#calculate the midpoint(median) for points column. Median is chosen because its robust to impact of outliers.\n",
    "midpoint = api_data['consumer_price_index'].quantile([0.25, 0.5, 0.75])[0.5]"
   ]
  },
  {
   "cell_type": "code",
   "execution_count": 63,
   "id": "40b41248",
   "metadata": {},
   "outputs": [
    {
     "data": {
      "text/plain": [
       "consumer_index_buckets\n",
       "High    74\n",
       "Low     73\n",
       "Name: count, dtype: int64"
      ]
     },
     "execution_count": 63,
     "metadata": {},
     "output_type": "execute_result"
    }
   ],
   "source": [
    "# Applying the mapping  function.\n",
    "api_data['consumer_index_buckets'] = api_data['consumer_price_index'].apply(lambda index: mapping(index))\n",
    "api_data['consumer_index_buckets'].value_counts()"
   ]
  },
  {
   "cell_type": "markdown",
   "id": "cc1ccd75",
   "metadata": {},
   "source": [
    "The consumer price index buckets were successfully created."
   ]
  },
  {
   "cell_type": "code",
   "execution_count": 64,
   "id": "432daa5b",
   "metadata": {},
   "outputs": [
    {
     "data": {
      "text/plain": [
       "year                      0\n",
       "unemployment_rate         0\n",
       "home_price_index          0\n",
       "consumer_price_index      0\n",
       "unemployment_buckets      0\n",
       "consumer_index_buckets    0\n",
       "dtype: int64"
      ]
     },
     "execution_count": 64,
     "metadata": {},
     "output_type": "execute_result"
    }
   ],
   "source": [
    "# Checking for missings values.\n",
    "missing_values = api_data.isnull().sum()\n",
    "missing_values"
   ]
  },
  {
   "cell_type": "markdown",
   "id": "fa3c6e80",
   "metadata": {},
   "source": [
    "There are no missing values in the api data."
   ]
  },
  {
   "cell_type": "code",
   "execution_count": 65,
   "id": "d5969c1e",
   "metadata": {},
   "outputs": [
    {
     "name": "stdout",
     "output_type": "stream",
     "text": [
      "<class 'pandas.core.frame.DataFrame'>\n",
      "Index: 147 entries, 287 to 433\n",
      "Data columns (total 6 columns):\n",
      " #   Column                  Non-Null Count  Dtype         \n",
      "---  ------                  --------------  -----         \n",
      " 0   year                    147 non-null    datetime64[ns]\n",
      " 1   unemployment_rate       147 non-null    float64       \n",
      " 2   home_price_index        147 non-null    float64       \n",
      " 3   consumer_price_index    147 non-null    float64       \n",
      " 4   unemployment_buckets    147 non-null    object        \n",
      " 5   consumer_index_buckets  147 non-null    object        \n",
      "dtypes: datetime64[ns](1), float64(3), object(2)\n",
      "memory usage: 8.0+ KB\n"
     ]
    }
   ],
   "source": [
    "# Checking the api data information\n",
    "api_data.info()"
   ]
  },
  {
   "cell_type": "markdown",
   "id": "9ea8fe2a",
   "metadata": {},
   "source": [
    "The data types and non-null counts look good."
   ]
  },
  {
   "cell_type": "markdown",
   "id": "2dbcb05d",
   "metadata": {},
   "source": [
    "# Milestone 5 - Merging the Data and Storing in a Database/Visualizing Data"
   ]
  },
  {
   "cell_type": "markdown",
   "id": "d60985f3",
   "metadata": {},
   "source": [
    "## Loading the datasets into SQLLite"
   ]
  },
  {
   "cell_type": "code",
   "execution_count": 66,
   "id": "257a52e1",
   "metadata": {},
   "outputs": [],
   "source": [
    "# Creating the Mortgage database in sqllite\n",
    "connection = sq.connect('Mortgage.db')"
   ]
  },
  {
   "cell_type": "code",
   "execution_count": 67,
   "id": "93357f79",
   "metadata": {},
   "outputs": [],
   "source": [
    "# Creating a  cursor to interact with our database.\n",
    "cursor = connection.cursor()"
   ]
  },
  {
   "cell_type": "markdown",
   "id": "86bbad92",
   "metadata": {},
   "source": [
    "    Step 1: Loading the flat file to the Mortgage database."
   ]
  },
  {
   "cell_type": "code",
   "execution_count": 68,
   "id": "c5dbb34e",
   "metadata": {},
   "outputs": [
    {
     "data": {
      "text/plain": [
       "494615"
      ]
     },
     "execution_count": 68,
     "metadata": {},
     "output_type": "execute_result"
    }
   ],
   "source": [
    "# Creating a table called home_loans in the database using data in the flat file.\n",
    "small_mortgage_df.to_sql('home_loans', connection, if_exists='replace',index=False)"
   ]
  },
  {
   "cell_type": "markdown",
   "id": "607a7487",
   "metadata": {},
   "source": [
    "The flat file has been successfully loaded and, as expected, it has 494615 observations"
   ]
  },
  {
   "cell_type": "markdown",
   "id": "6a7e66d9",
   "metadata": {},
   "source": [
    "    Step 2 : Loading the Website data to the Mortgage database."
   ]
  },
  {
   "cell_type": "code",
   "execution_count": 69,
   "id": "3cd705e5",
   "metadata": {},
   "outputs": [
    {
     "data": {
      "text/plain": [
       "50"
      ]
     },
     "execution_count": 69,
     "metadata": {},
     "output_type": "execute_result"
    }
   ],
   "source": [
    "# Creating a table called state_taxes in database using the website.\n",
    "tax_df.to_sql('state_taxes', connection, if_exists='replace',index=False)"
   ]
  },
  {
   "cell_type": "markdown",
   "id": "1ae60bb7",
   "metadata": {},
   "source": [
    "The website data has been successfully loaded and, as expected, it has 50 observations."
   ]
  },
  {
   "cell_type": "markdown",
   "id": "27337324",
   "metadata": {},
   "source": [
    "    Step 3: Loading the API data to the Mortgage database."
   ]
  },
  {
   "cell_type": "code",
   "execution_count": 70,
   "id": "0585a0e8",
   "metadata": {},
   "outputs": [
    {
     "data": {
      "text/plain": [
       "147"
      ]
     },
     "execution_count": 70,
     "metadata": {},
     "output_type": "execute_result"
    }
   ],
   "source": [
    "# Creating a table called macro_variables in the database using API data.\n",
    "api_data.to_sql('macro_variables', connection, if_exists='replace',index=False)"
   ]
  },
  {
   "cell_type": "markdown",
   "id": "5e65608d",
   "metadata": {},
   "source": [
    "The API data has been successfully loaded and, as expected, it has 147 observations."
   ]
  },
  {
   "cell_type": "markdown",
   "id": "534a388b",
   "metadata": {},
   "source": [
    "    Step 4 : Checking if all tables are present in the database."
   ]
  },
  {
   "cell_type": "code",
   "execution_count": 71,
   "id": "73d9f4c0",
   "metadata": {},
   "outputs": [],
   "source": [
    "# Creating a SQLite query with which to search a list of all tables which are present in database.\n",
    "sql_query = \"\"\"SELECT name FROM sqlite_master  \n",
    "  WHERE type='table';\"\"\""
   ]
  },
  {
   "cell_type": "code",
   "execution_count": 72,
   "id": "948f38f2",
   "metadata": {},
   "outputs": [
    {
     "data": {
      "text/plain": [
       "<sqlite3.Cursor at 0x1dd1bf28140>"
      ]
     },
     "execution_count": 72,
     "metadata": {},
     "output_type": "execute_result"
    }
   ],
   "source": [
    "# Executing the sql_querry \n",
    "cursor.execute(sql_query)"
   ]
  },
  {
   "cell_type": "code",
   "execution_count": 73,
   "id": "9bf7c395",
   "metadata": {},
   "outputs": [
    {
     "name": "stdout",
     "output_type": "stream",
     "text": [
      "[('home_loans',), ('state_taxes',), ('macro_variables',)]\n"
     ]
    }
   ],
   "source": [
    "# Sanity check of whether all tables are loaded.\n",
    "print(cursor.fetchall())"
   ]
  },
  {
   "cell_type": "markdown",
   "id": "f0ab94f1",
   "metadata": {},
   "source": [
    "All the datasets were successfully loaded to SQLLite."
   ]
  },
  {
   "cell_type": "markdown",
   "id": "98af57ba",
   "metadata": {},
   "source": [
    " ## Joining the datasets together into one dataset."
   ]
  },
  {
   "cell_type": "code",
   "execution_count": 74,
   "id": "e815c4f1",
   "metadata": {},
   "outputs": [],
   "source": [
    "# Querry to create new table by merging the three loaded data sets.\n",
    "merged_querry = \"\"\"CREATE TABLE merged_data AS SELECT * FROM home_loans t1\n",
    "                                                        LEFT JOIN state_taxes t2 ON t2.State_abbreviation = t1.PROPERTY_STATE\n",
    "                                                        LEFT JOIN macro_variables t3 ON t3.year = t1.Origination_date\n",
    "                \"\"\"\n"
   ]
  },
  {
   "cell_type": "code",
   "execution_count": 75,
   "id": "487ca57f",
   "metadata": {},
   "outputs": [
    {
     "data": {
      "text/plain": [
       "<sqlite3.Cursor at 0x1dd1bf28140>"
      ]
     },
     "execution_count": 75,
     "metadata": {},
     "output_type": "execute_result"
    }
   ],
   "source": [
    "# Executing the command to create the table.\n",
    "cursor.execute(merged_querry)"
   ]
  },
  {
   "cell_type": "code",
   "execution_count": 76,
   "id": "13e7c4e6",
   "metadata": {},
   "outputs": [],
   "source": [
    "# Reading the merged data into a Pandas dataframe.\n",
    "merged_data = pd.read_sql('SELECT * FROM merged_data', connection)"
   ]
  },
  {
   "cell_type": "code",
   "execution_count": 77,
   "id": "87da9de1",
   "metadata": {},
   "outputs": [],
   "source": [
    "# Closing connection to the database\n",
    "connection.close()"
   ]
  },
  {
   "cell_type": "code",
   "execution_count": 78,
   "id": "05125f86",
   "metadata": {},
   "outputs": [
    {
     "data": {
      "text/plain": [
       "(494615, 32)"
      ]
     },
     "execution_count": 78,
     "metadata": {},
     "output_type": "execute_result"
    }
   ],
   "source": [
    "# Checking the shape\n",
    "merged_data.shape"
   ]
  },
  {
   "cell_type": "code",
   "execution_count": 79,
   "id": "8f38dbf3",
   "metadata": {},
   "outputs": [
    {
     "name": "stdout",
     "output_type": "stream",
     "text": [
      "<class 'pandas.core.frame.DataFrame'>\n",
      "RangeIndex: 494615 entries, 0 to 494614\n",
      "Data columns (total 32 columns):\n",
      " #   Column                            Non-Null Count   Dtype  \n",
      "---  ------                            --------------   -----  \n",
      " 0   CREDIT_SCORE                      494615 non-null  float64\n",
      " 1   FIRST_PAYMENT_DATE                494615 non-null  object \n",
      " 2   MATURITY_DATE                     494615 non-null  object \n",
      " 3   NUMBER_OF_UNITS                   494615 non-null  float64\n",
      " 4   OCCUPANCY_STATUS                  494615 non-null  object \n",
      " 5   ORIGINAL_COMBINED_LOAN_TO_VALUE   494615 non-null  float64\n",
      " 6   ORIGINAL_DEBT_TO_INCOME_RATIO     494615 non-null  float64\n",
      " 7   ORIGINAL_UPB                      494615 non-null  int64  \n",
      " 8   ORIGINAL_LOAN_TO_VALUE            494615 non-null  float64\n",
      " 9   ORIGINAL_INTEREST_RATE            494615 non-null  float64\n",
      " 10  CHANNEL                           494615 non-null  object \n",
      " 11  PREPAYMENT_PENALTY_MORTGAGE_FLAG  494615 non-null  object \n",
      " 12  PRODUCT_TYPE                      494615 non-null  object \n",
      " 13  PROPERTY_STATE                    494615 non-null  object \n",
      " 14  PROPERTY_TYPE                     494615 non-null  object \n",
      " 15  LOAN_PURPOSE                      494615 non-null  object \n",
      " 16  ORIGINAL_LOAN_TERM                494615 non-null  int64  \n",
      " 17  NUMBER_OF_BORROWERS               494615 non-null  float64\n",
      " 18  SELLER_NAME                       494615 non-null  object \n",
      " 19  SERVICER_NAME                     494615 non-null  object \n",
      " 20  PREPAID                           494615 non-null  int64  \n",
      " 21  DELINQUENT                        494615 non-null  int64  \n",
      " 22  Origination_date                  494615 non-null  object \n",
      " 23  Total_Taxes_per_$1000             492927 non-null  object \n",
      " 24  State_tax_Rank                    492927 non-null  object \n",
      " 25  State_abbreviation                492927 non-null  object \n",
      " 26  year                              494615 non-null  object \n",
      " 27  unemployment_rate                 494615 non-null  float64\n",
      " 28  home_price_index                  494615 non-null  float64\n",
      " 29  consumer_price_index              494615 non-null  float64\n",
      " 30  unemployment_buckets              494615 non-null  object \n",
      " 31  consumer_index_buckets            494615 non-null  object \n",
      "dtypes: float64(10), int64(4), object(18)\n",
      "memory usage: 120.8+ MB\n"
     ]
    }
   ],
   "source": [
    "# Checking the information of the merged data.\n",
    "merged_data.info()"
   ]
  },
  {
   "cell_type": "markdown",
   "id": "52c94ea7",
   "metadata": {},
   "source": [
    "Based on the information above, the following final transformations need to be made:\n",
    "\n",
    "- Drop duplicative variables.\n",
    "- Convert date variables from object data type  to datetime data type.\n",
    "- Convert total taxes to float as it has the object data type.\n",
    "- Drop rows with missing values.\n"
   ]
  },
  {
   "cell_type": "markdown",
   "id": "b0cbcc02",
   "metadata": {},
   "source": [
    "    Transformation 1 : Drop duplicative variables"
   ]
  },
  {
   "cell_type": "code",
   "execution_count": 80,
   "id": "2db25fd6",
   "metadata": {},
   "outputs": [],
   "source": [
    "# Drop the year variable since this corresponds to the Origination date variable.\n",
    "merged_data = merged_data.drop(['year'],axis=1)"
   ]
  },
  {
   "cell_type": "code",
   "execution_count": 81,
   "id": "7dfca442",
   "metadata": {},
   "outputs": [],
   "source": [
    "# Drop State_abbreviation since it corresponds to the PROPERTY_STATE variable.\n",
    "merged_data = merged_data.drop(['State_abbreviation'],axis=1)"
   ]
  },
  {
   "cell_type": "markdown",
   "id": "13af4b0d",
   "metadata": {},
   "source": [
    "    Transformation 2 : Convert date variables from object data type to datetime data type."
   ]
  },
  {
   "cell_type": "code",
   "execution_count": 82,
   "id": "efc23622",
   "metadata": {},
   "outputs": [
    {
     "name": "stderr",
     "output_type": "stream",
     "text": [
      "% Complete!: 100%|██████████| 494615/494615 [00:45<00:00, 10782.87it/s]\n"
     ]
    }
   ],
   "source": [
    "# FIRST_PAYMENT_DATE\n",
    "merged_data['FIRST_PAYMENT_DATE'] = merged_data['FIRST_PAYMENT_DATE'].progress_apply(lambda x: pd.to_datetime(str(x),format='ISO8601'))"
   ]
  },
  {
   "cell_type": "code",
   "execution_count": 83,
   "id": "2f3aa95e",
   "metadata": {},
   "outputs": [
    {
     "name": "stderr",
     "output_type": "stream",
     "text": [
      "% Complete!: 100%|██████████| 494615/494615 [00:46<00:00, 10654.95it/s]\n"
     ]
    }
   ],
   "source": [
    "#  MATURITY_DATE\n",
    "merged_data['MATURITY_DATE'] = merged_data['MATURITY_DATE'].progress_apply(lambda x: pd.to_datetime(str(x),format='ISO8601'))"
   ]
  },
  {
   "cell_type": "code",
   "execution_count": 84,
   "id": "7461d326",
   "metadata": {},
   "outputs": [
    {
     "name": "stderr",
     "output_type": "stream",
     "text": [
      "% Complete!: 100%|██████████| 494615/494615 [00:45<00:00, 10843.20it/s]\n"
     ]
    }
   ],
   "source": [
    "# Origination_date\n",
    "merged_data['Origination_date'] = merged_data['Origination_date'].progress_apply(lambda x: pd.to_datetime(str(x),format='ISO8601'))"
   ]
  },
  {
   "cell_type": "markdown",
   "id": "5cb16adb",
   "metadata": {},
   "source": [
    "    Transformation 3 : Convert total taxes to float as it has the object data type"
   ]
  },
  {
   "cell_type": "code",
   "execution_count": 85,
   "id": "08bdf691",
   "metadata": {},
   "outputs": [],
   "source": [
    "# Converting to total taxes to float.\n",
    "merged_data['Total_Taxes_per_$1000'] = pd.to_numeric(merged_data['Total_Taxes_per_$1000'],errors = 'coerce')"
   ]
  },
  {
   "cell_type": "code",
   "execution_count": 86,
   "id": "aa360fdb",
   "metadata": {},
   "outputs": [
    {
     "name": "stdout",
     "output_type": "stream",
     "text": [
      "<class 'pandas.core.frame.DataFrame'>\n",
      "RangeIndex: 494615 entries, 0 to 494614\n",
      "Data columns (total 30 columns):\n",
      " #   Column                            Non-Null Count   Dtype         \n",
      "---  ------                            --------------   -----         \n",
      " 0   CREDIT_SCORE                      494615 non-null  float64       \n",
      " 1   FIRST_PAYMENT_DATE                494615 non-null  datetime64[ns]\n",
      " 2   MATURITY_DATE                     494615 non-null  datetime64[ns]\n",
      " 3   NUMBER_OF_UNITS                   494615 non-null  float64       \n",
      " 4   OCCUPANCY_STATUS                  494615 non-null  object        \n",
      " 5   ORIGINAL_COMBINED_LOAN_TO_VALUE   494615 non-null  float64       \n",
      " 6   ORIGINAL_DEBT_TO_INCOME_RATIO     494615 non-null  float64       \n",
      " 7   ORIGINAL_UPB                      494615 non-null  int64         \n",
      " 8   ORIGINAL_LOAN_TO_VALUE            494615 non-null  float64       \n",
      " 9   ORIGINAL_INTEREST_RATE            494615 non-null  float64       \n",
      " 10  CHANNEL                           494615 non-null  object        \n",
      " 11  PREPAYMENT_PENALTY_MORTGAGE_FLAG  494615 non-null  object        \n",
      " 12  PRODUCT_TYPE                      494615 non-null  object        \n",
      " 13  PROPERTY_STATE                    494615 non-null  object        \n",
      " 14  PROPERTY_TYPE                     494615 non-null  object        \n",
      " 15  LOAN_PURPOSE                      494615 non-null  object        \n",
      " 16  ORIGINAL_LOAN_TERM                494615 non-null  int64         \n",
      " 17  NUMBER_OF_BORROWERS               494615 non-null  float64       \n",
      " 18  SELLER_NAME                       494615 non-null  object        \n",
      " 19  SERVICER_NAME                     494615 non-null  object        \n",
      " 20  PREPAID                           494615 non-null  int64         \n",
      " 21  DELINQUENT                        494615 non-null  int64         \n",
      " 22  Origination_date                  494615 non-null  datetime64[ns]\n",
      " 23  Total_Taxes_per_$1000             492927 non-null  float64       \n",
      " 24  State_tax_Rank                    492927 non-null  object        \n",
      " 25  unemployment_rate                 494615 non-null  float64       \n",
      " 26  home_price_index                  494615 non-null  float64       \n",
      " 27  consumer_price_index              494615 non-null  float64       \n",
      " 28  unemployment_buckets              494615 non-null  object        \n",
      " 29  consumer_index_buckets            494615 non-null  object        \n",
      "dtypes: datetime64[ns](3), float64(11), int64(4), object(12)\n",
      "memory usage: 113.2+ MB\n"
     ]
    }
   ],
   "source": [
    "merged_data.info()"
   ]
  },
  {
   "cell_type": "markdown",
   "id": "231e4a62",
   "metadata": {},
   "source": [
    "Duplicative variables have been dropped and the date variables have been converted to datetime data type."
   ]
  },
  {
   "cell_type": "markdown",
   "id": "551a2af9",
   "metadata": {},
   "source": [
    "    Transformation 4 : Dropping rows with missing values for the total taxes variables."
   ]
  },
  {
   "cell_type": "code",
   "execution_count": 87,
   "id": "8ddb4d7c",
   "metadata": {},
   "outputs": [],
   "source": [
    "# NUMBER_OF_UNITS\n",
    "merged_data = merged_data[merged_data['Total_Taxes_per_$1000'].notna()]"
   ]
  },
  {
   "cell_type": "code",
   "execution_count": 88,
   "id": "47d4265d",
   "metadata": {},
   "outputs": [
    {
     "name": "stdout",
     "output_type": "stream",
     "text": [
      "<class 'pandas.core.frame.DataFrame'>\n",
      "Index: 492927 entries, 0 to 494614\n",
      "Data columns (total 30 columns):\n",
      " #   Column                            Non-Null Count   Dtype         \n",
      "---  ------                            --------------   -----         \n",
      " 0   CREDIT_SCORE                      492927 non-null  float64       \n",
      " 1   FIRST_PAYMENT_DATE                492927 non-null  datetime64[ns]\n",
      " 2   MATURITY_DATE                     492927 non-null  datetime64[ns]\n",
      " 3   NUMBER_OF_UNITS                   492927 non-null  float64       \n",
      " 4   OCCUPANCY_STATUS                  492927 non-null  object        \n",
      " 5   ORIGINAL_COMBINED_LOAN_TO_VALUE   492927 non-null  float64       \n",
      " 6   ORIGINAL_DEBT_TO_INCOME_RATIO     492927 non-null  float64       \n",
      " 7   ORIGINAL_UPB                      492927 non-null  int64         \n",
      " 8   ORIGINAL_LOAN_TO_VALUE            492927 non-null  float64       \n",
      " 9   ORIGINAL_INTEREST_RATE            492927 non-null  float64       \n",
      " 10  CHANNEL                           492927 non-null  object        \n",
      " 11  PREPAYMENT_PENALTY_MORTGAGE_FLAG  492927 non-null  object        \n",
      " 12  PRODUCT_TYPE                      492927 non-null  object        \n",
      " 13  PROPERTY_STATE                    492927 non-null  object        \n",
      " 14  PROPERTY_TYPE                     492927 non-null  object        \n",
      " 15  LOAN_PURPOSE                      492927 non-null  object        \n",
      " 16  ORIGINAL_LOAN_TERM                492927 non-null  int64         \n",
      " 17  NUMBER_OF_BORROWERS               492927 non-null  float64       \n",
      " 18  SELLER_NAME                       492927 non-null  object        \n",
      " 19  SERVICER_NAME                     492927 non-null  object        \n",
      " 20  PREPAID                           492927 non-null  int64         \n",
      " 21  DELINQUENT                        492927 non-null  int64         \n",
      " 22  Origination_date                  492927 non-null  datetime64[ns]\n",
      " 23  Total_Taxes_per_$1000             492927 non-null  float64       \n",
      " 24  State_tax_Rank                    492927 non-null  object        \n",
      " 25  unemployment_rate                 492927 non-null  float64       \n",
      " 26  home_price_index                  492927 non-null  float64       \n",
      " 27  consumer_price_index              492927 non-null  float64       \n",
      " 28  unemployment_buckets              492927 non-null  object        \n",
      " 29  consumer_index_buckets            492927 non-null  object        \n",
      "dtypes: datetime64[ns](3), float64(11), int64(4), object(12)\n",
      "memory usage: 116.6+ MB\n"
     ]
    }
   ],
   "source": [
    "merged_data.info()"
   ]
  },
  {
   "cell_type": "markdown",
   "id": "91dd2fe3",
   "metadata": {},
   "source": [
    "All columns have the same non-null count."
   ]
  },
  {
   "cell_type": "markdown",
   "id": "383ad775",
   "metadata": {},
   "source": [
    "## Five visualizations that demonstrate the cleansed data"
   ]
  },
  {
   "cell_type": "markdown",
   "id": "c20815aa",
   "metadata": {},
   "source": [
    "    Visualization 1 : Percentage of prepayments and non-prepayments in the dataset."
   ]
  },
  {
   "cell_type": "code",
   "execution_count": 89,
   "id": "120386e1",
   "metadata": {},
   "outputs": [
    {
     "data": {
      "image/png": "[encoded data removed]",
      "text/plain": [
       "<Figure size 640x480 with 1 Axes>"
      ]
     },
     "metadata": {},
     "output_type": "display_data"
    }
   ],
   "source": [
    "# Calculating the value counts for prepayments and non-prepayments.\n",
    "Counts= merged_data['PREPAID'].value_counts()\n",
    "\n",
    "# Creating the lables for the pie chart.\n",
    "label=['Non-prepayment','Prepayment']\n",
    "\n",
    "# Constructing the pie chart\n",
    "plt.pie(Counts, labels=label, autopct = '%1.0f%%')\n",
    "\n",
    "# show plot\n",
    "plt.title(\"Percentage of Prepayments and Non-prepayments\")\n",
    "plt.show()"
   ]
  },
  {
   "cell_type": "markdown",
   "id": "35ee26e8",
   "metadata": {},
   "source": [
    "As shown in the pie chart above, 96% of clients did not prepay on their home loan whereas 4% prepaid. Therefore, the proportion of homeowners who did not prepay is greater than those that prepaid."
   ]
  },
  {
   "cell_type": "markdown",
   "id": "4513d93a",
   "metadata": {},
   "source": [
    "    Visualization 2 : Number of Prepayments each unemployment bucket."
   ]
  },
  {
   "cell_type": "code",
   "execution_count": 90,
   "id": "b3718a11",
   "metadata": {},
   "outputs": [],
   "source": [
    "# Creating the Prepayment dataset from the original data:\n",
    "prepayment_df = merged_data[(merged_data['PREPAID']==1)]\n",
    "# Counting prepayments in each unemployment bucket\n",
    "prepayment_counts = prepayment_df.groupby('unemployment_buckets')['PREPAID'].count()"
   ]
  },
  {
   "cell_type": "code",
   "execution_count": 91,
   "id": "04155fd0",
   "metadata": {},
   "outputs": [
    {
     "data": {
      "image/png": "[encoded data removed]",
      "text/plain": [
       "<Figure size 640x480 with 1 Axes>"
      ]
     },
     "metadata": {},
     "output_type": "display_data"
    }
   ],
   "source": [
    "# Constructing a bar chart showing prepayment counts in each unemployment bucket\n",
    "label=['High','Low'] # Creating lables for the prepaid variable\n",
    "plt.barh(label,prepayment_counts, color='brown') # construsting a horizontal barchart.\n",
    "plt.ylabel(\"unemployment_buckets\")\n",
    "plt.xlabel(\"Prepayments\")\n",
    "plt.title('Count of prepayments in each unemployment_buckets')\n",
    "plt.show()"
   ]
  },
  {
   "cell_type": "markdown",
   "id": "a357c260",
   "metadata": {},
   "source": [
    "The bar chart visually inidicates that the count of prepayments changes betweem unemployment buckets. This sugggests that there may be a relationship between the unemployment rates and the likelihood to prepay a home loan."
   ]
  },
  {
   "cell_type": "markdown",
   "id": "2367dafb",
   "metadata": {},
   "source": [
    "     Visualization 3 : Boxplot of total taxes paid by homeowners grouped by whether they prepaid or not."
   ]
  },
  {
   "cell_type": "code",
   "execution_count": 92,
   "id": "39898edc",
   "metadata": {},
   "outputs": [
    {
     "data": {
      "image/png": "[encoded data removed]",
      "text/plain": [
       "<Figure size 640x480 with 1 Axes>"
      ]
     },
     "metadata": {},
     "output_type": "display_data"
    }
   ],
   "source": [
    "# Constructing a boxplot grouped by Prepaid.\n",
    "ax=sns.boxplot(data=merged_data, x='PREPAID', y='Total_Taxes_per_$1000')\n",
    "ax.set_xticklabels([\"False\",\"True\"])\n",
    "plt.show()"
   ]
  },
  {
   "cell_type": "markdown",
   "id": "f0a7f7e6",
   "metadata": {},
   "source": [
    "The distribution of state taxes appears to be the same regardless of the prepayment status of a homeowner and it has some outliers.Thus, total taxes paid in a state may not be related to the likelihood of a home owner to prepay."
   ]
  },
  {
   "cell_type": "markdown",
   "id": "fb4ff709",
   "metadata": {},
   "source": [
    "    Visualization 4: Trend of home price index."
   ]
  },
  {
   "cell_type": "code",
   "execution_count": 93,
   "id": "6357ccd7",
   "metadata": {},
   "outputs": [
    {
     "data": {
      "image/png": "[encoded data removed]",
      "text/plain": [
       "<Figure size 640x480 with 1 Axes>"
      ]
     },
     "metadata": {},
     "output_type": "display_data"
    }
   ],
   "source": [
    "# Creating a scatterplot of mpg and weight\n",
    "plt.scatter(merged_data['Origination_date'],merged_data['home_price_index'], c =\"peru\")\n",
    "plt.title(\"Trend of the home price index across origination dates\",y=1.05)\n",
    "plt.xlabel(\"Origination_date\")\n",
    "plt.ylabel(\"home_price_index\")\n",
    "\n",
    "# To show the plot\n",
    "plt.show()"
   ]
  },
  {
   "cell_type": "markdown",
   "id": "cf1f6027",
   "metadata": {},
   "source": [
    "The Home Price Index (HPI) is a broad measure of the movement of single-family property prices in the United States. As shown in the graph above, this variable has an outlier and its trend generally indicates that loans with more recent origination dates had higher prices."
   ]
  },
  {
   "cell_type": "markdown",
   "id": "e99be83d",
   "metadata": {},
   "source": [
    "    Visualization 5 : Distribution of the debt to income ratio."
   ]
  },
  {
   "cell_type": "code",
   "execution_count": 94,
   "id": "1757119e",
   "metadata": {},
   "outputs": [],
   "source": [
    "# creating two datasets from the original data: prepayment and non-prepayment datasets\n",
    "prepayment = merged_data[(merged_data['PREPAID']==1)]\n",
    "non_prepayment= merged_data[(merged_data['PREPAID']==0)]"
   ]
  },
  {
   "cell_type": "code",
   "execution_count": 95,
   "id": "010566e2",
   "metadata": {},
   "outputs": [
    {
     "data": {
      "image/png": "[encoded data removed]",
      "text/plain": [
       "<Figure size 640x480 with 2 Axes>"
      ]
     },
     "metadata": {},
     "output_type": "display_data"
    }
   ],
   "source": [
    "# Creating side by side histograms of ORIGINAL_DEBT_TO_INCOME_RATIO for prepaid loans and non-prepayments.\n",
    "fig, (ax1, ax2) = plt.subplots(1, 2)\n",
    "fig.suptitle('ORIGINAL_DEBT_TO_INCOME_RATIO distribution for prepaid loans and non-prepayments')\n",
    "ax1.hist(prepayment['ORIGINAL_DEBT_TO_INCOME_RATIO'])\n",
    "ax1.set_title('Prepaid Loans')\n",
    "ax1.set(xlabel='ORIGINAL_DEBT_TO_INCOME_RATIO', ylabel='Frequency Distribution')\n",
    "ax2.hist(non_prepayment['ORIGINAL_DEBT_TO_INCOME_RATIO'])\n",
    "ax2.set_title('Non-Prepayments')\n",
    "ax2.set(xlabel='ORIGINAL_DEBT_TO_INCOME_RATIO', ylabel='Frequency Distribution')\n",
    "fig.tight_layout()"
   ]
  },
  {
   "cell_type": "markdown",
   "id": "5d170666",
   "metadata": {},
   "source": [
    "The distribution of original debt to income ratio is symmetric and the same for prepayments and non-prepayments."
   ]
  },
  {
   "cell_type": "markdown",
   "id": "299f3172",
   "metadata": {},
   "source": [
    "    Visualization 6 : Assessing the linear relationship of selected variables."
   ]
  },
  {
   "cell_type": "code",
   "execution_count": 96,
   "id": "36e7a8e8",
   "metadata": {},
   "outputs": [
    {
     "data": {
      "image/png": "[encoded data removed]",
      "text/plain": [
       "<Figure size 640x480 with 2 Axes>"
      ]
     },
     "metadata": {},
     "output_type": "display_data"
    }
   ],
   "source": [
    "# Getting some numeric variables from all the merged data.\n",
    "data = merged_data[['CREDIT_SCORE','unemployment_rate','consumer_price_index','Total_Taxes_per_$1000','ORIGINAL_DEBT_TO_INCOME_RATIO']]\n",
    "\n",
    "# plotting correlation heatmap \n",
    "sns.heatmap(data.corr(),cmap = 'twilight', annot=True) \n",
    "  \n",
    "# displaying heatmap \n",
    "plt.show()"
   ]
  },
  {
   "cell_type": "markdown",
   "id": "71e86140",
   "metadata": {},
   "source": [
    "Based on the correlation matrix above, no linear relationships were identified among selected variables. "
   ]
  },
  {
   "cell_type": "markdown",
   "id": "bcc3a597",
   "metadata": {},
   "source": [
    "# Lessons Learned"
   ]
  },
  {
   "cell_type": "markdown",
   "id": "a4fb7bbf",
   "metadata": {},
   "source": [
    "<div style =\"text-align:justify\">\n",
    "This project was challenging and worthwile. I learnt a lot from it,but the following key lessons standout:\n",
    "\n",
    "- Lesson 1 : Data pulled from the three sources had some anomalies. Prior to conducting any analysis,it is important to ensure that the data you pulled is clean, regardless of where you pulled the data from.\n",
    "\n",
    "- Lesson 2: Data preparation takes alot more time than data analysis. Nevertheless, its important to do it because any analysis is only as good as the quality of data which was used to perform it.\n",
    "\n",
    "- Lesson 3: The data which was loaded to SQLLite had correct data types. However, after bringing it back into a pandas dataframe , some data types changed and these had to be corrected through a series of transformations before conducting data visualizations. Moving data from one location to another may distort the data. Data validation needs to be performed after moving data from one location to another to ensure that it remains clean.\n",
    "\n",
    "- Lesson 4: Not all techniques i tried during data preparation worked. In some cases, I had to try multiple techniques before finally identifying the one which worked. To prepare data  for analysis, you need to be persistent and have an exploratory mindset.\n",
    "</div>"
   ]
  },
  {
   "cell_type": "markdown",
   "id": "3fd8b63c",
   "metadata": {},
   "source": [
    "#  Ethical Considerations"
   ]
  },
  {
   "cell_type": "markdown",
   "id": "20cd1ced",
   "metadata": {},
   "source": [
    "- The data does not include protected attributes such as race, religion, national origin, gender, marital status, age, and socioeconomic status of the homeowner. Therefore, the analysis will be free from bias based on a protected attribute.\n",
    "\n",
    "- There are no federal laws against the  web scraping performed in this project since the scraped data is publicly available and the scraping activity did not harm the website which was scraped.\n",
    "\n",
    "- Borrowers of loans in the flat file are anonymouse, and hence, no privacy concerns could be raised by them regarding the use of their data in this project.\n"
   ]
  },
  {
   "cell_type": "markdown",
   "id": "1fb79d11",
   "metadata": {},
   "source": [
    "# Final Data Printout"
   ]
  },
  {
   "cell_type": "code",
   "execution_count": 97,
   "id": "721d9f60",
   "metadata": {},
   "outputs": [
    {
     "data": {
      "text/html": [
       "<div>\n",
       "<style scoped>\n",
       "    .dataframe tbody tr th:only-of-type {\n",
       "        vertical-align: middle;\n",
       "    }\n",
       "\n",
       "    .dataframe tbody tr th {\n",
       "        vertical-align: top;\n",
       "    }\n",
       "\n",
       "    .dataframe thead th {\n",
       "        text-align: right;\n",
       "    }\n",
       "</style>\n",
       "<table border=\"1\" class=\"dataframe\">\n",
       "  <thead>\n",
       "    <tr style=\"text-align: right;\">\n",
       "      <th></th>\n",
       "      <th>CREDIT_SCORE</th>\n",
       "      <th>FIRST_PAYMENT_DATE</th>\n",
       "      <th>MATURITY_DATE</th>\n",
       "      <th>NUMBER_OF_UNITS</th>\n",
       "      <th>OCCUPANCY_STATUS</th>\n",
       "      <th>ORIGINAL_COMBINED_LOAN_TO_VALUE</th>\n",
       "      <th>ORIGINAL_DEBT_TO_INCOME_RATIO</th>\n",
       "      <th>ORIGINAL_UPB</th>\n",
       "      <th>ORIGINAL_LOAN_TO_VALUE</th>\n",
       "      <th>ORIGINAL_INTEREST_RATE</th>\n",
       "      <th>...</th>\n",
       "      <th>PREPAID</th>\n",
       "      <th>DELINQUENT</th>\n",
       "      <th>Origination_date</th>\n",
       "      <th>Total_Taxes_per_$1000</th>\n",
       "      <th>State_tax_Rank</th>\n",
       "      <th>unemployment_rate</th>\n",
       "      <th>home_price_index</th>\n",
       "      <th>consumer_price_index</th>\n",
       "      <th>unemployment_buckets</th>\n",
       "      <th>consumer_index_buckets</th>\n",
       "    </tr>\n",
       "  </thead>\n",
       "  <tbody>\n",
       "    <tr>\n",
       "      <th>0</th>\n",
       "      <td>669.0</td>\n",
       "      <td>2002-06-01</td>\n",
       "      <td>2029-01-01</td>\n",
       "      <td>1.0</td>\n",
       "      <td>O</td>\n",
       "      <td>80.0</td>\n",
       "      <td>33.0</td>\n",
       "      <td>162000</td>\n",
       "      <td>80.0</td>\n",
       "      <td>7.120</td>\n",
       "      <td>...</td>\n",
       "      <td>1</td>\n",
       "      <td>0</td>\n",
       "      <td>2002-05-01</td>\n",
       "      <td>111.68</td>\n",
       "      <td>8</td>\n",
       "      <td>5.8</td>\n",
       "      <td>120.788</td>\n",
       "      <td>0.000000</td>\n",
       "      <td>High</td>\n",
       "      <td>Low</td>\n",
       "    </tr>\n",
       "    <tr>\n",
       "      <th>1</th>\n",
       "      <td>732.0</td>\n",
       "      <td>1999-04-01</td>\n",
       "      <td>2029-03-01</td>\n",
       "      <td>1.0</td>\n",
       "      <td>O</td>\n",
       "      <td>25.0</td>\n",
       "      <td>10.0</td>\n",
       "      <td>53000</td>\n",
       "      <td>25.0</td>\n",
       "      <td>6.500</td>\n",
       "      <td>...</td>\n",
       "      <td>1</td>\n",
       "      <td>0</td>\n",
       "      <td>1999-03-01</td>\n",
       "      <td>110.96</td>\n",
       "      <td>11</td>\n",
       "      <td>4.2</td>\n",
       "      <td>93.611</td>\n",
       "      <td>0.303951</td>\n",
       "      <td>Low</td>\n",
       "      <td>High</td>\n",
       "    </tr>\n",
       "    <tr>\n",
       "      <th>2</th>\n",
       "      <td>679.0</td>\n",
       "      <td>2002-08-01</td>\n",
       "      <td>2029-02-01</td>\n",
       "      <td>1.0</td>\n",
       "      <td>O</td>\n",
       "      <td>91.0</td>\n",
       "      <td>48.0</td>\n",
       "      <td>133000</td>\n",
       "      <td>91.0</td>\n",
       "      <td>6.750</td>\n",
       "      <td>...</td>\n",
       "      <td>1</td>\n",
       "      <td>0</td>\n",
       "      <td>2002-07-01</td>\n",
       "      <td>110.96</td>\n",
       "      <td>11</td>\n",
       "      <td>5.8</td>\n",
       "      <td>123.687</td>\n",
       "      <td>0.111173</td>\n",
       "      <td>High</td>\n",
       "      <td>Low</td>\n",
       "    </tr>\n",
       "    <tr>\n",
       "      <th>3</th>\n",
       "      <td>721.0</td>\n",
       "      <td>2002-09-01</td>\n",
       "      <td>2029-02-01</td>\n",
       "      <td>1.0</td>\n",
       "      <td>O</td>\n",
       "      <td>39.0</td>\n",
       "      <td>13.0</td>\n",
       "      <td>174000</td>\n",
       "      <td>39.0</td>\n",
       "      <td>6.625</td>\n",
       "      <td>...</td>\n",
       "      <td>1</td>\n",
       "      <td>0</td>\n",
       "      <td>2002-08-01</td>\n",
       "      <td>104.47</td>\n",
       "      <td>19</td>\n",
       "      <td>5.7</td>\n",
       "      <td>124.729</td>\n",
       "      <td>0.333148</td>\n",
       "      <td>High</td>\n",
       "      <td>High</td>\n",
       "    </tr>\n",
       "    <tr>\n",
       "      <th>4</th>\n",
       "      <td>618.0</td>\n",
       "      <td>2002-10-01</td>\n",
       "      <td>2029-02-01</td>\n",
       "      <td>1.0</td>\n",
       "      <td>O</td>\n",
       "      <td>85.0</td>\n",
       "      <td>24.0</td>\n",
       "      <td>122000</td>\n",
       "      <td>85.0</td>\n",
       "      <td>6.375</td>\n",
       "      <td>...</td>\n",
       "      <td>1</td>\n",
       "      <td>0</td>\n",
       "      <td>2002-09-01</td>\n",
       "      <td>110.96</td>\n",
       "      <td>11</td>\n",
       "      <td>5.7</td>\n",
       "      <td>125.494</td>\n",
       "      <td>0.166021</td>\n",
       "      <td>High</td>\n",
       "      <td>Low</td>\n",
       "    </tr>\n",
       "    <tr>\n",
       "      <th>...</th>\n",
       "      <td>...</td>\n",
       "      <td>...</td>\n",
       "      <td>...</td>\n",
       "      <td>...</td>\n",
       "      <td>...</td>\n",
       "      <td>...</td>\n",
       "      <td>...</td>\n",
       "      <td>...</td>\n",
       "      <td>...</td>\n",
       "      <td>...</td>\n",
       "      <td>...</td>\n",
       "      <td>...</td>\n",
       "      <td>...</td>\n",
       "      <td>...</td>\n",
       "      <td>...</td>\n",
       "      <td>...</td>\n",
       "      <td>...</td>\n",
       "      <td>...</td>\n",
       "      <td>...</td>\n",
       "      <td>...</td>\n",
       "      <td>...</td>\n",
       "    </tr>\n",
       "    <tr>\n",
       "      <th>494610</th>\n",
       "      <td>774.0</td>\n",
       "      <td>2002-03-01</td>\n",
       "      <td>2032-02-01</td>\n",
       "      <td>1.0</td>\n",
       "      <td>O</td>\n",
       "      <td>61.0</td>\n",
       "      <td>38.0</td>\n",
       "      <td>76000</td>\n",
       "      <td>61.0</td>\n",
       "      <td>6.625</td>\n",
       "      <td>...</td>\n",
       "      <td>1</td>\n",
       "      <td>0</td>\n",
       "      <td>2002-02-01</td>\n",
       "      <td>113.14</td>\n",
       "      <td>7</td>\n",
       "      <td>5.7</td>\n",
       "      <td>116.917</td>\n",
       "      <td>0.395257</td>\n",
       "      <td>High</td>\n",
       "      <td>High</td>\n",
       "    </tr>\n",
       "    <tr>\n",
       "      <th>494611</th>\n",
       "      <td>689.0</td>\n",
       "      <td>2002-03-01</td>\n",
       "      <td>2032-02-01</td>\n",
       "      <td>1.0</td>\n",
       "      <td>O</td>\n",
       "      <td>70.0</td>\n",
       "      <td>39.0</td>\n",
       "      <td>70000</td>\n",
       "      <td>70.0</td>\n",
       "      <td>6.625</td>\n",
       "      <td>...</td>\n",
       "      <td>1</td>\n",
       "      <td>0</td>\n",
       "      <td>2002-02-01</td>\n",
       "      <td>130.79</td>\n",
       "      <td>1</td>\n",
       "      <td>5.7</td>\n",
       "      <td>116.917</td>\n",
       "      <td>0.395257</td>\n",
       "      <td>High</td>\n",
       "      <td>High</td>\n",
       "    </tr>\n",
       "    <tr>\n",
       "      <th>494612</th>\n",
       "      <td>798.0</td>\n",
       "      <td>2002-03-01</td>\n",
       "      <td>2032-02-01</td>\n",
       "      <td>1.0</td>\n",
       "      <td>O</td>\n",
       "      <td>56.0</td>\n",
       "      <td>41.0</td>\n",
       "      <td>65000</td>\n",
       "      <td>56.0</td>\n",
       "      <td>6.625</td>\n",
       "      <td>...</td>\n",
       "      <td>1</td>\n",
       "      <td>0</td>\n",
       "      <td>2002-02-01</td>\n",
       "      <td>103.85</td>\n",
       "      <td>24</td>\n",
       "      <td>5.7</td>\n",
       "      <td>116.917</td>\n",
       "      <td>0.395257</td>\n",
       "      <td>High</td>\n",
       "      <td>High</td>\n",
       "    </tr>\n",
       "    <tr>\n",
       "      <th>494613</th>\n",
       "      <td>791.0</td>\n",
       "      <td>2002-03-01</td>\n",
       "      <td>2032-02-01</td>\n",
       "      <td>1.0</td>\n",
       "      <td>O</td>\n",
       "      <td>26.0</td>\n",
       "      <td>18.0</td>\n",
       "      <td>51000</td>\n",
       "      <td>26.0</td>\n",
       "      <td>6.625</td>\n",
       "      <td>...</td>\n",
       "      <td>1</td>\n",
       "      <td>0</td>\n",
       "      <td>2002-02-01</td>\n",
       "      <td>106.01</td>\n",
       "      <td>17</td>\n",
       "      <td>5.7</td>\n",
       "      <td>116.917</td>\n",
       "      <td>0.395257</td>\n",
       "      <td>High</td>\n",
       "      <td>High</td>\n",
       "    </tr>\n",
       "    <tr>\n",
       "      <th>494614</th>\n",
       "      <td>773.0</td>\n",
       "      <td>2002-03-01</td>\n",
       "      <td>2032-02-01</td>\n",
       "      <td>1.0</td>\n",
       "      <td>O</td>\n",
       "      <td>33.0</td>\n",
       "      <td>48.0</td>\n",
       "      <td>82000</td>\n",
       "      <td>33.0</td>\n",
       "      <td>6.625</td>\n",
       "      <td>...</td>\n",
       "      <td>1</td>\n",
       "      <td>0</td>\n",
       "      <td>2002-02-01</td>\n",
       "      <td>93.74</td>\n",
       "      <td>44</td>\n",
       "      <td>5.7</td>\n",
       "      <td>116.917</td>\n",
       "      <td>0.395257</td>\n",
       "      <td>High</td>\n",
       "      <td>High</td>\n",
       "    </tr>\n",
       "  </tbody>\n",
       "</table>\n",
       "<p>492927 rows × 30 columns</p>\n",
       "</div>"
      ],
      "text/plain": [
       "        CREDIT_SCORE FIRST_PAYMENT_DATE MATURITY_DATE  NUMBER_OF_UNITS  \\\n",
       "0              669.0         2002-06-01    2029-01-01              1.0   \n",
       "1              732.0         1999-04-01    2029-03-01              1.0   \n",
       "2              679.0         2002-08-01    2029-02-01              1.0   \n",
       "3              721.0         2002-09-01    2029-02-01              1.0   \n",
       "4              618.0         2002-10-01    2029-02-01              1.0   \n",
       "...              ...                ...           ...              ...   \n",
       "494610         774.0         2002-03-01    2032-02-01              1.0   \n",
       "494611         689.0         2002-03-01    2032-02-01              1.0   \n",
       "494612         798.0         2002-03-01    2032-02-01              1.0   \n",
       "494613         791.0         2002-03-01    2032-02-01              1.0   \n",
       "494614         773.0         2002-03-01    2032-02-01              1.0   \n",
       "\n",
       "       OCCUPANCY_STATUS  ORIGINAL_COMBINED_LOAN_TO_VALUE  \\\n",
       "0                     O                             80.0   \n",
       "1                     O                             25.0   \n",
       "2                     O                             91.0   \n",
       "3                     O                             39.0   \n",
       "4                     O                             85.0   \n",
       "...                 ...                              ...   \n",
       "494610                O                             61.0   \n",
       "494611                O                             70.0   \n",
       "494612                O                             56.0   \n",
       "494613                O                             26.0   \n",
       "494614                O                             33.0   \n",
       "\n",
       "        ORIGINAL_DEBT_TO_INCOME_RATIO  ORIGINAL_UPB  ORIGINAL_LOAN_TO_VALUE  \\\n",
       "0                                33.0        162000                    80.0   \n",
       "1                                10.0         53000                    25.0   \n",
       "2                                48.0        133000                    91.0   \n",
       "3                                13.0        174000                    39.0   \n",
       "4                                24.0        122000                    85.0   \n",
       "...                               ...           ...                     ...   \n",
       "494610                           38.0         76000                    61.0   \n",
       "494611                           39.0         70000                    70.0   \n",
       "494612                           41.0         65000                    56.0   \n",
       "494613                           18.0         51000                    26.0   \n",
       "494614                           48.0         82000                    33.0   \n",
       "\n",
       "        ORIGINAL_INTEREST_RATE  ... PREPAID DELINQUENT Origination_date  \\\n",
       "0                        7.120  ...       1          0       2002-05-01   \n",
       "1                        6.500  ...       1          0       1999-03-01   \n",
       "2                        6.750  ...       1          0       2002-07-01   \n",
       "3                        6.625  ...       1          0       2002-08-01   \n",
       "4                        6.375  ...       1          0       2002-09-01   \n",
       "...                        ...  ...     ...        ...              ...   \n",
       "494610                   6.625  ...       1          0       2002-02-01   \n",
       "494611                   6.625  ...       1          0       2002-02-01   \n",
       "494612                   6.625  ...       1          0       2002-02-01   \n",
       "494613                   6.625  ...       1          0       2002-02-01   \n",
       "494614                   6.625  ...       1          0       2002-02-01   \n",
       "\n",
       "       Total_Taxes_per_$1000 State_tax_Rank unemployment_rate  \\\n",
       "0                     111.68              8               5.8   \n",
       "1                     110.96             11               4.2   \n",
       "2                     110.96             11               5.8   \n",
       "3                     104.47             19               5.7   \n",
       "4                     110.96             11               5.7   \n",
       "...                      ...            ...               ...   \n",
       "494610                113.14              7               5.7   \n",
       "494611                130.79              1               5.7   \n",
       "494612                103.85             24               5.7   \n",
       "494613                106.01             17               5.7   \n",
       "494614                 93.74             44               5.7   \n",
       "\n",
       "        home_price_index  consumer_price_index unemployment_buckets  \\\n",
       "0                120.788              0.000000                 High   \n",
       "1                 93.611              0.303951                  Low   \n",
       "2                123.687              0.111173                 High   \n",
       "3                124.729              0.333148                 High   \n",
       "4                125.494              0.166021                 High   \n",
       "...                  ...                   ...                  ...   \n",
       "494610           116.917              0.395257                 High   \n",
       "494611           116.917              0.395257                 High   \n",
       "494612           116.917              0.395257                 High   \n",
       "494613           116.917              0.395257                 High   \n",
       "494614           116.917              0.395257                 High   \n",
       "\n",
       "       consumer_index_buckets  \n",
       "0                         Low  \n",
       "1                        High  \n",
       "2                         Low  \n",
       "3                        High  \n",
       "4                         Low  \n",
       "...                       ...  \n",
       "494610                   High  \n",
       "494611                   High  \n",
       "494612                   High  \n",
       "494613                   High  \n",
       "494614                   High  \n",
       "\n",
       "[492927 rows x 30 columns]"
      ]
     },
     "execution_count": 97,
     "metadata": {},
     "output_type": "execute_result"
    }
   ],
   "source": [
    "# print out of the final data.\n",
    "merged_data"
   ]
  },
  {
   "cell_type": "code",
   "execution_count": null,
   "id": "bec82ad8",
   "metadata": {},
   "outputs": [],
   "source": [
    "# Drop the home_loans table \n",
    "#cursor.execute(\"DROP TABLE home_loans\") \n",
    "# Drop the state_taxes table \n",
    "#cursor.execute(\"DROP TABLE state_taxes\") \n",
    "\n",
    "# Drop the macro_variables table \n",
    "#cursor.execute(\"DROP TABLE macro_variables\")\n",
    "# Drop the merged_datatable \n",
    "#cursor.execute(\"DROP TABLE merged_data\")"
   ]
  },
  {
   "cell_type": "code",
   "execution_count": null,
   "id": "84249990",
   "metadata": {},
   "outputs": [],
   "source": []
  }
 ],
 "metadata": {
  "kernelspec": {
   "display_name": "Python 3 (ipykernel)",
   "language": "python",
   "name": "python3"
  },
  "language_info": {
   "codemirror_mode": {
    "name": "ipython",
    "version": 3
   },
   "file_extension": ".py",
   "mimetype": "text/x-python",
   "name": "python",
   "nbconvert_exporter": "python",
   "pygments_lexer": "ipython3",
   "version": "3.11.5"
  },
  "toc": {
   "base_numbering": 1,
   "nav_menu": {},
   "number_sections": true,
   "sideBar": true,
   "skip_h1_title": false,
   "title_cell": "Table of Contents",
   "title_sidebar": "Contents",
   "toc_cell": false,
   "toc_position": {
    "height": "calc(100% - 180px)",
    "left": "10px",
    "top": "150px",
    "width": "552.391px"
   },
   "toc_section_display": true,
   "toc_window_display": true
  },
  "varInspector": {
   "cols": {
    "lenName": 16,
    "lenType": 16,
    "lenVar": 40
   },
   "kernels_config": {
    "python": {
     "delete_cmd_postfix": "",
     "delete_cmd_prefix": "del ",
     "library": "var_list.py",
     "varRefreshCmd": "print(var_dic_list())"
    },
    "r": {
     "delete_cmd_postfix": ") ",
     "delete_cmd_prefix": "rm(",
     "library": "var_list.r",
     "varRefreshCmd": "cat(var_dic_list()) "
    }
   },
   "types_to_exclude": [
    "module",
    "function",
    "builtin_function_or_method",
    "instance",
    "_Feature"
   ],
   "window_display": false
  }
 },
 "nbformat": 4,
 "nbformat_minor": 5
}
