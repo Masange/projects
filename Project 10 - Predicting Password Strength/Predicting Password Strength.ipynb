{
 "cells": [
  {
   "cell_type": "markdown",
   "id": "8ad3ce94",
   "metadata": {},
   "source": [
    "<font size=\"5\">**<center>Password Strength Classifier**</font>"
   ]
  },
  {
   "cell_type": "markdown",
   "id": "4a508c31",
   "metadata": {},
   "source": [
    "# Introduction"
   ]
  },
  {
   "cell_type": "markdown",
   "id": "c884888e",
   "metadata": {},
   "source": [
    "This project aims to develop a machine-learning model that classifies the strength of a password."
   ]
  },
  {
   "cell_type": "markdown",
   "id": "97fdfff6",
   "metadata": {},
   "source": [
    "# Business Problem"
   ]
  },
  {
   "cell_type": "markdown",
   "id": "4c0ca39a",
   "metadata": {},
   "source": [
    "Password strength is a measure of the effectiveness of a password against guessing or brute-force attacks. In its usual form, it estimates how many trials an attacker who does not have direct access to the password would need, on average, to guess it correctly. The strength of a password is a function of length, complexity, and unpredictability. Using strong passwords lowers the overall risk of a security breach. Therefore, this topic is relevant to all firms that require users to use passwords to access their systems. "
   ]
  },
  {
   "cell_type": "markdown",
   "id": "3f1a8d41",
   "metadata": {},
   "source": [
    "# Dataset"
   ]
  },
  {
   "cell_type": "markdown",
   "id": "23857c30",
   "metadata": {},
   "source": [
    "To achieve the objective of this project, the ‘Password Strength Classifier’ dataset will be used. This data can be found at the following location:\n",
    "\n",
    "https://www.kaggle.com/datasets/bhavikbb/password-strength-classifier-dataset/data\n",
    "\n",
    "The dataset has two columns: password and strength.  The password column consists of unique passwords collected online. The strength column consists of three values (0,1,2) for weak, medium, and strong, respectively.\n"
   ]
  },
  {
   "cell_type": "markdown",
   "id": "96dc4b3a",
   "metadata": {},
   "source": [
    "# Libraries"
   ]
  },
  {
   "cell_type": "code",
   "execution_count": 1,
   "id": "fa301376",
   "metadata": {},
   "outputs": [],
   "source": [
    "# Import the necessary library.\n",
    "import pandas as pd\n",
    "import numpy as np\n",
    "import seaborn as sns\n",
    "import matplotlib.pyplot as plt\n",
    "from sklearn.model_selection import train_test_split\n",
    "from sklearn.linear_model import LogisticRegression\n",
    "from sklearn.naive_bayes import MultinomialNB\n",
    "from xgboost import XGBClassifier\n",
    "from sklearn import metrics\n",
    "from sklearn.metrics import (confusion_matrix,accuracy_score,precision_score,recall_score,f1_score)\n",
    "import pickle\n",
    "import warnings\n",
    "warnings.filterwarnings(\"ignore\")"
   ]
  },
  {
   "cell_type": "markdown",
   "id": "d7d3c7aa",
   "metadata": {},
   "source": [
    "# Data Exploration "
   ]
  },
  {
   "cell_type": "code",
   "execution_count": 2,
   "id": "c032bb64",
   "metadata": {},
   "outputs": [],
   "source": [
    "## Loading the data\n",
    "passwords_df =pd.read_csv(\"data.csv\",on_bad_lines='skip')"
   ]
  },
  {
   "cell_type": "code",
   "execution_count": 3,
   "id": "991ac131",
   "metadata": {},
   "outputs": [
    {
     "data": {
      "text/html": [
       "<div>\n",
       "<style scoped>\n",
       "    .dataframe tbody tr th:only-of-type {\n",
       "        vertical-align: middle;\n",
       "    }\n",
       "\n",
       "    .dataframe tbody tr th {\n",
       "        vertical-align: top;\n",
       "    }\n",
       "\n",
       "    .dataframe thead th {\n",
       "        text-align: right;\n",
       "    }\n",
       "</style>\n",
       "<table border=\"1\" class=\"dataframe\">\n",
       "  <thead>\n",
       "    <tr style=\"text-align: right;\">\n",
       "      <th></th>\n",
       "      <th>password</th>\n",
       "      <th>strength</th>\n",
       "    </tr>\n",
       "  </thead>\n",
       "  <tbody>\n",
       "    <tr>\n",
       "      <th>0</th>\n",
       "      <td>kzde5577</td>\n",
       "      <td>1</td>\n",
       "    </tr>\n",
       "    <tr>\n",
       "      <th>1</th>\n",
       "      <td>kino3434</td>\n",
       "      <td>1</td>\n",
       "    </tr>\n",
       "    <tr>\n",
       "      <th>2</th>\n",
       "      <td>visi7k1yr</td>\n",
       "      <td>1</td>\n",
       "    </tr>\n",
       "    <tr>\n",
       "      <th>3</th>\n",
       "      <td>megzy123</td>\n",
       "      <td>1</td>\n",
       "    </tr>\n",
       "    <tr>\n",
       "      <th>4</th>\n",
       "      <td>lamborghin1</td>\n",
       "      <td>1</td>\n",
       "    </tr>\n",
       "  </tbody>\n",
       "</table>\n",
       "</div>"
      ],
      "text/plain": [
       "      password  strength\n",
       "0     kzde5577         1\n",
       "1     kino3434         1\n",
       "2    visi7k1yr         1\n",
       "3     megzy123         1\n",
       "4  lamborghin1         1"
      ]
     },
     "execution_count": 3,
     "metadata": {},
     "output_type": "execute_result"
    }
   ],
   "source": [
    "# Checking first five observations\n",
    "passwords_df.head()"
   ]
  },
  {
   "cell_type": "markdown",
   "id": "30a3139e",
   "metadata": {},
   "source": [
    "The above output shows the first five rows and all the features of the dataset. All features appear to be populated."
   ]
  },
  {
   "cell_type": "code",
   "execution_count": 4,
   "id": "4d0c56e6",
   "metadata": {},
   "outputs": [
    {
     "data": {
      "text/html": [
       "<div>\n",
       "<style scoped>\n",
       "    .dataframe tbody tr th:only-of-type {\n",
       "        vertical-align: middle;\n",
       "    }\n",
       "\n",
       "    .dataframe tbody tr th {\n",
       "        vertical-align: top;\n",
       "    }\n",
       "\n",
       "    .dataframe thead th {\n",
       "        text-align: right;\n",
       "    }\n",
       "</style>\n",
       "<table border=\"1\" class=\"dataframe\">\n",
       "  <thead>\n",
       "    <tr style=\"text-align: right;\">\n",
       "      <th></th>\n",
       "      <th>password</th>\n",
       "      <th>strength</th>\n",
       "    </tr>\n",
       "  </thead>\n",
       "  <tbody>\n",
       "    <tr>\n",
       "      <th>669635</th>\n",
       "      <td>10redtux10</td>\n",
       "      <td>1</td>\n",
       "    </tr>\n",
       "    <tr>\n",
       "      <th>669636</th>\n",
       "      <td>infrared1</td>\n",
       "      <td>1</td>\n",
       "    </tr>\n",
       "    <tr>\n",
       "      <th>669637</th>\n",
       "      <td>184520socram</td>\n",
       "      <td>1</td>\n",
       "    </tr>\n",
       "    <tr>\n",
       "      <th>669638</th>\n",
       "      <td>marken22a</td>\n",
       "      <td>1</td>\n",
       "    </tr>\n",
       "    <tr>\n",
       "      <th>669639</th>\n",
       "      <td>fxx4pw4g</td>\n",
       "      <td>1</td>\n",
       "    </tr>\n",
       "  </tbody>\n",
       "</table>\n",
       "</div>"
      ],
      "text/plain": [
       "            password  strength\n",
       "669635    10redtux10         1\n",
       "669636     infrared1         1\n",
       "669637  184520socram         1\n",
       "669638     marken22a         1\n",
       "669639      fxx4pw4g         1"
      ]
     },
     "execution_count": 4,
     "metadata": {},
     "output_type": "execute_result"
    }
   ],
   "source": [
    "# Checking last five observations\n",
    "passwords_df.tail()"
   ]
  },
  {
   "cell_type": "markdown",
   "id": "0f1b3268",
   "metadata": {},
   "source": [
    "The above output shows the last five rows and all the features of the dataset. All features appear to be populated."
   ]
  },
  {
   "cell_type": "code",
   "execution_count": 5,
   "id": "c83abe86",
   "metadata": {},
   "outputs": [
    {
     "name": "stdout",
     "output_type": "stream",
     "text": [
      "<class 'pandas.core.frame.DataFrame'>\n",
      "RangeIndex: 669640 entries, 0 to 669639\n",
      "Data columns (total 2 columns):\n",
      " #   Column    Non-Null Count   Dtype \n",
      "---  ------    --------------   ----- \n",
      " 0   password  669639 non-null  object\n",
      " 1   strength  669640 non-null  int64 \n",
      "dtypes: int64(1), object(1)\n",
      "memory usage: 10.2+ MB\n"
     ]
    }
   ],
   "source": [
    "# Checking the information of the dataset\n",
    "passwords_df.info()"
   ]
  },
  {
   "cell_type": "markdown",
   "id": "f7f92926",
   "metadata": {},
   "source": [
    "The data has two columns and their types make sense. The non-null count shows there is one missing value in the password column."
   ]
  },
  {
   "cell_type": "markdown",
   "id": "26986415",
   "metadata": {},
   "source": [
    "## Checking missing values and treatment"
   ]
  },
  {
   "cell_type": "code",
   "execution_count": 6,
   "id": "6a046623",
   "metadata": {},
   "outputs": [
    {
     "data": {
      "text/html": [
       "<div>\n",
       "<style scoped>\n",
       "    .dataframe tbody tr th:only-of-type {\n",
       "        vertical-align: middle;\n",
       "    }\n",
       "\n",
       "    .dataframe tbody tr th {\n",
       "        vertical-align: top;\n",
       "    }\n",
       "\n",
       "    .dataframe thead th {\n",
       "        text-align: right;\n",
       "    }\n",
       "</style>\n",
       "<table border=\"1\" class=\"dataframe\">\n",
       "  <thead>\n",
       "    <tr style=\"text-align: right;\">\n",
       "      <th></th>\n",
       "      <th>Number of missing value</th>\n",
       "    </tr>\n",
       "  </thead>\n",
       "  <tbody>\n",
       "    <tr>\n",
       "      <th>password</th>\n",
       "      <td>1</td>\n",
       "    </tr>\n",
       "    <tr>\n",
       "      <th>strength</th>\n",
       "      <td>0</td>\n",
       "    </tr>\n",
       "  </tbody>\n",
       "</table>\n",
       "</div>"
      ],
      "text/plain": [
       "          Number of missing value\n",
       "password                        1\n",
       "strength                        0"
      ]
     },
     "execution_count": 6,
     "metadata": {},
     "output_type": "execute_result"
    }
   ],
   "source": [
    "#Checking missing values.\n",
    "passwords_df.isna().sum().to_frame(name = 'Number of missing value')"
   ]
  },
  {
   "cell_type": "markdown",
   "id": "d55d7be3",
   "metadata": {},
   "source": [
    "The strength column has no missing value, but the password column has a missing value. The missing value will be removed below."
   ]
  },
  {
   "cell_type": "code",
   "execution_count": 7,
   "id": "0ae2793e",
   "metadata": {},
   "outputs": [],
   "source": [
    "# Dropping missing values\n",
    "passwords_df.dropna(how='any', inplace=True)"
   ]
  },
  {
   "cell_type": "code",
   "execution_count": 8,
   "id": "a520fa73",
   "metadata": {},
   "outputs": [
    {
     "data": {
      "text/html": [
       "<div>\n",
       "<style scoped>\n",
       "    .dataframe tbody tr th:only-of-type {\n",
       "        vertical-align: middle;\n",
       "    }\n",
       "\n",
       "    .dataframe tbody tr th {\n",
       "        vertical-align: top;\n",
       "    }\n",
       "\n",
       "    .dataframe thead th {\n",
       "        text-align: right;\n",
       "    }\n",
       "</style>\n",
       "<table border=\"1\" class=\"dataframe\">\n",
       "  <thead>\n",
       "    <tr style=\"text-align: right;\">\n",
       "      <th></th>\n",
       "      <th>Number of missing value</th>\n",
       "    </tr>\n",
       "  </thead>\n",
       "  <tbody>\n",
       "    <tr>\n",
       "      <th>password</th>\n",
       "      <td>0</td>\n",
       "    </tr>\n",
       "    <tr>\n",
       "      <th>strength</th>\n",
       "      <td>0</td>\n",
       "    </tr>\n",
       "  </tbody>\n",
       "</table>\n",
       "</div>"
      ],
      "text/plain": [
       "          Number of missing value\n",
       "password                        0\n",
       "strength                        0"
      ]
     },
     "execution_count": 8,
     "metadata": {},
     "output_type": "execute_result"
    }
   ],
   "source": [
    "# Rechecking if missing values were successfully dropped.\n",
    "passwords_df.isna().sum().to_frame(name = 'Number of missing value')"
   ]
  },
  {
   "cell_type": "markdown",
   "id": "f523f2ba",
   "metadata": {},
   "source": [
    "As shown above the missing value has been dropped."
   ]
  },
  {
   "cell_type": "markdown",
   "id": "c6239878",
   "metadata": {},
   "source": [
    "## Checking duplicate rows and treating them."
   ]
  },
  {
   "cell_type": "code",
   "execution_count": 9,
   "id": "031ca81e",
   "metadata": {},
   "outputs": [
    {
     "name": "stdout",
     "output_type": "stream",
     "text": [
      "Number of duplicates which should be removed:  0\n"
     ]
    }
   ],
   "source": [
    "# Checking number of duplicates reviews and score.\n",
    "duplicates = passwords_df.duplicated(subset=['password','strength'], keep='first').sum()\n",
    "print(\"Number of duplicates which should be removed: \", duplicates)"
   ]
  },
  {
   "cell_type": "markdown",
   "id": "b67c01d7",
   "metadata": {},
   "source": [
    "The are no duplicates in the dataset."
   ]
  },
  {
   "cell_type": "markdown",
   "id": "fe6434b3",
   "metadata": {},
   "source": [
    "## Analyzing the characteristics of the passwords"
   ]
  },
  {
   "cell_type": "code",
   "execution_count": 10,
   "id": "f2b4ac15",
   "metadata": {},
   "outputs": [
    {
     "data": {
      "text/html": [
       "<div>\n",
       "<style scoped>\n",
       "    .dataframe tbody tr th:only-of-type {\n",
       "        vertical-align: middle;\n",
       "    }\n",
       "\n",
       "    .dataframe tbody tr th {\n",
       "        vertical-align: top;\n",
       "    }\n",
       "\n",
       "    .dataframe thead th {\n",
       "        text-align: right;\n",
       "    }\n",
       "</style>\n",
       "<table border=\"1\" class=\"dataframe\">\n",
       "  <thead>\n",
       "    <tr style=\"text-align: right;\">\n",
       "      <th></th>\n",
       "      <th>password</th>\n",
       "      <th>strength</th>\n",
       "      <th>char_count</th>\n",
       "      <th>numerics</th>\n",
       "      <th>letters</th>\n",
       "      <th>punc</th>\n",
       "      <th>vowels</th>\n",
       "      <th>consonants</th>\n",
       "    </tr>\n",
       "  </thead>\n",
       "  <tbody>\n",
       "    <tr>\n",
       "      <th>0</th>\n",
       "      <td>kzde5577</td>\n",
       "      <td>1</td>\n",
       "      <td>8</td>\n",
       "      <td>4</td>\n",
       "      <td>4</td>\n",
       "      <td>0</td>\n",
       "      <td>1</td>\n",
       "      <td>3</td>\n",
       "    </tr>\n",
       "    <tr>\n",
       "      <th>1</th>\n",
       "      <td>kino3434</td>\n",
       "      <td>1</td>\n",
       "      <td>8</td>\n",
       "      <td>4</td>\n",
       "      <td>4</td>\n",
       "      <td>0</td>\n",
       "      <td>2</td>\n",
       "      <td>2</td>\n",
       "    </tr>\n",
       "    <tr>\n",
       "      <th>2</th>\n",
       "      <td>visi7k1yr</td>\n",
       "      <td>1</td>\n",
       "      <td>9</td>\n",
       "      <td>2</td>\n",
       "      <td>7</td>\n",
       "      <td>0</td>\n",
       "      <td>2</td>\n",
       "      <td>5</td>\n",
       "    </tr>\n",
       "    <tr>\n",
       "      <th>3</th>\n",
       "      <td>megzy123</td>\n",
       "      <td>1</td>\n",
       "      <td>8</td>\n",
       "      <td>3</td>\n",
       "      <td>5</td>\n",
       "      <td>0</td>\n",
       "      <td>1</td>\n",
       "      <td>4</td>\n",
       "    </tr>\n",
       "    <tr>\n",
       "      <th>4</th>\n",
       "      <td>lamborghin1</td>\n",
       "      <td>1</td>\n",
       "      <td>11</td>\n",
       "      <td>1</td>\n",
       "      <td>10</td>\n",
       "      <td>0</td>\n",
       "      <td>3</td>\n",
       "      <td>7</td>\n",
       "    </tr>\n",
       "  </tbody>\n",
       "</table>\n",
       "</div>"
      ],
      "text/plain": [
       "      password  strength  char_count  numerics  letters  punc  vowels  \\\n",
       "0     kzde5577         1           8         4        4     0       1   \n",
       "1     kino3434         1           8         4        4     0       2   \n",
       "2    visi7k1yr         1           9         2        7     0       2   \n",
       "3     megzy123         1           8         3        5     0       1   \n",
       "4  lamborghin1         1          11         1       10     0       3   \n",
       "\n",
       "   consonants  \n",
       "0           3  \n",
       "1           2  \n",
       "2           5  \n",
       "3           4  \n",
       "4           7  "
      ]
     },
     "execution_count": 10,
     "metadata": {},
     "output_type": "execute_result"
    }
   ],
   "source": [
    "# Find the length of characters presented in password\n",
    "passwords_df['char_count'] = passwords_df['password'].str.len()\n",
    "\n",
    "# Find the length of numbers presented in password\n",
    "passwords_df['numerics'] = passwords_df['password'].apply(lambda x: len([str(x) for x in list(x) if str(x).isdigit()]))\n",
    "\n",
    "# Find the length of alphabetical letters presented in password\n",
    "passwords_df['letters'] = passwords_df['password'].apply(lambda x: len([x for x in list(x) if x.isalpha()]))\n",
    "\n",
    "# Find the length of puncuations presented in password\n",
    "specialSymbols = '!?%&.:~/\\|,;<>-_+@#$%^&*(){}[]'\n",
    "passwords_df['punc'] = passwords_df['password'].apply(lambda x: len([x for x in list(x) if x in specialSymbols]))\n",
    "\n",
    "# Find the length of vowels presented in password\n",
    "vowels = ['a', 'e', 'i', 'o', 'u']\n",
    "passwords_df['vowels'] = passwords_df['password'].apply(lambda x: len([x for x in list(x) if x in vowels]))\n",
    "\n",
    "# Find the length of consonants presented in password\n",
    "passwords_df['consonants'] = passwords_df['password'].apply(lambda x: len([x for x in list(x) if x not in vowels and x.isalpha()]))\n",
    "\n",
    "passwords_df.head()"
   ]
  },
  {
   "cell_type": "markdown",
   "id": "7cd70378",
   "metadata": {},
   "source": [
    "## Outlier Analysis and treatment"
   ]
  },
  {
   "cell_type": "markdown",
   "id": "779fc637",
   "metadata": {},
   "source": [
    "Inter Quartile Range(IQR) approach to finding the outliers is the most commonly used and most trusted approach used in the research field.  It first computes the first quartile (Q1) and third quartile (Q3), then calculates the IQR as the difference between Q3 and Q1, providing a measure of the spread of the middle 50% of the data in the variable under consideration. An outlier is any observation outside +/- 1.5IQR."
   ]
  },
  {
   "cell_type": "code",
   "execution_count": 11,
   "id": "384dae8b",
   "metadata": {},
   "outputs": [],
   "source": [
    "# Creating a copy of the dataframe\n",
    "passwords_df_copy = passwords_df.copy()"
   ]
  },
  {
   "cell_type": "code",
   "execution_count": 12,
   "id": "58eb4560",
   "metadata": {
    "scrolled": true
   },
   "outputs": [
    {
     "name": "stdout",
     "output_type": "stream",
     "text": [
      "['char_count', 'numerics', 'letters', 'punc', 'vowels', 'consonants']\n",
      " \n",
      "The dataset has  6 numeric columns.\n"
     ]
    }
   ],
   "source": [
    "# Extracting Features numeric features.\n",
    "numeric_df = passwords_df_copy.select_dtypes(exclude=object)\n",
    "numeric_features = list(numeric_df.columns)\n",
    "numeric_features = numeric_features[1:]\n",
    "print(numeric_features)\n",
    "print(' ')\n",
    "print('The dataset has ',len(numeric_features),'numeric columns.')"
   ]
  },
  {
   "cell_type": "markdown",
   "id": "44f8f7df",
   "metadata": {},
   "source": [
    "- Detecting Outliers"
   ]
  },
  {
   "cell_type": "code",
   "execution_count": 13,
   "id": "a4cab8ab",
   "metadata": {},
   "outputs": [],
   "source": [
    "def check_outliers(dataframe,variables):\n",
    "    \"\"\" This function creates boxplots which are used to detect outliers.\"\"\"\n",
    "    title_string = \"Detecting outliers using boxplots\"\n",
    "    plt.figure(figsize=(9,9))\n",
    "    for n, variable in enumerate(variables):\n",
    "        \n",
    "        # add a new subplot iteratively\n",
    "        ax = plt.subplot(int(len(variables)/2), 2, n + 1)\n",
    "        \n",
    "        # plotting the boxplots on the subplot axis\n",
    "        plt.boxplot(dataframe[variable],vert=False)\n",
    "        \n",
    "        # chart formatting\n",
    "        ax.set_title(variable.lower())\n",
    "        \n",
    "        ax.set_xlabel(\"\")\n",
    "        plt.subplots_adjust(bottom=0.000001,wspace=0.4, hspace=0.4)  \n",
    "        plt.suptitle(title_string, y=.95, fontsize=14)"
   ]
  },
  {
   "cell_type": "code",
   "execution_count": 14,
   "id": "c67c182e",
   "metadata": {},
   "outputs": [
    {
     "data": {
      "image/png": "[encoded data removed]",
      "text/plain": [
       "<Figure size 900x900 with 6 Axes>"
      ]
     },
     "metadata": {},
     "output_type": "display_data"
    }
   ],
   "source": [
    "check_outliers(passwords_df_copy, numeric_features)"
   ]
  },
  {
   "cell_type": "markdown",
   "id": "25c4d9f8",
   "metadata": {},
   "source": [
    "The boxplots above show that there are some variables with outliers. Outliers will be quantitatively identified below."
   ]
  },
  {
   "cell_type": "markdown",
   "id": "e14655b7",
   "metadata": {},
   "source": [
    "- Removing outliers"
   ]
  },
  {
   "cell_type": "code",
   "execution_count": 15,
   "id": "97d44b4b",
   "metadata": {},
   "outputs": [],
   "source": [
    "def outliers(dataframe,variable):\n",
    "    ''' Function to quantitatively identify outliers'''\n",
    "    # Calculate the Upper(Q3) and Lower(Q1) limits\n",
    "    Q1  = dataframe[variable].quantile(0.25)\n",
    "    Q3  = dataframe[variable].quantile(0.75)\n",
    "    IQR = Q3 - Q1\n",
    "    lower = Q1 - 1.5*IQR\n",
    "    upper = Q3 + 1.5*IQR\n",
    "        \n",
    "    # List to creat indexes of outliers\n",
    "    list_of_outliers = dataframe.index[(dataframe[variable] < lower)\n",
    "                                       |(dataframe[variable]> upper)]\n",
    "    return list_of_outliers  "
   ]
  },
  {
   "cell_type": "code",
   "execution_count": 16,
   "id": "48bae638",
   "metadata": {},
   "outputs": [],
   "source": [
    "# Create Empty list to store the output indices for outliers\n",
    "index_list =[]\n",
    "for feature in numeric_features:\n",
    "    index_list.extend(outliers(passwords_df_copy,feature))"
   ]
  },
  {
   "cell_type": "code",
   "execution_count": 17,
   "id": "471043d2",
   "metadata": {},
   "outputs": [],
   "source": [
    "def remove(dataframe,list_of_outliers):\n",
    "    ''' Function to remove outliers from a dataframe'''\n",
    "    list_of_outliers = sorted(set(list_of_outliers ))\n",
    "    dataframe =  dataframe.drop(list_of_outliers)\n",
    "    return dataframe"
   ]
  },
  {
   "cell_type": "code",
   "execution_count": 18,
   "id": "bc67ad5c",
   "metadata": {},
   "outputs": [],
   "source": [
    "# Removing outliers from the dataset and creating a dataframe free from outliers\n",
    "passwords_cleaned_df = remove(passwords_df_copy, index_list)"
   ]
  },
  {
   "cell_type": "code",
   "execution_count": 19,
   "id": "ba195e78",
   "metadata": {},
   "outputs": [
    {
     "data": {
      "image/png": "[encoded data removed]",
      "text/plain": [
       "<Figure size 900x900 with 6 Axes>"
      ]
     },
     "metadata": {},
     "output_type": "display_data"
    }
   ],
   "source": [
    "# Checking outliers again after removal\n",
    "check_outliers(passwords_cleaned_df, numeric_features)"
   ]
  },
  {
   "cell_type": "markdown",
   "id": "47593309",
   "metadata": {},
   "source": [
    "The boxplot above show the features without outliers."
   ]
  },
  {
   "cell_type": "code",
   "execution_count": 20,
   "id": "7a7c5a3a",
   "metadata": {},
   "outputs": [
    {
     "data": {
      "text/plain": [
       "(669639, 8)"
      ]
     },
     "execution_count": 20,
     "metadata": {},
     "output_type": "execute_result"
    }
   ],
   "source": [
    "# Shape of dataframe with outliers\n",
    "passwords_df_copy.shape"
   ]
  },
  {
   "cell_type": "code",
   "execution_count": 21,
   "id": "bf14170c",
   "metadata": {},
   "outputs": [
    {
     "data": {
      "text/plain": [
       "(559859, 8)"
      ]
     },
     "execution_count": 21,
     "metadata": {},
     "output_type": "execute_result"
    }
   ],
   "source": [
    "# Shape of dataframe without outliers\n",
    "passwords_cleaned_df.shape"
   ]
  },
  {
   "cell_type": "markdown",
   "id": "a6bd63bd",
   "metadata": {},
   "source": [
    "Outlier removal was successful since the observations in the new dataframe is lower than the original dataframe. The dataframe without outliers will be used to build the model."
   ]
  },
  {
   "cell_type": "markdown",
   "id": "877105bf",
   "metadata": {},
   "source": [
    "# Data Visualization"
   ]
  },
  {
   "cell_type": "code",
   "execution_count": 22,
   "id": "56db0f6d",
   "metadata": {},
   "outputs": [
    {
     "data": {
      "image/png": "[encoded data removed]",
      "text/plain": [
       "<Figure size 1000x1000 with 6 Axes>"
      ]
     },
     "metadata": {},
     "output_type": "display_data"
    }
   ],
   "source": [
    "plt.figure(figsize=(10,10))\n",
    "for n, feature in enumerate(numeric_features):\n",
    "    # Calculating average of each numeric variable\n",
    "    average = passwords_cleaned_df.groupby(['strength'])[feature].mean()\n",
    "    # add a new subplot iteratively\n",
    "    ax = plt.subplot(int(len(numeric_features)/2), 2, n + 1)\n",
    "        \n",
    "    # plotting the boxplots on the subplot axis\n",
    "    average.plot(kind='barh',color='brown')\n",
    "        \n",
    "     # chart formatting\n",
    "    ax.set_title(feature.lower())\n",
    "        \n",
    "    ax.set_xlabel(\"\")\n",
    "    plt.subplots_adjust(bottom=0.000001,wspace=0.6, hspace=0.6)  \n",
    "   # plt.suptitle(title_string, y=.95, fontsize=14)"
   ]
  },
  {
   "cell_type": "markdown",
   "id": "7832ed93",
   "metadata": {},
   "source": [
    "As shown above strong passwords(2), had the highest number of characters, digits, letters, vowels and consonants followed by mediumn passwords and then week passwords. No password has punctuation marks."
   ]
  },
  {
   "cell_type": "markdown",
   "id": "42e59fa0",
   "metadata": {},
   "source": [
    "## Target variable distribution"
   ]
  },
  {
   "cell_type": "code",
   "execution_count": 23,
   "id": "7d02cd95",
   "metadata": {},
   "outputs": [
    {
     "data": {
      "image/png": "[encoded data removed]",
      "text/plain": [
       "<Figure size 640x480 with 1 Axes>"
      ]
     },
     "metadata": {},
     "output_type": "display_data"
    }
   ],
   "source": [
    "# Creating the the distribution of the target variable\n",
    "counts = passwords_cleaned_df['strength'].value_counts()\n",
    "\n",
    "# Plotting the target categories \n",
    "counts.plot(kind='barh', title=\"Number of passwords in each target label\",\n",
    "            color = 'brown');"
   ]
  },
  {
   "cell_type": "markdown",
   "id": "9df21132",
   "metadata": {},
   "source": [
    "The bar chart shows that passwords of medium strength(1) are in the majority compared stong(2) and weak passwords. Therefore, a model built using this data is likely to do a better job at predicting medium passwords than strong or weak passwords."
   ]
  },
  {
   "cell_type": "markdown",
   "id": "bbca135e",
   "metadata": {},
   "source": [
    "# Model Building"
   ]
  },
  {
   "cell_type": "markdown",
   "id": "3a47daf8",
   "metadata": {},
   "source": [
    "## Data partition"
   ]
  },
  {
   "cell_type": "markdown",
   "id": "6be48cbf",
   "metadata": {},
   "source": [
    "An 80/20 percent split will be used to partition the data in order to have more data in the training set."
   ]
  },
  {
   "cell_type": "code",
   "execution_count": 24,
   "id": "cd805be0",
   "metadata": {},
   "outputs": [],
   "source": [
    "# Extracting features from the dataset.\n",
    "features = passwords_cleaned_df.iloc[:,2:8]\n",
    "\n",
    "# Extracting the target from the dataset.\n",
    "target = passwords_cleaned_df.iloc[:,1]"
   ]
  },
  {
   "cell_type": "code",
   "execution_count": 25,
   "id": "31997423",
   "metadata": {},
   "outputs": [],
   "source": [
    "# Splitting data into training and test sets.\n",
    "train_features, test_features,train_target,test_target = train_test_split(features, \n",
    "                                                                          target, \n",
    "                                                                          test_size=0.2,\n",
    "                                                                          random_state=1,\n",
    "                                                                          stratify=target)"
   ]
  },
  {
   "cell_type": "markdown",
   "id": "365df94c",
   "metadata": {},
   "source": [
    "## Training"
   ]
  },
  {
   "cell_type": "code",
   "execution_count": 26,
   "id": "d48fa964",
   "metadata": {},
   "outputs": [],
   "source": [
    "# Creating function to train the model and output performance metrics\n",
    "def train_and_evaluation(model, training_features, training_target, testing_features, testing_target):\n",
    "\n",
    "    # training the model\n",
    "    _ = model.fit(training_features, training_target)\n",
    "\n",
    "    # Generating Predictions on training and testing sets.\n",
    "    preds_on_train = model.predict(training_features)\n",
    "    preds_on_test = model.predict(testing_features)\n",
    "\n",
    "    # Model performance evaluation o\n",
    "    print()\n",
    "    print(model)\n",
    "    print(f\"Accuracy score on training set : {round(accuracy_score(training_target, preds_on_train),4)*100}\",\"%\")\n",
    "    print(f\"Accuracy score on testing set  : {round(accuracy_score(testing_target, preds_on_test),4)*100}\",\"%\")\n",
    "    print(f\"F - 1 score on training set    : {round(f1_score(training_target, preds_on_train, average='macro'),4)*100}\",\"%\")\n",
    "    print(f\"F - 1 score on testing set     : {round(f1_score(testing_target, preds_on_test,  average='macro'),4)*100}\",\"%\")\n",
    "    print('\\n',60*'-')"
   ]
  },
  {
   "cell_type": "markdown",
   "id": "185155ef",
   "metadata": {},
   "source": [
    "### Logistic Regression"
   ]
  },
  {
   "cell_type": "code",
   "execution_count": 27,
   "id": "6f145eb3",
   "metadata": {},
   "outputs": [
    {
     "name": "stdout",
     "output_type": "stream",
     "text": [
      "\n",
      "LogisticRegression(C=0.001, max_iter=10000, multi_class='multinomial',\n",
      "                   random_state=1, solver='newton-cg')\n",
      "Accuracy score on training set : 99.83 %\n",
      "Accuracy score on testing set  : 99.81 %\n",
      "F - 1 score on training set    : 98.61 %\n",
      "F - 1 score on testing set     : 98.46000000000001 %\n",
      "\n",
      " ------------------------------------------------------------\n",
      "\n",
      "LogisticRegression(C=0.01, max_iter=10000, multi_class='multinomial',\n",
      "                   random_state=1, solver='newton-cg')\n",
      "Accuracy score on training set : 100.0 %\n",
      "Accuracy score on testing set  : 99.99 %\n",
      "F - 1 score on training set    : 99.97 %\n",
      "F - 1 score on testing set     : 99.96000000000001 %\n",
      "\n",
      " ------------------------------------------------------------\n",
      "\n",
      "LogisticRegression(C=0.1, max_iter=10000, multi_class='multinomial',\n",
      "                   random_state=1, solver='newton-cg')\n",
      "Accuracy score on training set : 100.0 %\n",
      "Accuracy score on testing set  : 100.0 %\n",
      "F - 1 score on training set    : 99.99 %\n",
      "F - 1 score on testing set     : 99.99 %\n",
      "\n",
      " ------------------------------------------------------------\n",
      "\n",
      "LogisticRegression(C=1, max_iter=10000, multi_class='multinomial',\n",
      "                   random_state=1, solver='newton-cg')\n",
      "Accuracy score on training set : 100.0 %\n",
      "Accuracy score on testing set  : 100.0 %\n",
      "F - 1 score on training set    : 99.99 %\n",
      "F - 1 score on testing set     : 100.0 %\n",
      "\n",
      " ------------------------------------------------------------\n",
      "\n",
      "LogisticRegression(C=10, max_iter=10000, multi_class='multinomial',\n",
      "                   random_state=1, solver='newton-cg')\n",
      "Accuracy score on training set : 100.0 %\n",
      "Accuracy score on testing set  : 100.0 %\n",
      "F - 1 score on training set    : 100.0 %\n",
      "F - 1 score on testing set     : 100.0 %\n",
      "\n",
      " ------------------------------------------------------------\n"
     ]
    }
   ],
   "source": [
    "# Creating hyperparameters\n",
    "C = [0.001, 0.01, 0.1, 1, 10]\n",
    "\n",
    "# Looping through each hyperparameter and creating a model for each.\n",
    "for c in C: \n",
    "    # Defining logistic regression model object\n",
    "    lr_model = LogisticRegression(C=c, max_iter=10000, random_state=1, multi_class='multinomial', solver='newton-cg')\n",
    "    \n",
    "    # Training and evaluating the logistic regression model\n",
    "    train_and_evaluation(model=lr_model,\n",
    "                         training_features=train_features,\n",
    "                         training_target=train_target,\n",
    "                         testing_features=test_features,\n",
    "                         testing_target=test_target)"
   ]
  },
  {
   "cell_type": "markdown",
   "id": "c07bdea9",
   "metadata": {},
   "source": [
    "### Naive Bayes"
   ]
  },
  {
   "cell_type": "code",
   "execution_count": 28,
   "id": "ca7e27d5",
   "metadata": {},
   "outputs": [
    {
     "name": "stdout",
     "output_type": "stream",
     "text": [
      "\n",
      "MultinomialNB(alpha=0.01)\n",
      "Accuracy score on training set : 82.03 %\n",
      "Accuracy score on testing set  : 82.03 %\n",
      "F - 1 score on training set    : 30.04 %\n",
      "F - 1 score on testing set     : 30.04 %\n",
      "\n",
      " ------------------------------------------------------------\n",
      "\n",
      "MultinomialNB(alpha=0.2)\n",
      "Accuracy score on training set : 82.03 %\n",
      "Accuracy score on testing set  : 82.03 %\n",
      "F - 1 score on training set    : 30.04 %\n",
      "F - 1 score on testing set     : 30.04 %\n",
      "\n",
      " ------------------------------------------------------------\n",
      "\n",
      "MultinomialNB(alpha=0.6)\n",
      "Accuracy score on training set : 82.03 %\n",
      "Accuracy score on testing set  : 82.03 %\n",
      "F - 1 score on training set    : 30.04 %\n",
      "F - 1 score on testing set     : 30.04 %\n",
      "\n",
      " ------------------------------------------------------------\n",
      "\n",
      "MultinomialNB(alpha=0.8)\n",
      "Accuracy score on training set : 82.03 %\n",
      "Accuracy score on testing set  : 82.03 %\n",
      "F - 1 score on training set    : 30.04 %\n",
      "F - 1 score on testing set     : 30.04 %\n",
      "\n",
      " ------------------------------------------------------------\n",
      "\n",
      "MultinomialNB(alpha=1)\n",
      "Accuracy score on training set : 82.03 %\n",
      "Accuracy score on testing set  : 82.03 %\n",
      "F - 1 score on training set    : 30.04 %\n",
      "F - 1 score on testing set     : 30.04 %\n",
      "\n",
      " ------------------------------------------------------------\n"
     ]
    }
   ],
   "source": [
    "# Creating hyperparameters\n",
    "alphas = [0.01, 0.2, 0.6, 0.8, 1]\n",
    "\n",
    "# Looping through each hyperparameter and creating a model for each.\n",
    "for a in alphas: \n",
    "    # Defining naive bayes model object\n",
    "    nb_model = nb_model = MultinomialNB(alpha=a)\n",
    "    \n",
    "    # Training and evaluating the naive bayes model\n",
    "    train_and_evaluation(model=nb_model,\n",
    "                         training_features=train_features,\n",
    "                         training_target=train_target,\n",
    "                         testing_features=test_features,\n",
    "                         testing_target=test_target)"
   ]
  },
  {
   "cell_type": "markdown",
   "id": "3fae78df",
   "metadata": {},
   "source": [
    "### XGBoost Classifier"
   ]
  },
  {
   "cell_type": "code",
   "execution_count": 29,
   "id": "cffee252",
   "metadata": {},
   "outputs": [
    {
     "name": "stdout",
     "output_type": "stream",
     "text": [
      "\n",
      "XGBClassifier(alpha=0, base_score=None, booster=None, callbacks=None,\n",
      "              colsample_bylevel=None, colsample_bynode=None,\n",
      "              colsample_bytree=None, device=None, early_stopping_rounds=None,\n",
      "              enable_categorical=False, eval_metric=None, feature_types=None,\n",
      "              gamma=None, grow_policy=None, importance_type=None,\n",
      "              interaction_constraints=None, learning_rate=None, max_bin=None,\n",
      "              max_cat_threshold=None, max_cat_to_onehot=None,\n",
      "              max_delta_step=None, max_depth=None, max_leaves=None,\n",
      "              min_child_weight=None, missing=nan, monotone_constraints=None,\n",
      "              multi_strategy=None, n_estimators=None, n_jobs=None,\n",
      "              num_parallel_tree=None, ...)\n",
      "Accuracy score on training set : 100.0 %\n",
      "Accuracy score on testing set  : 100.0 %\n",
      "F - 1 score on training set    : 100.0 %\n",
      "F - 1 score on testing set     : 100.0 %\n",
      "\n",
      " ------------------------------------------------------------\n",
      "\n",
      "XGBClassifier(alpha=0.2, base_score=None, booster=None, callbacks=None,\n",
      "              colsample_bylevel=None, colsample_bynode=None,\n",
      "              colsample_bytree=None, device=None, early_stopping_rounds=None,\n",
      "              enable_categorical=False, eval_metric=None, feature_types=None,\n",
      "              gamma=None, grow_policy=None, importance_type=None,\n",
      "              interaction_constraints=None, learning_rate=None, max_bin=None,\n",
      "              max_cat_threshold=None, max_cat_to_onehot=None,\n",
      "              max_delta_step=None, max_depth=None, max_leaves=None,\n",
      "              min_child_weight=None, missing=nan, monotone_constraints=None,\n",
      "              multi_strategy=None, n_estimators=None, n_jobs=None,\n",
      "              num_parallel_tree=None, ...)\n",
      "Accuracy score on training set : 100.0 %\n",
      "Accuracy score on testing set  : 100.0 %\n",
      "F - 1 score on training set    : 100.0 %\n",
      "F - 1 score on testing set     : 100.0 %\n",
      "\n",
      " ------------------------------------------------------------\n",
      "\n",
      "XGBClassifier(alpha=0.6, base_score=None, booster=None, callbacks=None,\n",
      "              colsample_bylevel=None, colsample_bynode=None,\n",
      "              colsample_bytree=None, device=None, early_stopping_rounds=None,\n",
      "              enable_categorical=False, eval_metric=None, feature_types=None,\n",
      "              gamma=None, grow_policy=None, importance_type=None,\n",
      "              interaction_constraints=None, learning_rate=None, max_bin=None,\n",
      "              max_cat_threshold=None, max_cat_to_onehot=None,\n",
      "              max_delta_step=None, max_depth=None, max_leaves=None,\n",
      "              min_child_weight=None, missing=nan, monotone_constraints=None,\n",
      "              multi_strategy=None, n_estimators=None, n_jobs=None,\n",
      "              num_parallel_tree=None, ...)\n",
      "Accuracy score on training set : 100.0 %\n",
      "Accuracy score on testing set  : 100.0 %\n",
      "F - 1 score on training set    : 100.0 %\n",
      "F - 1 score on testing set     : 100.0 %\n",
      "\n",
      " ------------------------------------------------------------\n",
      "\n",
      "XGBClassifier(alpha=0.8, base_score=None, booster=None, callbacks=None,\n",
      "              colsample_bylevel=None, colsample_bynode=None,\n",
      "              colsample_bytree=None, device=None, early_stopping_rounds=None,\n",
      "              enable_categorical=False, eval_metric=None, feature_types=None,\n",
      "              gamma=None, grow_policy=None, importance_type=None,\n",
      "              interaction_constraints=None, learning_rate=None, max_bin=None,\n",
      "              max_cat_threshold=None, max_cat_to_onehot=None,\n",
      "              max_delta_step=None, max_depth=None, max_leaves=None,\n",
      "              min_child_weight=None, missing=nan, monotone_constraints=None,\n",
      "              multi_strategy=None, n_estimators=None, n_jobs=None,\n",
      "              num_parallel_tree=None, ...)\n",
      "Accuracy score on training set : 100.0 %\n",
      "Accuracy score on testing set  : 100.0 %\n",
      "F - 1 score on training set    : 100.0 %\n",
      "F - 1 score on testing set     : 100.0 %\n",
      "\n",
      " ------------------------------------------------------------\n",
      "\n",
      "XGBClassifier(alpha=1, base_score=None, booster=None, callbacks=None,\n",
      "              colsample_bylevel=None, colsample_bynode=None,\n",
      "              colsample_bytree=None, device=None, early_stopping_rounds=None,\n",
      "              enable_categorical=False, eval_metric=None, feature_types=None,\n",
      "              gamma=None, grow_policy=None, importance_type=None,\n",
      "              interaction_constraints=None, learning_rate=None, max_bin=None,\n",
      "              max_cat_threshold=None, max_cat_to_onehot=None,\n",
      "              max_delta_step=None, max_depth=None, max_leaves=None,\n",
      "              min_child_weight=None, missing=nan, monotone_constraints=None,\n",
      "              multi_strategy=None, n_estimators=None, n_jobs=None,\n",
      "              num_parallel_tree=None, ...)\n",
      "Accuracy score on training set : 100.0 %\n",
      "Accuracy score on testing set  : 100.0 %\n",
      "F - 1 score on training set    : 100.0 %\n",
      "F - 1 score on testing set     : 100.0 %\n",
      "\n",
      " ------------------------------------------------------------\n"
     ]
    }
   ],
   "source": [
    "# Creating hyperparameters\n",
    "alphas = [0, 0.2, 0.6, 0.8, 1]\n",
    "\n",
    "# Looping through each hyperparameter and creating a model for each.\n",
    "for a in alphas: \n",
    "    # Defining naive bayes model object\n",
    "    xgb = XGBClassifier(alpha=a, random_state = 100, objective=\"multi:softprob\")\n",
    "    \n",
    "    # Training and evaluating the naive bayes model\n",
    "    train_and_evaluation(model=xgb,\n",
    "                         training_features=train_features,\n",
    "                         training_target=train_target,\n",
    "                         testing_features=test_features,\n",
    "                         testing_target=test_target)"
   ]
  },
  {
   "cell_type": "markdown",
   "id": "d9277155",
   "metadata": {},
   "source": [
    "# Best Model "
   ]
  },
  {
   "cell_type": "markdown",
   "id": "7dbcbd7e",
   "metadata": {},
   "source": [
    "The logistic regression models with hyperparameter c >= 0.001 and all xgboost models have the same and better performance than the Naive Bayes model. Logistic regression model with c=0.001 will be selected as the best model because it signifies stronger regularization, has high performance and does not show signs of overfitting(or perfection). Further, Logist regression was chosen over xgboost because of the following:\n",
    "\n",
    "1. **Simplicity** is one of the advantages. Simple and easily understood, logistic regression is a model. It can help to comprehend the connection between characteristics and the target variable and offers a clear interpretation of coefficients.\n",
    "\n",
    "2. **Efficacy** : Large datasets with many features can benefit from the computational efficiency of logistic regression with gradient descent. It can be trained effectively on distributed computing platforms and has rather low memory needs.\n",
    "\n",
    "3. **Linear Relationships** : Logistic regression works well with issues in which the target variable and features have a roughly linear relationship. It is able to reliably anticipate in such situations and capture linear relationships.\n"
   ]
  },
  {
   "cell_type": "markdown",
   "id": "80691906",
   "metadata": {},
   "source": [
    "## Additional evaluation of best model"
   ]
  },
  {
   "cell_type": "code",
   "execution_count": 30,
   "id": "84a6f847",
   "metadata": {},
   "outputs": [],
   "source": [
    "# Function to plot confusion metrix\n",
    "def conf_matrix(actual,predictions):\n",
    "    \" This function calculates the accuracy score and displays it on the confusion matrix\"\n",
    "    # Calculating accuracy score\n",
    "    score = round(accuracy_score(actual,predictions),4)*100\n",
    "    \n",
    "    # Creating confusion matrix.\n",
    "    confusion_matrix = metrics.confusion_matrix(actual, predictions,normalize='true')\n",
    "    \n",
    "    # Displaying confusion matrix.\n",
    "    plt.figure(figsize=(5,5))\n",
    "    labels=['password-weak', 'password-Medium','password-Strong']\n",
    "    sns.heatmap(confusion_matrix, annot=True, fmt=\".3f\", linewidths=.5, square = True, cmap = 'twilight',\n",
    "               xticklabels=labels, yticklabels=labels);\n",
    "    plt.ylabel('Actual label');\n",
    "    plt.xlabel('Predicted label');\n",
    "    all_sample_title = 'Accuracy Score as a % : {0}'.format(score)\n",
    "    plt.title(all_sample_title, size = 10);"
   ]
  },
  {
   "cell_type": "code",
   "execution_count": 31,
   "id": "36d45e06",
   "metadata": {},
   "outputs": [
    {
     "data": {
      "text/html": [
       "<style>#sk-container-id-1 {color: black;}#sk-container-id-1 pre{padding: 0;}#sk-container-id-1 div.sk-toggleable {background-color: white;}#sk-container-id-1 label.sk-toggleable__label {cursor: pointer;display: block;width: 100%;margin-bottom: 0;padding: 0.3em;box-sizing: border-box;text-align: center;}#sk-container-id-1 label.sk-toggleable__label-arrow:before {content: \"▸\";float: left;margin-right: 0.25em;color: #696969;}#sk-container-id-1 label.sk-toggleable__label-arrow:hover:before {color: black;}#sk-container-id-1 div.sk-estimator:hover label.sk-toggleable__label-arrow:before {color: black;}#sk-container-id-1 div.sk-toggleable__content {max-height: 0;max-width: 0;overflow: hidden;text-align: left;background-color: #f0f8ff;}#sk-container-id-1 div.sk-toggleable__content pre {margin: 0.2em;color: black;border-radius: 0.25em;background-color: #f0f8ff;}#sk-container-id-1 input.sk-toggleable__control:checked~div.sk-toggleable__content {max-height: 200px;max-width: 100%;overflow: auto;}#sk-container-id-1 input.sk-toggleable__control:checked~label.sk-toggleable__label-arrow:before {content: \"▾\";}#sk-container-id-1 div.sk-estimator input.sk-toggleable__control:checked~label.sk-toggleable__label {background-color: #d4ebff;}#sk-container-id-1 div.sk-label input.sk-toggleable__control:checked~label.sk-toggleable__label {background-color: #d4ebff;}#sk-container-id-1 input.sk-hidden--visually {border: 0;clip: rect(1px 1px 1px 1px);clip: rect(1px, 1px, 1px, 1px);height: 1px;margin: -1px;overflow: hidden;padding: 0;position: absolute;width: 1px;}#sk-container-id-1 div.sk-estimator {font-family: monospace;background-color: #f0f8ff;border: 1px dotted black;border-radius: 0.25em;box-sizing: border-box;margin-bottom: 0.5em;}#sk-container-id-1 div.sk-estimator:hover {background-color: #d4ebff;}#sk-container-id-1 div.sk-parallel-item::after {content: \"\";width: 100%;border-bottom: 1px solid gray;flex-grow: 1;}#sk-container-id-1 div.sk-label:hover label.sk-toggleable__label {background-color: #d4ebff;}#sk-container-id-1 div.sk-serial::before {content: \"\";position: absolute;border-left: 1px solid gray;box-sizing: border-box;top: 0;bottom: 0;left: 50%;z-index: 0;}#sk-container-id-1 div.sk-serial {display: flex;flex-direction: column;align-items: center;background-color: white;padding-right: 0.2em;padding-left: 0.2em;position: relative;}#sk-container-id-1 div.sk-item {position: relative;z-index: 1;}#sk-container-id-1 div.sk-parallel {display: flex;align-items: stretch;justify-content: center;background-color: white;position: relative;}#sk-container-id-1 div.sk-item::before, #sk-container-id-1 div.sk-parallel-item::before {content: \"\";position: absolute;border-left: 1px solid gray;box-sizing: border-box;top: 0;bottom: 0;left: 50%;z-index: -1;}#sk-container-id-1 div.sk-parallel-item {display: flex;flex-direction: column;z-index: 1;position: relative;background-color: white;}#sk-container-id-1 div.sk-parallel-item:first-child::after {align-self: flex-end;width: 50%;}#sk-container-id-1 div.sk-parallel-item:last-child::after {align-self: flex-start;width: 50%;}#sk-container-id-1 div.sk-parallel-item:only-child::after {width: 0;}#sk-container-id-1 div.sk-dashed-wrapped {border: 1px dashed gray;margin: 0 0.4em 0.5em 0.4em;box-sizing: border-box;padding-bottom: 0.4em;background-color: white;}#sk-container-id-1 div.sk-label label {font-family: monospace;font-weight: bold;display: inline-block;line-height: 1.2em;}#sk-container-id-1 div.sk-label-container {text-align: center;}#sk-container-id-1 div.sk-container {/* jupyter's `normalize.less` sets `[hidden] { display: none; }` but bootstrap.min.css set `[hidden] { display: none !important; }` so we also need the `!important` here to be able to override the default hidden behavior on the sphinx rendered scikit-learn.org. See: https://github.com/scikit-learn/scikit-learn/issues/21755 */display: inline-block !important;position: relative;}#sk-container-id-1 div.sk-text-repr-fallback {display: none;}</style><div id=\"sk-container-id-1\" class=\"sk-top-container\"><div class=\"sk-text-repr-fallback\"><pre>LogisticRegression(C=0.001, max_iter=10000, random_state=1)</pre><b>In a Jupyter environment, please rerun this cell to show the HTML representation or trust the notebook. <br />On GitHub, the HTML representation is unable to render, please try loading this page with nbviewer.org.</b></div><div class=\"sk-container\" hidden><div class=\"sk-item\"><div class=\"sk-estimator sk-toggleable\"><input class=\"sk-toggleable__control sk-hidden--visually\" id=\"sk-estimator-id-1\" type=\"checkbox\" checked><label for=\"sk-estimator-id-1\" class=\"sk-toggleable__label sk-toggleable__label-arrow\">LogisticRegression</label><div class=\"sk-toggleable__content\"><pre>LogisticRegression(C=0.001, max_iter=10000, random_state=1)</pre></div></div></div></div></div>"
      ],
      "text/plain": [
       "LogisticRegression(C=0.001, max_iter=10000, random_state=1)"
      ]
     },
     "execution_count": 31,
     "metadata": {},
     "output_type": "execute_result"
    }
   ],
   "source": [
    "# refitting the best model.\n",
    "best_model = LogisticRegression(C=0.001, max_iter=10000, random_state=1)\n",
    "best_model.fit(train_features,train_target)"
   ]
  },
  {
   "cell_type": "code",
   "execution_count": 32,
   "id": "68a62680",
   "metadata": {},
   "outputs": [],
   "source": [
    "# Generating predictions\n",
    "predictions_train = best_model.predict(train_features)\n",
    "predictions_test = best_model.predict(test_features)"
   ]
  },
  {
   "cell_type": "code",
   "execution_count": 33,
   "id": "c79c90c4",
   "metadata": {},
   "outputs": [
    {
     "name": "stdout",
     "output_type": "stream",
     "text": [
      "Train accuracy score : 0.9982584893064546\n",
      "Test accuracy score : 0.9980798771121352\n"
     ]
    }
   ],
   "source": [
    "# Checking the accuracy\n",
    "print(f\"Train accuracy score : {accuracy_score(train_target, predictions_train)}\")\n",
    "print(f\"Test accuracy score : {accuracy_score(test_target, predictions_test)}\")"
   ]
  },
  {
   "cell_type": "code",
   "execution_count": 34,
   "id": "9b36ee92",
   "metadata": {},
   "outputs": [
    {
     "data": {
      "image/png": "[encoded data removed]",
      "text/plain": [
       "<Figure size 500x500 with 2 Axes>"
      ]
     },
     "metadata": {},
     "output_type": "display_data"
    }
   ],
   "source": [
    "conf_matrix(test_target,predictions_test)"
   ]
  },
  {
   "cell_type": "markdown",
   "id": "8c15f1a2",
   "metadata": {},
   "source": [
    "The model is doing a good job in predicting all class labels. Notably, it performance on strong password is slightly lower that on medium and weak passwords. This is because number of strong passwords is lower than the number of medium and weak passwords in the training data."
   ]
  },
  {
   "cell_type": "markdown",
   "id": "b7d86535",
   "metadata": {},
   "source": [
    "## Testing the model with a sample passwords"
   ]
  },
  {
   "cell_type": "code",
   "execution_count": 35,
   "id": "8b815602",
   "metadata": {},
   "outputs": [],
   "source": [
    "# Function to preprocess the password.\n",
    "def password_preprocessor(text):\n",
    "  # Find the length of character presented in password\n",
    "  char_count=len(text)\n",
    "  text=pd.Series(text)\n",
    "  # # Find the length of number presented in password\n",
    "  numerics=text.apply(lambda x: len([str(x) for x in list(x) if str(x).isdigit()]))\n",
    "  # # Find the length of Alphabets presented in password\n",
    "  letters=text.apply(lambda x: len([x for x in list(x) if x.isalpha()]))\n",
    "  # # Find the length of puncuation presented in password\n",
    "  specialSymbols = '!?%&.:~/\\|,;<>-_+@#$%^&*(){}[]'\n",
    "  punc=text.apply(lambda x: len([x for x in list(x) if x in specialSymbols]))\n",
    "  # # Find the length of vowels presented in password\n",
    "  vowels = ['a', 'e', 'i', 'o', 'u']\n",
    "  vowels=text.apply(lambda x: len([x for x in list(x) if x in vowels]))\n",
    "  # # Find the length of consonants presented in password\n",
    "  consonants=text.apply(lambda x: len([x for x in list(x) if x not in vowels and x.isalpha()]))\n",
    "  return char_count,numerics[0],letters[0],punc[0],vowels[0],consonants[0]"
   ]
  },
  {
   "cell_type": "markdown",
   "id": "14b4c479",
   "metadata": {},
   "source": [
    "    Test 1 - First Password"
   ]
  },
  {
   "cell_type": "code",
   "execution_count": 36,
   "id": "63964391",
   "metadata": {},
   "outputs": [],
   "source": [
    "# Calculation the number of characters, numerics, letters, puctuations, vowels and consonants.\n",
    "length=password_preprocessor('KA1995*$;')"
   ]
  },
  {
   "cell_type": "code",
   "execution_count": 37,
   "id": "1775916c",
   "metadata": {},
   "outputs": [],
   "source": [
    "# Putting the number of characters, numerics, letters, puctuations, vowels and consonants in a dataframe.\n",
    "data =pd.DataFrame({'char_count':  [length[0]],\n",
    "        'numerics': [length[1]],\n",
    "        'letters':  [length[2]],\n",
    "        'punc':  [length[3]],\n",
    "        'vowels':  [length[4]],\n",
    "        'consonants':  [length[5]]\n",
    "        })"
   ]
  },
  {
   "cell_type": "code",
   "execution_count": 38,
   "id": "4eb520bc",
   "metadata": {},
   "outputs": [
    {
     "name": "stdout",
     "output_type": "stream",
     "text": [
      "Password Strength is medium\n"
     ]
    }
   ],
   "source": [
    "# Generating  the prediction\n",
    "k=best_model.predict(data)\n",
    "if k ==0:\n",
    "  print('Password Strength is weak')\n",
    "elif k==1:\n",
    "  print('Password Strength is medium')\n",
    "else:\n",
    "  print('Password Strength is strong')"
   ]
  },
  {
   "cell_type": "markdown",
   "id": "12fff3fb",
   "metadata": {},
   "source": [
    "    Test 2 - Second password"
   ]
  },
  {
   "cell_type": "code",
   "execution_count": 39,
   "id": "575e3e81",
   "metadata": {},
   "outputs": [],
   "source": [
    "# Calculation the number of characters, numerics, letters, puctuations, vowels and consonants.\n",
    "length=password_preprocessor('#Nampungwekps1988')"
   ]
  },
  {
   "cell_type": "code",
   "execution_count": 40,
   "id": "86b70693",
   "metadata": {},
   "outputs": [],
   "source": [
    "# Putting the number of characters, numerics, letters, puctuations, vowels and consonants in a dataframe.\n",
    "data =pd.DataFrame({'char_count':  [length[0]],\n",
    "        'numerics': [length[1]],\n",
    "        'letters':  [length[2]],\n",
    "        'punc':  [length[3]],\n",
    "        'vowels':  [length[4]],\n",
    "        'consonants':  [length[5]]\n",
    "        })"
   ]
  },
  {
   "cell_type": "code",
   "execution_count": 41,
   "id": "eae88fac",
   "metadata": {},
   "outputs": [
    {
     "name": "stdout",
     "output_type": "stream",
     "text": [
      "Password Strength is strong\n"
     ]
    }
   ],
   "source": [
    "# Generating  the prediction\n",
    "k=best_model.predict(data)\n",
    "if k ==0:\n",
    "  print('Password Strength is weak')\n",
    "elif k==1:\n",
    "  print('Password Strength is medium')\n",
    "else:\n",
    "  print('Password Strength is strong')"
   ]
  },
  {
   "cell_type": "markdown",
   "id": "964b9d7f",
   "metadata": {},
   "source": [
    "    Test 3 - Third Password "
   ]
  },
  {
   "cell_type": "code",
   "execution_count": 42,
   "id": "597bcad8",
   "metadata": {},
   "outputs": [],
   "source": [
    "length = password_preprocessor('Imwe')"
   ]
  },
  {
   "cell_type": "code",
   "execution_count": 43,
   "id": "1ae9706e",
   "metadata": {},
   "outputs": [],
   "source": [
    "# Putting the number of characters, numerics, letters, puctuations, vowels and consonants in a dataframe.\n",
    "data =pd.DataFrame({'char_count':  [length[0]],\n",
    "        'numerics': [length[1]],\n",
    "        'letters':  [length[2]],\n",
    "        'punc':  [length[3]],\n",
    "        'vowels':  [length[4]],\n",
    "        'consonants':  [length[5]]\n",
    "        })"
   ]
  },
  {
   "cell_type": "code",
   "execution_count": 44,
   "id": "2f886d3b",
   "metadata": {},
   "outputs": [
    {
     "name": "stdout",
     "output_type": "stream",
     "text": [
      "Password Strength is weak\n"
     ]
    }
   ],
   "source": [
    "# Generating  the prediction\n",
    "k=best_model.predict(data)\n",
    "if k ==0:\n",
    "  print('Password Strength is weak')\n",
    "elif k==1:\n",
    "  print('Password Strength is medium')\n",
    "else:\n",
    "  print('Password Strength is strong')"
   ]
  },
  {
   "cell_type": "markdown",
   "id": "f2ac1d2b",
   "metadata": {},
   "source": [
    "## Saving the model for deployment"
   ]
  },
  {
   "cell_type": "code",
   "execution_count": 45,
   "id": "1f77989a",
   "metadata": {},
   "outputs": [],
   "source": [
    "# Saving the model as pickle file for deployment\n",
    "with open(\"password_classifier.pkl\", \"wb\") as f:\n",
    "    pickle.dump(best_model, f)"
   ]
  },
  {
   "cell_type": "code",
   "execution_count": null,
   "id": "c027eb47",
   "metadata": {},
   "outputs": [],
   "source": []
  }
 ],
 "metadata": {
  "kernelspec": {
   "display_name": "Python 3 (ipykernel)",
   "language": "python",
   "name": "python3"
  },
  "language_info": {
   "codemirror_mode": {
    "name": "ipython",
    "version": 3
   },
   "file_extension": ".py",
   "mimetype": "text/x-python",
   "name": "python",
   "nbconvert_exporter": "python",
   "pygments_lexer": "ipython3",
   "version": "3.11.5"
  },
  "toc": {
   "base_numbering": 1,
   "nav_menu": {},
   "number_sections": true,
   "sideBar": true,
   "skip_h1_title": false,
   "title_cell": "Table of Contents",
   "title_sidebar": "Contents",
   "toc_cell": false,
   "toc_position": {
    "height": "calc(100% - 180px)",
    "left": "10px",
    "top": "150px",
    "width": "303.828px"
   },
   "toc_section_display": true,
   "toc_window_display": true
  },
  "varInspector": {
   "cols": {
    "lenName": 16,
    "lenType": 16,
    "lenVar": 40
   },
   "kernels_config": {
    "python": {
     "delete_cmd_postfix": "",
     "delete_cmd_prefix": "del ",
     "library": "var_list.py",
     "varRefreshCmd": "print(var_dic_list())"
    },
    "r": {
     "delete_cmd_postfix": ") ",
     "delete_cmd_prefix": "rm(",
     "library": "var_list.r",
     "varRefreshCmd": "cat(var_dic_list()) "
    }
   },
   "types_to_exclude": [
    "module",
    "function",
    "builtin_function_or_method",
    "instance",
    "_Feature"
   ],
   "window_display": false
  }
 },
 "nbformat": 4,
 "nbformat_minor": 5
}
