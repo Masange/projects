{
 "cells": [
  {
   "cell_type": "markdown",
   "id": "b071d9ec",
   "metadata": {},
   "source": [
    "<font size=\"5\">**<center> Exercise 10.2: Recommender System**</font>"
   ]
  },
  {
   "cell_type": "markdown",
   "id": "aa3431db",
   "metadata": {},
   "source": [
    "# Description of the recommendor system"
   ]
  },
  {
   "cell_type": "markdown",
   "id": "aa5883c4",
   "metadata": {},
   "source": [
    "This movie recommendation system is interactive. It allows the user to search for a movie they would like to watch. When the recommendation system receives the name of the movie the user would like to watch, it immediately outputs 10 recommendations for the other movies which they might want to watch. The recommendation is made based on the cosine similarity measure between the movie being searched and the other movies in the dataset. Essentially, the recommendor system outputs the movies with the 10 most highest cosine similarity measures relative to the searched movie. The following are the steps performed by the system in order to make a recommendation :\n",
    "\n",
    "- Step 1 : Accepts the movie title entered by the user.\n",
    "- Step 2 : Converts the entered title from character to numerical format for it to be processed by the system.\n",
    "- Step 3 : Calculates the similarity between the entered title and other titles in the dataset using the cosine similarity method\n",
    "- Step 4 : Identifies 10 movies which are very similar to the entered title based on the calculated similarity measure.\n",
    "- Step 5 : Outputs the 10 movies as recommendation to the user.\n",
    "\n",
    "The output of the system is the title of of the recommendation along with the genre."
   ]
  },
  {
   "cell_type": "markdown",
   "id": "0ce1c6f4",
   "metadata": {},
   "source": [
    "# Libraries"
   ]
  },
  {
   "cell_type": "code",
   "execution_count": 1,
   "id": "996458f7",
   "metadata": {},
   "outputs": [],
   "source": [
    "# Importing the necessary library\n",
    "import pandas as pd\n",
    "from sklearn.feature_extraction.text import CountVectorizer\n",
    "from sklearn.metrics.pairwise import cosine_similarity\n",
    "import numpy as np\n",
    "import re\n",
    "from sklearn.feature_extraction.text import TfidfVectorizer\n",
    "import ipywidgets as widgets\n",
    "from IPython.display import display\n",
    "from IPython.display import HTML"
   ]
  },
  {
   "cell_type": "markdown",
   "id": "88ffa46e",
   "metadata": {},
   "source": [
    "# Loading data "
   ]
  },
  {
   "cell_type": "code",
   "execution_count": 2,
   "id": "8ef879c4",
   "metadata": {},
   "outputs": [],
   "source": [
    "# Loading the data from the local drive\n",
    "movies_df = pd.read_csv(\"D:/Training/Bellevue/Predictive Analytics/Data/movies.csv\")"
   ]
  },
  {
   "cell_type": "code",
   "execution_count": 3,
   "id": "470e1add",
   "metadata": {},
   "outputs": [
    {
     "data": {
      "text/plain": [
       "(86537, 3)"
      ]
     },
     "execution_count": 3,
     "metadata": {},
     "output_type": "execute_result"
    }
   ],
   "source": [
    "# Checking the shape of dataframe\n",
    "movies_df.shape"
   ]
  },
  {
   "cell_type": "markdown",
   "id": "d15107eb",
   "metadata": {},
   "source": [
    "The dataframe has 86537 rows and 3 columns"
   ]
  },
  {
   "cell_type": "code",
   "execution_count": 4,
   "id": "cb5274b8",
   "metadata": {},
   "outputs": [
    {
     "name": "stdout",
     "output_type": "stream",
     "text": [
      "<class 'pandas.core.frame.DataFrame'>\n",
      "RangeIndex: 86537 entries, 0 to 86536\n",
      "Data columns (total 3 columns):\n",
      " #   Column   Non-Null Count  Dtype \n",
      "---  ------   --------------  ----- \n",
      " 0   movieId  86537 non-null  int64 \n",
      " 1   title    86537 non-null  object\n",
      " 2   genres   86537 non-null  object\n",
      "dtypes: int64(1), object(2)\n",
      "memory usage: 2.0+ MB\n"
     ]
    }
   ],
   "source": [
    "# Checking the information\n",
    "movies_df.info()"
   ]
  },
  {
   "cell_type": "markdown",
   "id": "880a2531",
   "metadata": {},
   "source": [
    "For all three columns there are 86537 non-null count. Therefore there no missing values in the dataframe."
   ]
  },
  {
   "cell_type": "code",
   "execution_count": 5,
   "id": "7998c26a",
   "metadata": {},
   "outputs": [
    {
     "data": {
      "text/html": [
       "<div>\n",
       "<style scoped>\n",
       "    .dataframe tbody tr th:only-of-type {\n",
       "        vertical-align: middle;\n",
       "    }\n",
       "\n",
       "    .dataframe tbody tr th {\n",
       "        vertical-align: top;\n",
       "    }\n",
       "\n",
       "    .dataframe thead th {\n",
       "        text-align: right;\n",
       "    }\n",
       "</style>\n",
       "<table border=\"1\" class=\"dataframe\">\n",
       "  <thead>\n",
       "    <tr style=\"text-align: right;\">\n",
       "      <th></th>\n",
       "      <th>movieId</th>\n",
       "      <th>title</th>\n",
       "      <th>genres</th>\n",
       "    </tr>\n",
       "  </thead>\n",
       "  <tbody>\n",
       "    <tr>\n",
       "      <th>0</th>\n",
       "      <td>1</td>\n",
       "      <td>Toy Story (1995)</td>\n",
       "      <td>Adventure|Animation|Children|Comedy|Fantasy</td>\n",
       "    </tr>\n",
       "    <tr>\n",
       "      <th>1</th>\n",
       "      <td>2</td>\n",
       "      <td>Jumanji (1995)</td>\n",
       "      <td>Adventure|Children|Fantasy</td>\n",
       "    </tr>\n",
       "    <tr>\n",
       "      <th>2</th>\n",
       "      <td>3</td>\n",
       "      <td>Grumpier Old Men (1995)</td>\n",
       "      <td>Comedy|Romance</td>\n",
       "    </tr>\n",
       "    <tr>\n",
       "      <th>3</th>\n",
       "      <td>4</td>\n",
       "      <td>Waiting to Exhale (1995)</td>\n",
       "      <td>Comedy|Drama|Romance</td>\n",
       "    </tr>\n",
       "    <tr>\n",
       "      <th>4</th>\n",
       "      <td>5</td>\n",
       "      <td>Father of the Bride Part II (1995)</td>\n",
       "      <td>Comedy</td>\n",
       "    </tr>\n",
       "  </tbody>\n",
       "</table>\n",
       "</div>"
      ],
      "text/plain": [
       "   movieId                               title  \\\n",
       "0        1                    Toy Story (1995)   \n",
       "1        2                      Jumanji (1995)   \n",
       "2        3             Grumpier Old Men (1995)   \n",
       "3        4            Waiting to Exhale (1995)   \n",
       "4        5  Father of the Bride Part II (1995)   \n",
       "\n",
       "                                        genres  \n",
       "0  Adventure|Animation|Children|Comedy|Fantasy  \n",
       "1                   Adventure|Children|Fantasy  \n",
       "2                               Comedy|Romance  \n",
       "3                         Comedy|Drama|Romance  \n",
       "4                                       Comedy  "
      ]
     },
     "execution_count": 5,
     "metadata": {},
     "output_type": "execute_result"
    }
   ],
   "source": [
    "# Displaying first five observations\n",
    "movies_df.head()"
   ]
  },
  {
   "cell_type": "markdown",
   "id": "156eb9b7",
   "metadata": {},
   "source": [
    "The data is properly loaded."
   ]
  },
  {
   "cell_type": "markdown",
   "id": "02a84ec4",
   "metadata": {},
   "source": [
    "# Data Cleaning"
   ]
  },
  {
   "cell_type": "code",
   "execution_count": 6,
   "id": "d10d8fa1",
   "metadata": {},
   "outputs": [],
   "source": [
    "def clean_title(title):\n",
    "    # Function to remove special characters.\n",
    "    return re.sub(\"[^a-zA-Z0-9 ]\", \"\", title)"
   ]
  },
  {
   "cell_type": "code",
   "execution_count": 7,
   "id": "144e2241",
   "metadata": {},
   "outputs": [],
   "source": [
    "# Cleaning the title by removing special characters.\n",
    "# This will make the movie search easy\n",
    "movies_df[\"title\"] = movies_df[\"title\"].apply(clean_title)"
   ]
  },
  {
   "cell_type": "markdown",
   "id": "3bc68937",
   "metadata": {},
   "source": [
    "# Vectorization"
   ]
  },
  {
   "cell_type": "markdown",
   "id": "7c6ccad0",
   "metadata": {},
   "source": [
    "This allows getting distinct features out of the text for the model to train on, by converting text to numerical vectors."
   ]
  },
  {
   "cell_type": "code",
   "execution_count": 8,
   "id": "9a0461ba",
   "metadata": {},
   "outputs": [],
   "source": [
    "# Converting titles into numbers so that they can be \n",
    "# to train the recommendation system.\n",
    "vectorizer = TfidfVectorizer(ngram_range=(1,2)) # This will be used to convert \n",
    "                                                # titlesinto numbers\n",
    "tfidf = vectorizer.fit_transform(movies_df[\"title\"])"
   ]
  },
  {
   "cell_type": "markdown",
   "id": "d07f25de",
   "metadata": {},
   "source": [
    "# Building the recommendation System"
   ]
  },
  {
   "cell_type": "code",
   "execution_count": 9,
   "id": "2ad26891",
   "metadata": {},
   "outputs": [],
   "source": [
    "def search(title):\n",
    "    '''This function accepts user input(movie) and computes its similarity\n",
    "    with other movies in the dataset. It outputs the 10 most similar movies\n",
    "    as a recommendation for the user.    \n",
    "    '''\n",
    "    # title being searched\n",
    "    title = clean_title(title) \n",
    "    \n",
    "    # vectorizing the title being searched.\n",
    "    querry_vector = vectorizer.transform([title]) \n",
    "    \n",
    "    # Calculating similarity between the searched\n",
    "    # title and other titles in the dataset.\n",
    "    similarity = cosine_similarity(querry_vector, tfidf).flatten()\n",
    "    # identifying the 10 most similar movies to the one being searched.\n",
    "    # The first movie is shown as the first observation.\n",
    "    indices = np.argpartition(similarity, -11)[-11:]\n",
    "    # Extracting the movies which are most similar to the searched movie\n",
    "    results = movies_df.iloc[indices][::-1] \n",
    "    # Remove column name movie Id\n",
    "    results = results.drop(['movieId'], axis=1)\n",
    "    # Renaming the columns\n",
    "    results.columns = [\"Movie Title\", \"Genre\"]\n",
    "    \n",
    "    # drop first movie as it is the one being searched. \n",
    "    #This only leaves the other 10\n",
    "    # that are similar to it.\n",
    "    results = results.iloc[1:, :]\n",
    "    \n",
    "    # Removing the indexing from dataframe.\n",
    "    results = HTML(results.to_html(index=False))\n",
    "    return results"
   ]
  },
  {
   "cell_type": "markdown",
   "id": "2e58374d",
   "metadata": {},
   "source": [
    "# Iteractive Recommendation system"
   ]
  },
  {
   "cell_type": "markdown",
   "id": "5c685c54",
   "metadata": {},
   "source": [
    "We will now make the recommendation system interactive using widgets."
   ]
  },
  {
   "cell_type": "code",
   "execution_count": 10,
   "id": "cade2d14",
   "metadata": {},
   "outputs": [
    {
     "data": {
      "application/vnd.jupyter.widget-view+json": {
       "model_id": "de3d2804c4344daf8748a2e014986efe",
       "version_major": 2,
       "version_minor": 0
      },
      "text/plain": [
       "Text(value='Toy Story', description='Input Movie:')"
      ]
     },
     "metadata": {},
     "output_type": "display_data"
    },
    {
     "data": {
      "application/vnd.jupyter.widget-view+json": {
       "model_id": "72f0f1d04b0b4c5daa99bdc1c568c5c1",
       "version_major": 2,
       "version_minor": 0
      },
      "text/plain": [
       "Output()"
      ]
     },
     "metadata": {},
     "output_type": "display_data"
    }
   ],
   "source": [
    "# Input widget. This allows users to enter the movie they want to search\n",
    "movie_input = widgets.Text(\n",
    "                      value = 'Toy Story',# This is the default movie\n",
    "                      description = \"Input Movie:\",\n",
    "                      disabled = False)\n",
    "\n",
    "# Creating the output widget\n",
    "movie_list = widgets.Output()\n",
    "\n",
    "# This function searches by calling the search function we created above\n",
    "def on_type(data):\n",
    "    with movie_list:\n",
    "        movie_list.clear_output()\n",
    "        title = data[\"new\"]\n",
    "        if len(title)>5:\n",
    "            display(search(title))\n",
    "\n",
    "\n",
    "# calling the input widget\n",
    "movie_input.observe(on_type, names='value')\n",
    "\n",
    "# Displaying the movies\n",
    "display(movie_input,movie_list)\n"
   ]
  },
  {
   "cell_type": "markdown",
   "id": "58f9b905",
   "metadata": {},
   "source": [
    "References:\n",
    "1. https://www.geeksforgeeks.org/recommendation-system-in-python/abs"
   ]
  },
  {
   "cell_type": "code",
   "execution_count": null,
   "id": "5055b487",
   "metadata": {},
   "outputs": [],
   "source": []
  }
 ],
 "metadata": {
  "kernelspec": {
   "display_name": "Python 3 (ipykernel)",
   "language": "python",
   "name": "python3"
  },
  "language_info": {
   "codemirror_mode": {
    "name": "ipython",
    "version": 3
   },
   "file_extension": ".py",
   "mimetype": "text/x-python",
   "name": "python",
   "nbconvert_exporter": "python",
   "pygments_lexer": "ipython3",
   "version": "3.11.5"
  },
  "toc": {
   "base_numbering": 1,
   "nav_menu": {},
   "number_sections": true,
   "sideBar": true,
   "skip_h1_title": false,
   "title_cell": "Table of Contents",
   "title_sidebar": "Contents",
   "toc_cell": false,
   "toc_position": {
    "height": "calc(100% - 180px)",
    "left": "10px",
    "top": "150px",
    "width": "303.837px"
   },
   "toc_section_display": true,
   "toc_window_display": true
  },
  "varInspector": {
   "cols": {
    "lenName": 16,
    "lenType": 16,
    "lenVar": 40
   },
   "kernels_config": {
    "python": {
     "delete_cmd_postfix": "",
     "delete_cmd_prefix": "del ",
     "library": "var_list.py",
     "varRefreshCmd": "print(var_dic_list())"
    },
    "r": {
     "delete_cmd_postfix": ") ",
     "delete_cmd_prefix": "rm(",
     "library": "var_list.r",
     "varRefreshCmd": "cat(var_dic_list()) "
    }
   },
   "types_to_exclude": [
    "module",
    "function",
    "builtin_function_or_method",
    "instance",
    "_Feature"
   ],
   "window_display": false
  }
 },
 "nbformat": 4,
 "nbformat_minor": 5
}
