{
 "cells": [
  {
   "cell_type": "markdown",
   "id": "c85fffff",
   "metadata": {},
   "source": [
    "<font size=\"5\">**<center>Predicting Credit Card Default**</font>"
   ]
  },
  {
   "cell_type": "markdown",
   "id": "ee50bb87",
   "metadata": {},
   "source": [
    "## Libraries"
   ]
  },
  {
   "cell_type": "code",
   "execution_count": 1,
   "id": "d30deb32",
   "metadata": {},
   "outputs": [],
   "source": [
    "# Loading the necessary libraries for the project\n",
    "import pandas as pd\n",
    "import matplotlib.pyplot as plt\n",
    "import seaborn as sns\n",
    "from scipy.stats import chi2_contingency\n",
    "from sklearn.model_selection import train_test_split\n",
    "from sklearn.pipeline import Pipeline\n",
    "from sklearn.linear_model import LogisticRegression\n",
    "from sklearn.ensemble import RandomForestClassifier\n",
    "from xgboost import XGBClassifier\n",
    "from sklearn.metrics import precision_recall_fscore_support, roc_auc_score, accuracy_score\n",
    "import pickle\n",
    "import numpy as np"
   ]
  },
  {
   "cell_type": "markdown",
   "id": "ce16368c",
   "metadata": {},
   "source": [
    "## Introduction"
   ]
  },
  {
   "cell_type": "markdown",
   "id": "ae46ae0a",
   "metadata": {},
   "source": [
    "This project aims to develop a model that predicts the likelihood of credit card default."
   ]
  },
  {
   "cell_type": "markdown",
   "id": "3aea00c9",
   "metadata": {},
   "source": [
    "## Business Problem"
   ]
  },
  {
   "cell_type": "markdown",
   "id": "4261127b",
   "metadata": {},
   "source": [
    "Credit default prediction is central to managing risk in a consumer lending business. One way of achieving this is by using a model to determine the likelihood of customers defaulting on their credit card payments. Knowing such information allows lenders to optimize lending decisions, which leads to a better customer experience and sound business economics. Therefore, this topic is relevant to consumer lenders."
   ]
  },
  {
   "cell_type": "markdown",
   "id": "f419dc32",
   "metadata": {},
   "source": [
    "## Dataset"
   ]
  },
  {
   "cell_type": "markdown",
   "id": "e66b895f",
   "metadata": {},
   "source": [
    "To achieve the objective of this project, the credit card client’s dataset will be used. This data can be found at the following location:\n",
    "\n",
    "https://www.kaggle.com/datasets/uciml/default-of-credit-card-clients-dataset\n",
    "\n",
    "This dataset contains information on default payments, demographic factors, credit data, history of payment, and bill statements of credit card clients in Taiwan from April 2005 to September 2005."
   ]
  },
  {
   "cell_type": "markdown",
   "id": "dcec91e9",
   "metadata": {},
   "source": [
    "### Loading the dataset"
   ]
  },
  {
   "cell_type": "code",
   "execution_count": 2,
   "id": "fa465906",
   "metadata": {},
   "outputs": [],
   "source": [
    "# Data was downloaded from the link above. Now, it is being Loaded from the local drive.\n",
    "credit_card_df = pd.read_csv('UCI_Credit_Card.csv')"
   ]
  },
  {
   "cell_type": "code",
   "execution_count": 3,
   "id": "9f29abf4",
   "metadata": {},
   "outputs": [
    {
     "data": {
      "text/html": [
       "<div>\n",
       "<style scoped>\n",
       "    .dataframe tbody tr th:only-of-type {\n",
       "        vertical-align: middle;\n",
       "    }\n",
       "\n",
       "    .dataframe tbody tr th {\n",
       "        vertical-align: top;\n",
       "    }\n",
       "\n",
       "    .dataframe thead th {\n",
       "        text-align: right;\n",
       "    }\n",
       "</style>\n",
       "<table border=\"1\" class=\"dataframe\">\n",
       "  <thead>\n",
       "    <tr style=\"text-align: right;\">\n",
       "      <th></th>\n",
       "      <th>ID</th>\n",
       "      <th>LIMIT_BAL</th>\n",
       "      <th>SEX</th>\n",
       "      <th>EDUCATION</th>\n",
       "      <th>MARRIAGE</th>\n",
       "      <th>AGE</th>\n",
       "      <th>PAY_0</th>\n",
       "      <th>PAY_2</th>\n",
       "      <th>PAY_3</th>\n",
       "      <th>PAY_4</th>\n",
       "      <th>...</th>\n",
       "      <th>BILL_AMT4</th>\n",
       "      <th>BILL_AMT5</th>\n",
       "      <th>BILL_AMT6</th>\n",
       "      <th>PAY_AMT1</th>\n",
       "      <th>PAY_AMT2</th>\n",
       "      <th>PAY_AMT3</th>\n",
       "      <th>PAY_AMT4</th>\n",
       "      <th>PAY_AMT5</th>\n",
       "      <th>PAY_AMT6</th>\n",
       "      <th>default.payment.next.month</th>\n",
       "    </tr>\n",
       "  </thead>\n",
       "  <tbody>\n",
       "    <tr>\n",
       "      <th>0</th>\n",
       "      <td>1</td>\n",
       "      <td>20000.0</td>\n",
       "      <td>2</td>\n",
       "      <td>2</td>\n",
       "      <td>1</td>\n",
       "      <td>24</td>\n",
       "      <td>2</td>\n",
       "      <td>2</td>\n",
       "      <td>-1</td>\n",
       "      <td>-1</td>\n",
       "      <td>...</td>\n",
       "      <td>0.0</td>\n",
       "      <td>0.0</td>\n",
       "      <td>0.0</td>\n",
       "      <td>0.0</td>\n",
       "      <td>689.0</td>\n",
       "      <td>0.0</td>\n",
       "      <td>0.0</td>\n",
       "      <td>0.0</td>\n",
       "      <td>0.0</td>\n",
       "      <td>1</td>\n",
       "    </tr>\n",
       "    <tr>\n",
       "      <th>1</th>\n",
       "      <td>2</td>\n",
       "      <td>120000.0</td>\n",
       "      <td>2</td>\n",
       "      <td>2</td>\n",
       "      <td>2</td>\n",
       "      <td>26</td>\n",
       "      <td>-1</td>\n",
       "      <td>2</td>\n",
       "      <td>0</td>\n",
       "      <td>0</td>\n",
       "      <td>...</td>\n",
       "      <td>3272.0</td>\n",
       "      <td>3455.0</td>\n",
       "      <td>3261.0</td>\n",
       "      <td>0.0</td>\n",
       "      <td>1000.0</td>\n",
       "      <td>1000.0</td>\n",
       "      <td>1000.0</td>\n",
       "      <td>0.0</td>\n",
       "      <td>2000.0</td>\n",
       "      <td>1</td>\n",
       "    </tr>\n",
       "    <tr>\n",
       "      <th>2</th>\n",
       "      <td>3</td>\n",
       "      <td>90000.0</td>\n",
       "      <td>2</td>\n",
       "      <td>2</td>\n",
       "      <td>2</td>\n",
       "      <td>34</td>\n",
       "      <td>0</td>\n",
       "      <td>0</td>\n",
       "      <td>0</td>\n",
       "      <td>0</td>\n",
       "      <td>...</td>\n",
       "      <td>14331.0</td>\n",
       "      <td>14948.0</td>\n",
       "      <td>15549.0</td>\n",
       "      <td>1518.0</td>\n",
       "      <td>1500.0</td>\n",
       "      <td>1000.0</td>\n",
       "      <td>1000.0</td>\n",
       "      <td>1000.0</td>\n",
       "      <td>5000.0</td>\n",
       "      <td>0</td>\n",
       "    </tr>\n",
       "    <tr>\n",
       "      <th>3</th>\n",
       "      <td>4</td>\n",
       "      <td>50000.0</td>\n",
       "      <td>2</td>\n",
       "      <td>2</td>\n",
       "      <td>1</td>\n",
       "      <td>37</td>\n",
       "      <td>0</td>\n",
       "      <td>0</td>\n",
       "      <td>0</td>\n",
       "      <td>0</td>\n",
       "      <td>...</td>\n",
       "      <td>28314.0</td>\n",
       "      <td>28959.0</td>\n",
       "      <td>29547.0</td>\n",
       "      <td>2000.0</td>\n",
       "      <td>2019.0</td>\n",
       "      <td>1200.0</td>\n",
       "      <td>1100.0</td>\n",
       "      <td>1069.0</td>\n",
       "      <td>1000.0</td>\n",
       "      <td>0</td>\n",
       "    </tr>\n",
       "    <tr>\n",
       "      <th>4</th>\n",
       "      <td>5</td>\n",
       "      <td>50000.0</td>\n",
       "      <td>1</td>\n",
       "      <td>2</td>\n",
       "      <td>1</td>\n",
       "      <td>57</td>\n",
       "      <td>-1</td>\n",
       "      <td>0</td>\n",
       "      <td>-1</td>\n",
       "      <td>0</td>\n",
       "      <td>...</td>\n",
       "      <td>20940.0</td>\n",
       "      <td>19146.0</td>\n",
       "      <td>19131.0</td>\n",
       "      <td>2000.0</td>\n",
       "      <td>36681.0</td>\n",
       "      <td>10000.0</td>\n",
       "      <td>9000.0</td>\n",
       "      <td>689.0</td>\n",
       "      <td>679.0</td>\n",
       "      <td>0</td>\n",
       "    </tr>\n",
       "  </tbody>\n",
       "</table>\n",
       "<p>5 rows × 25 columns</p>\n",
       "</div>"
      ],
      "text/plain": [
       "   ID  LIMIT_BAL  SEX  EDUCATION  MARRIAGE  AGE  PAY_0  PAY_2  PAY_3  PAY_4  \\\n",
       "0   1    20000.0    2          2         1   24      2      2     -1     -1   \n",
       "1   2   120000.0    2          2         2   26     -1      2      0      0   \n",
       "2   3    90000.0    2          2         2   34      0      0      0      0   \n",
       "3   4    50000.0    2          2         1   37      0      0      0      0   \n",
       "4   5    50000.0    1          2         1   57     -1      0     -1      0   \n",
       "\n",
       "   ...  BILL_AMT4  BILL_AMT5  BILL_AMT6  PAY_AMT1  PAY_AMT2  PAY_AMT3  \\\n",
       "0  ...        0.0        0.0        0.0       0.0     689.0       0.0   \n",
       "1  ...     3272.0     3455.0     3261.0       0.0    1000.0    1000.0   \n",
       "2  ...    14331.0    14948.0    15549.0    1518.0    1500.0    1000.0   \n",
       "3  ...    28314.0    28959.0    29547.0    2000.0    2019.0    1200.0   \n",
       "4  ...    20940.0    19146.0    19131.0    2000.0   36681.0   10000.0   \n",
       "\n",
       "   PAY_AMT4  PAY_AMT5  PAY_AMT6  default.payment.next.month  \n",
       "0       0.0       0.0       0.0                           1  \n",
       "1    1000.0       0.0    2000.0                           1  \n",
       "2    1000.0    1000.0    5000.0                           0  \n",
       "3    1100.0    1069.0    1000.0                           0  \n",
       "4    9000.0     689.0     679.0                           0  \n",
       "\n",
       "[5 rows x 25 columns]"
      ]
     },
     "execution_count": 3,
     "metadata": {},
     "output_type": "execute_result"
    }
   ],
   "source": [
    "# Checking the first five rows\n",
    "credit_card_df.head()"
   ]
  },
  {
   "cell_type": "markdown",
   "id": "a4dd4e4c",
   "metadata": {},
   "source": [
    "The above output shows the first five rows and all the features of the dataset. All features appear to be populated."
   ]
  },
  {
   "cell_type": "code",
   "execution_count": 4,
   "id": "949cf845",
   "metadata": {},
   "outputs": [
    {
     "data": {
      "text/html": [
       "<div>\n",
       "<style scoped>\n",
       "    .dataframe tbody tr th:only-of-type {\n",
       "        vertical-align: middle;\n",
       "    }\n",
       "\n",
       "    .dataframe tbody tr th {\n",
       "        vertical-align: top;\n",
       "    }\n",
       "\n",
       "    .dataframe thead th {\n",
       "        text-align: right;\n",
       "    }\n",
       "</style>\n",
       "<table border=\"1\" class=\"dataframe\">\n",
       "  <thead>\n",
       "    <tr style=\"text-align: right;\">\n",
       "      <th></th>\n",
       "      <th>ID</th>\n",
       "      <th>LIMIT_BAL</th>\n",
       "      <th>SEX</th>\n",
       "      <th>EDUCATION</th>\n",
       "      <th>MARRIAGE</th>\n",
       "      <th>AGE</th>\n",
       "      <th>PAY_0</th>\n",
       "      <th>PAY_2</th>\n",
       "      <th>PAY_3</th>\n",
       "      <th>PAY_4</th>\n",
       "      <th>...</th>\n",
       "      <th>BILL_AMT4</th>\n",
       "      <th>BILL_AMT5</th>\n",
       "      <th>BILL_AMT6</th>\n",
       "      <th>PAY_AMT1</th>\n",
       "      <th>PAY_AMT2</th>\n",
       "      <th>PAY_AMT3</th>\n",
       "      <th>PAY_AMT4</th>\n",
       "      <th>PAY_AMT5</th>\n",
       "      <th>PAY_AMT6</th>\n",
       "      <th>default.payment.next.month</th>\n",
       "    </tr>\n",
       "  </thead>\n",
       "  <tbody>\n",
       "    <tr>\n",
       "      <th>29995</th>\n",
       "      <td>29996</td>\n",
       "      <td>220000.0</td>\n",
       "      <td>1</td>\n",
       "      <td>3</td>\n",
       "      <td>1</td>\n",
       "      <td>39</td>\n",
       "      <td>0</td>\n",
       "      <td>0</td>\n",
       "      <td>0</td>\n",
       "      <td>0</td>\n",
       "      <td>...</td>\n",
       "      <td>88004.0</td>\n",
       "      <td>31237.0</td>\n",
       "      <td>15980.0</td>\n",
       "      <td>8500.0</td>\n",
       "      <td>20000.0</td>\n",
       "      <td>5003.0</td>\n",
       "      <td>3047.0</td>\n",
       "      <td>5000.0</td>\n",
       "      <td>1000.0</td>\n",
       "      <td>0</td>\n",
       "    </tr>\n",
       "    <tr>\n",
       "      <th>29996</th>\n",
       "      <td>29997</td>\n",
       "      <td>150000.0</td>\n",
       "      <td>1</td>\n",
       "      <td>3</td>\n",
       "      <td>2</td>\n",
       "      <td>43</td>\n",
       "      <td>-1</td>\n",
       "      <td>-1</td>\n",
       "      <td>-1</td>\n",
       "      <td>-1</td>\n",
       "      <td>...</td>\n",
       "      <td>8979.0</td>\n",
       "      <td>5190.0</td>\n",
       "      <td>0.0</td>\n",
       "      <td>1837.0</td>\n",
       "      <td>3526.0</td>\n",
       "      <td>8998.0</td>\n",
       "      <td>129.0</td>\n",
       "      <td>0.0</td>\n",
       "      <td>0.0</td>\n",
       "      <td>0</td>\n",
       "    </tr>\n",
       "    <tr>\n",
       "      <th>29997</th>\n",
       "      <td>29998</td>\n",
       "      <td>30000.0</td>\n",
       "      <td>1</td>\n",
       "      <td>2</td>\n",
       "      <td>2</td>\n",
       "      <td>37</td>\n",
       "      <td>4</td>\n",
       "      <td>3</td>\n",
       "      <td>2</td>\n",
       "      <td>-1</td>\n",
       "      <td>...</td>\n",
       "      <td>20878.0</td>\n",
       "      <td>20582.0</td>\n",
       "      <td>19357.0</td>\n",
       "      <td>0.0</td>\n",
       "      <td>0.0</td>\n",
       "      <td>22000.0</td>\n",
       "      <td>4200.0</td>\n",
       "      <td>2000.0</td>\n",
       "      <td>3100.0</td>\n",
       "      <td>1</td>\n",
       "    </tr>\n",
       "    <tr>\n",
       "      <th>29998</th>\n",
       "      <td>29999</td>\n",
       "      <td>80000.0</td>\n",
       "      <td>1</td>\n",
       "      <td>3</td>\n",
       "      <td>1</td>\n",
       "      <td>41</td>\n",
       "      <td>1</td>\n",
       "      <td>-1</td>\n",
       "      <td>0</td>\n",
       "      <td>0</td>\n",
       "      <td>...</td>\n",
       "      <td>52774.0</td>\n",
       "      <td>11855.0</td>\n",
       "      <td>48944.0</td>\n",
       "      <td>85900.0</td>\n",
       "      <td>3409.0</td>\n",
       "      <td>1178.0</td>\n",
       "      <td>1926.0</td>\n",
       "      <td>52964.0</td>\n",
       "      <td>1804.0</td>\n",
       "      <td>1</td>\n",
       "    </tr>\n",
       "    <tr>\n",
       "      <th>29999</th>\n",
       "      <td>30000</td>\n",
       "      <td>50000.0</td>\n",
       "      <td>1</td>\n",
       "      <td>2</td>\n",
       "      <td>1</td>\n",
       "      <td>46</td>\n",
       "      <td>0</td>\n",
       "      <td>0</td>\n",
       "      <td>0</td>\n",
       "      <td>0</td>\n",
       "      <td>...</td>\n",
       "      <td>36535.0</td>\n",
       "      <td>32428.0</td>\n",
       "      <td>15313.0</td>\n",
       "      <td>2078.0</td>\n",
       "      <td>1800.0</td>\n",
       "      <td>1430.0</td>\n",
       "      <td>1000.0</td>\n",
       "      <td>1000.0</td>\n",
       "      <td>1000.0</td>\n",
       "      <td>1</td>\n",
       "    </tr>\n",
       "  </tbody>\n",
       "</table>\n",
       "<p>5 rows × 25 columns</p>\n",
       "</div>"
      ],
      "text/plain": [
       "          ID  LIMIT_BAL  SEX  EDUCATION  MARRIAGE  AGE  PAY_0  PAY_2  PAY_3  \\\n",
       "29995  29996   220000.0    1          3         1   39      0      0      0   \n",
       "29996  29997   150000.0    1          3         2   43     -1     -1     -1   \n",
       "29997  29998    30000.0    1          2         2   37      4      3      2   \n",
       "29998  29999    80000.0    1          3         1   41      1     -1      0   \n",
       "29999  30000    50000.0    1          2         1   46      0      0      0   \n",
       "\n",
       "       PAY_4  ...  BILL_AMT4  BILL_AMT5  BILL_AMT6  PAY_AMT1  PAY_AMT2  \\\n",
       "29995      0  ...    88004.0    31237.0    15980.0    8500.0   20000.0   \n",
       "29996     -1  ...     8979.0     5190.0        0.0    1837.0    3526.0   \n",
       "29997     -1  ...    20878.0    20582.0    19357.0       0.0       0.0   \n",
       "29998      0  ...    52774.0    11855.0    48944.0   85900.0    3409.0   \n",
       "29999      0  ...    36535.0    32428.0    15313.0    2078.0    1800.0   \n",
       "\n",
       "       PAY_AMT3  PAY_AMT4  PAY_AMT5  PAY_AMT6  default.payment.next.month  \n",
       "29995    5003.0    3047.0    5000.0    1000.0                           0  \n",
       "29996    8998.0     129.0       0.0       0.0                           0  \n",
       "29997   22000.0    4200.0    2000.0    3100.0                           1  \n",
       "29998    1178.0    1926.0   52964.0    1804.0                           1  \n",
       "29999    1430.0    1000.0    1000.0    1000.0                           1  \n",
       "\n",
       "[5 rows x 25 columns]"
      ]
     },
     "execution_count": 4,
     "metadata": {},
     "output_type": "execute_result"
    }
   ],
   "source": [
    "# Checking the last five rows in the dataset.\n",
    "credit_card_df.tail()"
   ]
  },
  {
   "cell_type": "markdown",
   "id": "994eefb5",
   "metadata": {},
   "source": [
    "The above output shows the last five rows and all the features of the dataset. All features appear to be populated."
   ]
  },
  {
   "cell_type": "code",
   "execution_count": 5,
   "id": "ad058a6e",
   "metadata": {},
   "outputs": [
    {
     "data": {
      "text/plain": [
       "(30000, 25)"
      ]
     },
     "execution_count": 5,
     "metadata": {},
     "output_type": "execute_result"
    }
   ],
   "source": [
    "# Checking the dimension of the data.\n",
    "credit_card_df.shape"
   ]
  },
  {
   "cell_type": "markdown",
   "id": "02d5ffde",
   "metadata": {},
   "source": [
    "The dataset has 25 features and 30000 observations. This is consistent with the description of the dataset from the original source(i.e Kaggle). Therefore, the dataset was correctly loaded."
   ]
  },
  {
   "cell_type": "code",
   "execution_count": 6,
   "id": "6edf2676",
   "metadata": {},
   "outputs": [
    {
     "name": "stdout",
     "output_type": "stream",
     "text": [
      "<class 'pandas.core.frame.DataFrame'>\n",
      "RangeIndex: 30000 entries, 0 to 29999\n",
      "Data columns (total 25 columns):\n",
      " #   Column                      Non-Null Count  Dtype  \n",
      "---  ------                      --------------  -----  \n",
      " 0   ID                          30000 non-null  int64  \n",
      " 1   LIMIT_BAL                   30000 non-null  float64\n",
      " 2   SEX                         30000 non-null  int64  \n",
      " 3   EDUCATION                   30000 non-null  int64  \n",
      " 4   MARRIAGE                    30000 non-null  int64  \n",
      " 5   AGE                         30000 non-null  int64  \n",
      " 6   PAY_0                       30000 non-null  int64  \n",
      " 7   PAY_2                       30000 non-null  int64  \n",
      " 8   PAY_3                       30000 non-null  int64  \n",
      " 9   PAY_4                       30000 non-null  int64  \n",
      " 10  PAY_5                       30000 non-null  int64  \n",
      " 11  PAY_6                       30000 non-null  int64  \n",
      " 12  BILL_AMT1                   30000 non-null  float64\n",
      " 13  BILL_AMT2                   30000 non-null  float64\n",
      " 14  BILL_AMT3                   30000 non-null  float64\n",
      " 15  BILL_AMT4                   30000 non-null  float64\n",
      " 16  BILL_AMT5                   30000 non-null  float64\n",
      " 17  BILL_AMT6                   30000 non-null  float64\n",
      " 18  PAY_AMT1                    30000 non-null  float64\n",
      " 19  PAY_AMT2                    30000 non-null  float64\n",
      " 20  PAY_AMT3                    30000 non-null  float64\n",
      " 21  PAY_AMT4                    30000 non-null  float64\n",
      " 22  PAY_AMT5                    30000 non-null  float64\n",
      " 23  PAY_AMT6                    30000 non-null  float64\n",
      " 24  default.payment.next.month  30000 non-null  int64  \n",
      "dtypes: float64(13), int64(12)\n",
      "memory usage: 5.7 MB\n"
     ]
    }
   ],
   "source": [
    "# Checking the information in the dataset.\n",
    "credit_card_df.info()"
   ]
  },
  {
   "cell_type": "markdown",
   "id": "a928fc2b",
   "metadata": {},
   "source": [
    "Based on the output above,there are 25 features in the dataset:\n",
    "\n",
    "- ID: ID of each client\n",
    "- LIMIT_BAL: Amount of given credit in NT dollars (includes individual and family/supplementary credit\n",
    "- SEX: Gender (1=male, 2=female)\n",
    "- EDUCATION: (1=graduate school, 2=university, 3=high school, 4=others, 5=unknown, 6=unknown)\n",
    "- MARRIAGE: Marital status (1=married, 2=single, 3=others)\n",
    "- AGE: Age in years\n",
    "- PAY_0: Repayment status in September, 2005 (-1=pay duly, 1=payment delay for one month, 2=payment delay for two months, … 8=payment delay for eight months, 9=payment delay for nine months and above)\n",
    "- PAY_2: Repayment status in August, 2005 (scale same as above)\n",
    "- PAY_3: Repayment status in July, 2005 (scale same as above)\n",
    "- PAY_4: Repayment status in June, 2005 (scale same as above)\n",
    "- PAY_5: Repayment status in May, 2005 (scale same as above)\n",
    "- PAY_6: Repayment status in April, 2005 (scale same as above)\n",
    "- BILL_AMT1: Amount of bill statement in September, 2005 (NT dollar)\n",
    "- BILL_AMT2: Amount of bill statement in August, 2005 (NT dollar)\n",
    "- BILL_AMT3: Amount of bill statement in July, 2005 (NT dollar)\n",
    "- BILL_AMT4: Amount of bill statement in June, 2005 (NT dollar)\n",
    "- BILL_AMT5: Amount of bill statement in May, 2005 (NT dollar)\n",
    "- BILL_AMT6: Amount of bill statement in April, 2005 (NT dollar)\n",
    "- PAY_AMT1: Amount of previous payment in September, 2005 (NT dollar)\n",
    "- PAY_AMT2: Amount of previous payment in August, 2005 (NT dollar)\n",
    "- PAY_AMT3: Amount of previous payment in July, 2005 (NT dollar)\n",
    "- PAY_AMT4: Amount of previous payment in June, 2005 (NT dollar)\n",
    "- PAY_AMT5: Amount of previous payment in May, 2005 (NT dollar)\n",
    "- PAY_AMT6: Amount of previous payment in April, 2005 (NT dollar)\n",
    "- default.payment.next.month: Default payment (1=yes, 0=no)"
   ]
  },
  {
   "cell_type": "markdown",
   "id": "3131a908",
   "metadata": {},
   "source": [
    "The data types appear to make sense. The non-null count shows there are no missing values.Let's now do some further data exploration."
   ]
  },
  {
   "cell_type": "markdown",
   "id": "1a6caa08",
   "metadata": {},
   "source": [
    "### Data Cleaning"
   ]
  },
  {
   "cell_type": "markdown",
   "id": "c09db6de",
   "metadata": {},
   "source": [
    "#### Missing value analysis and treatment"
   ]
  },
  {
   "cell_type": "code",
   "execution_count": 7,
   "id": "5983e29f",
   "metadata": {},
   "outputs": [
    {
     "data": {
      "text/html": [
       "<div>\n",
       "<style scoped>\n",
       "    .dataframe tbody tr th:only-of-type {\n",
       "        vertical-align: middle;\n",
       "    }\n",
       "\n",
       "    .dataframe tbody tr th {\n",
       "        vertical-align: top;\n",
       "    }\n",
       "\n",
       "    .dataframe thead th {\n",
       "        text-align: right;\n",
       "    }\n",
       "</style>\n",
       "<table border=\"1\" class=\"dataframe\">\n",
       "  <thead>\n",
       "    <tr style=\"text-align: right;\">\n",
       "      <th></th>\n",
       "      <th>Number of missing value</th>\n",
       "    </tr>\n",
       "  </thead>\n",
       "  <tbody>\n",
       "    <tr>\n",
       "      <th>ID</th>\n",
       "      <td>0</td>\n",
       "    </tr>\n",
       "    <tr>\n",
       "      <th>LIMIT_BAL</th>\n",
       "      <td>0</td>\n",
       "    </tr>\n",
       "    <tr>\n",
       "      <th>SEX</th>\n",
       "      <td>0</td>\n",
       "    </tr>\n",
       "    <tr>\n",
       "      <th>EDUCATION</th>\n",
       "      <td>0</td>\n",
       "    </tr>\n",
       "    <tr>\n",
       "      <th>MARRIAGE</th>\n",
       "      <td>0</td>\n",
       "    </tr>\n",
       "    <tr>\n",
       "      <th>AGE</th>\n",
       "      <td>0</td>\n",
       "    </tr>\n",
       "    <tr>\n",
       "      <th>PAY_0</th>\n",
       "      <td>0</td>\n",
       "    </tr>\n",
       "    <tr>\n",
       "      <th>PAY_2</th>\n",
       "      <td>0</td>\n",
       "    </tr>\n",
       "    <tr>\n",
       "      <th>PAY_3</th>\n",
       "      <td>0</td>\n",
       "    </tr>\n",
       "    <tr>\n",
       "      <th>PAY_4</th>\n",
       "      <td>0</td>\n",
       "    </tr>\n",
       "    <tr>\n",
       "      <th>PAY_5</th>\n",
       "      <td>0</td>\n",
       "    </tr>\n",
       "    <tr>\n",
       "      <th>PAY_6</th>\n",
       "      <td>0</td>\n",
       "    </tr>\n",
       "    <tr>\n",
       "      <th>BILL_AMT1</th>\n",
       "      <td>0</td>\n",
       "    </tr>\n",
       "    <tr>\n",
       "      <th>BILL_AMT2</th>\n",
       "      <td>0</td>\n",
       "    </tr>\n",
       "    <tr>\n",
       "      <th>BILL_AMT3</th>\n",
       "      <td>0</td>\n",
       "    </tr>\n",
       "    <tr>\n",
       "      <th>BILL_AMT4</th>\n",
       "      <td>0</td>\n",
       "    </tr>\n",
       "    <tr>\n",
       "      <th>BILL_AMT5</th>\n",
       "      <td>0</td>\n",
       "    </tr>\n",
       "    <tr>\n",
       "      <th>BILL_AMT6</th>\n",
       "      <td>0</td>\n",
       "    </tr>\n",
       "    <tr>\n",
       "      <th>PAY_AMT1</th>\n",
       "      <td>0</td>\n",
       "    </tr>\n",
       "    <tr>\n",
       "      <th>PAY_AMT2</th>\n",
       "      <td>0</td>\n",
       "    </tr>\n",
       "    <tr>\n",
       "      <th>PAY_AMT3</th>\n",
       "      <td>0</td>\n",
       "    </tr>\n",
       "    <tr>\n",
       "      <th>PAY_AMT4</th>\n",
       "      <td>0</td>\n",
       "    </tr>\n",
       "    <tr>\n",
       "      <th>PAY_AMT5</th>\n",
       "      <td>0</td>\n",
       "    </tr>\n",
       "    <tr>\n",
       "      <th>PAY_AMT6</th>\n",
       "      <td>0</td>\n",
       "    </tr>\n",
       "    <tr>\n",
       "      <th>default.payment.next.month</th>\n",
       "      <td>0</td>\n",
       "    </tr>\n",
       "  </tbody>\n",
       "</table>\n",
       "</div>"
      ],
      "text/plain": [
       "                            Number of missing value\n",
       "ID                                                0\n",
       "LIMIT_BAL                                         0\n",
       "SEX                                               0\n",
       "EDUCATION                                         0\n",
       "MARRIAGE                                          0\n",
       "AGE                                               0\n",
       "PAY_0                                             0\n",
       "PAY_2                                             0\n",
       "PAY_3                                             0\n",
       "PAY_4                                             0\n",
       "PAY_5                                             0\n",
       "PAY_6                                             0\n",
       "BILL_AMT1                                         0\n",
       "BILL_AMT2                                         0\n",
       "BILL_AMT3                                         0\n",
       "BILL_AMT4                                         0\n",
       "BILL_AMT5                                         0\n",
       "BILL_AMT6                                         0\n",
       "PAY_AMT1                                          0\n",
       "PAY_AMT2                                          0\n",
       "PAY_AMT3                                          0\n",
       "PAY_AMT4                                          0\n",
       "PAY_AMT5                                          0\n",
       "PAY_AMT6                                          0\n",
       "default.payment.next.month                        0"
      ]
     },
     "execution_count": 7,
     "metadata": {},
     "output_type": "execute_result"
    }
   ],
   "source": [
    "#Checking missing values.\n",
    "credit_card_df.isna().sum().to_frame(name = 'Number of missing value')"
   ]
  },
  {
   "cell_type": "markdown",
   "id": "27881f93",
   "metadata": {},
   "source": [
    "The output above shows that the dataset has no missing values."
   ]
  },
  {
   "cell_type": "markdown",
   "id": "c20d041d",
   "metadata": {},
   "source": [
    "#### Duplicate rows and treatment"
   ]
  },
  {
   "cell_type": "code",
   "execution_count": 8,
   "id": "62006e10",
   "metadata": {},
   "outputs": [
    {
     "name": "stdout",
     "output_type": "stream",
     "text": [
      "Number of duplicates which should be removed:  0\n"
     ]
    }
   ],
   "source": [
    "# Checking number of duplicates in the dataset.\n",
    "duplicates = credit_card_df.duplicated(subset= None, keep='first').sum()\n",
    "print(\"Number of duplicates which should be removed: \", duplicates)"
   ]
  },
  {
   "cell_type": "markdown",
   "id": "6871ef8f",
   "metadata": {},
   "source": [
    "#### Multicollinearity and treatment"
   ]
  },
  {
   "cell_type": "markdown",
   "id": "b13243e1",
   "metadata": {},
   "source": [
    "Some columns are similar: the payment columns, payment amount columns and billamount columns. We are now going to check if columns in these groups are correlated using correlation heatmaps."
   ]
  },
  {
   "cell_type": "markdown",
   "id": "d9358fd1",
   "metadata": {},
   "source": [
    "    Bill Amount Columns"
   ]
  },
  {
   "cell_type": "code",
   "execution_count": 9,
   "id": "2e913f67",
   "metadata": {},
   "outputs": [
    {
     "data": {
      "image/png": "[encoded data removed]",
      "text/plain": [
       "<Figure size 512x384 with 2 Axes>"
      ]
     },
     "metadata": {},
     "output_type": "display_data"
    }
   ],
   "source": [
    "# Checking correlations among the bill amount columns.\n",
    "plt.figure(dpi=80)\n",
    "sns.heatmap(np.round(credit_card_df[['BILL_AMT1', 'BILL_AMT2',\n",
    "       'BILL_AMT3', 'BILL_AMT4', 'BILL_AMT5', 'BILL_AMT6']].corr(),1),annot=True, cmap=\"twilight\")\n",
    "\n",
    "plt.show()"
   ]
  },
  {
   "cell_type": "markdown",
   "id": "359bdbfb",
   "metadata": {},
   "source": [
    "The heatmap shows that there is high correaltion between all billamount columns. Hence, we will retain one billamount column and delete the remaining ones to prevent multicollinerity issues."
   ]
  },
  {
   "cell_type": "markdown",
   "id": "e11b7626",
   "metadata": {},
   "source": [
    "    Pay Columns"
   ]
  },
  {
   "cell_type": "code",
   "execution_count": 10,
   "id": "5a11781d",
   "metadata": {
    "scrolled": true
   },
   "outputs": [
    {
     "data": {
      "image/png": "[encoded data removed]",
      "text/plain": [
       "<Figure size 512x384 with 2 Axes>"
      ]
     },
     "metadata": {},
     "output_type": "display_data"
    }
   ],
   "source": [
    "# Checking correlations among the pay columns.\n",
    "plt.figure(dpi=80)\n",
    "sns.heatmap(np.round(credit_card_df[['PAY_0', 'PAY_2',\n",
    "       'PAY_3', 'PAY_4', 'PAY_5', 'PAY_6']].corr(),1),annot=True, cmap=\"twilight\")\n",
    "plt.show()"
   ]
  },
  {
   "cell_type": "markdown",
   "id": "91b7fbff",
   "metadata": {},
   "source": [
    "The heatmap shows that there is high correaltion between all pay columns. Hence, we will retain only one column and delete the remaining ones to prevent multicollinerity issues."
   ]
  },
  {
   "cell_type": "markdown",
   "id": "a3aaf963",
   "metadata": {},
   "source": [
    "    Pay Amount Columns"
   ]
  },
  {
   "cell_type": "code",
   "execution_count": 11,
   "id": "750ed8c2",
   "metadata": {},
   "outputs": [
    {
     "data": {
      "image/png": "[encoded data removed]",
      "text/plain": [
       "<Figure size 512x384 with 2 Axes>"
      ]
     },
     "metadata": {},
     "output_type": "display_data"
    }
   ],
   "source": [
    "# Checking correlations among the pay amount columns.\n",
    "plt.figure(dpi=80)\n",
    "sns.heatmap(np.round(credit_card_df[['PAY_AMT1',\n",
    "       'PAY_AMT2', 'PAY_AMT3', 'PAY_AMT4', 'PAY_AMT5', 'PAY_AMT6']].corr(),1),annot=True, cmap=\"Blues\")\n",
    "plt.show()"
   ]
  },
  {
   "cell_type": "markdown",
   "id": "dc0d1bbb",
   "metadata": {},
   "source": [
    "The heatmap shows no correlation between the columns.Hence, all the pay amount columns will be retained."
   ]
  },
  {
   "cell_type": "markdown",
   "id": "45188272",
   "metadata": {},
   "source": [
    "    Dropping Irrelevant features"
   ]
  },
  {
   "cell_type": "markdown",
   "id": "670b4f31",
   "metadata": {},
   "source": [
    "Irrevant features in this case are those that would trigger multicolinerity and the ID feature."
   ]
  },
  {
   "cell_type": "code",
   "execution_count": 12,
   "id": "ac79bb42",
   "metadata": {},
   "outputs": [
    {
     "data": {
      "text/html": [
       "<div>\n",
       "<style scoped>\n",
       "    .dataframe tbody tr th:only-of-type {\n",
       "        vertical-align: middle;\n",
       "    }\n",
       "\n",
       "    .dataframe tbody tr th {\n",
       "        vertical-align: top;\n",
       "    }\n",
       "\n",
       "    .dataframe thead th {\n",
       "        text-align: right;\n",
       "    }\n",
       "</style>\n",
       "<table border=\"1\" class=\"dataframe\">\n",
       "  <thead>\n",
       "    <tr style=\"text-align: right;\">\n",
       "      <th></th>\n",
       "      <th>LIMIT_BAL</th>\n",
       "      <th>SEX</th>\n",
       "      <th>EDUCATION</th>\n",
       "      <th>MARRIAGE</th>\n",
       "      <th>AGE</th>\n",
       "      <th>PAY_0</th>\n",
       "      <th>BILL_AMT1</th>\n",
       "      <th>PAY_AMT1</th>\n",
       "      <th>PAY_AMT2</th>\n",
       "      <th>PAY_AMT3</th>\n",
       "      <th>PAY_AMT4</th>\n",
       "      <th>PAY_AMT5</th>\n",
       "      <th>PAY_AMT6</th>\n",
       "      <th>default.payment.next.month</th>\n",
       "    </tr>\n",
       "  </thead>\n",
       "  <tbody>\n",
       "    <tr>\n",
       "      <th>0</th>\n",
       "      <td>20000.0</td>\n",
       "      <td>2</td>\n",
       "      <td>2</td>\n",
       "      <td>1</td>\n",
       "      <td>24</td>\n",
       "      <td>2</td>\n",
       "      <td>3913.0</td>\n",
       "      <td>0.0</td>\n",
       "      <td>689.0</td>\n",
       "      <td>0.0</td>\n",
       "      <td>0.0</td>\n",
       "      <td>0.0</td>\n",
       "      <td>0.0</td>\n",
       "      <td>1</td>\n",
       "    </tr>\n",
       "    <tr>\n",
       "      <th>1</th>\n",
       "      <td>120000.0</td>\n",
       "      <td>2</td>\n",
       "      <td>2</td>\n",
       "      <td>2</td>\n",
       "      <td>26</td>\n",
       "      <td>-1</td>\n",
       "      <td>2682.0</td>\n",
       "      <td>0.0</td>\n",
       "      <td>1000.0</td>\n",
       "      <td>1000.0</td>\n",
       "      <td>1000.0</td>\n",
       "      <td>0.0</td>\n",
       "      <td>2000.0</td>\n",
       "      <td>1</td>\n",
       "    </tr>\n",
       "    <tr>\n",
       "      <th>2</th>\n",
       "      <td>90000.0</td>\n",
       "      <td>2</td>\n",
       "      <td>2</td>\n",
       "      <td>2</td>\n",
       "      <td>34</td>\n",
       "      <td>0</td>\n",
       "      <td>29239.0</td>\n",
       "      <td>1518.0</td>\n",
       "      <td>1500.0</td>\n",
       "      <td>1000.0</td>\n",
       "      <td>1000.0</td>\n",
       "      <td>1000.0</td>\n",
       "      <td>5000.0</td>\n",
       "      <td>0</td>\n",
       "    </tr>\n",
       "    <tr>\n",
       "      <th>3</th>\n",
       "      <td>50000.0</td>\n",
       "      <td>2</td>\n",
       "      <td>2</td>\n",
       "      <td>1</td>\n",
       "      <td>37</td>\n",
       "      <td>0</td>\n",
       "      <td>46990.0</td>\n",
       "      <td>2000.0</td>\n",
       "      <td>2019.0</td>\n",
       "      <td>1200.0</td>\n",
       "      <td>1100.0</td>\n",
       "      <td>1069.0</td>\n",
       "      <td>1000.0</td>\n",
       "      <td>0</td>\n",
       "    </tr>\n",
       "    <tr>\n",
       "      <th>4</th>\n",
       "      <td>50000.0</td>\n",
       "      <td>1</td>\n",
       "      <td>2</td>\n",
       "      <td>1</td>\n",
       "      <td>57</td>\n",
       "      <td>-1</td>\n",
       "      <td>8617.0</td>\n",
       "      <td>2000.0</td>\n",
       "      <td>36681.0</td>\n",
       "      <td>10000.0</td>\n",
       "      <td>9000.0</td>\n",
       "      <td>689.0</td>\n",
       "      <td>679.0</td>\n",
       "      <td>0</td>\n",
       "    </tr>\n",
       "  </tbody>\n",
       "</table>\n",
       "</div>"
      ],
      "text/plain": [
       "   LIMIT_BAL  SEX  EDUCATION  MARRIAGE  AGE  PAY_0  BILL_AMT1  PAY_AMT1  \\\n",
       "0    20000.0    2          2         1   24      2     3913.0       0.0   \n",
       "1   120000.0    2          2         2   26     -1     2682.0       0.0   \n",
       "2    90000.0    2          2         2   34      0    29239.0    1518.0   \n",
       "3    50000.0    2          2         1   37      0    46990.0    2000.0   \n",
       "4    50000.0    1          2         1   57     -1     8617.0    2000.0   \n",
       "\n",
       "   PAY_AMT2  PAY_AMT3  PAY_AMT4  PAY_AMT5  PAY_AMT6  \\\n",
       "0     689.0       0.0       0.0       0.0       0.0   \n",
       "1    1000.0    1000.0    1000.0       0.0    2000.0   \n",
       "2    1500.0    1000.0    1000.0    1000.0    5000.0   \n",
       "3    2019.0    1200.0    1100.0    1069.0    1000.0   \n",
       "4   36681.0   10000.0    9000.0     689.0     679.0   \n",
       "\n",
       "   default.payment.next.month  \n",
       "0                           1  \n",
       "1                           1  \n",
       "2                           0  \n",
       "3                           0  \n",
       "4                           0  "
      ]
     },
     "execution_count": 12,
     "metadata": {},
     "output_type": "execute_result"
    }
   ],
   "source": [
    "# Deleting colums to remove multicollinearity issue\n",
    "credit_card_df.drop(columns = ['ID', 'PAY_6', 'PAY_2',\n",
    "       'PAY_3', 'PAY_4', 'PAY_5', 'BILL_AMT2',\n",
    "       'BILL_AMT3', 'BILL_AMT4', 'BILL_AMT5', 'BILL_AMT6'], inplace = True)\n",
    "\n",
    "# Displaying firts five columns after dropping columns\n",
    "credit_card_df.head()\n",
    "\n"
   ]
  },
  {
   "cell_type": "markdown",
   "id": "72df3e30",
   "metadata": {},
   "source": [
    "All irrelevant features have been dropped"
   ]
  },
  {
   "cell_type": "markdown",
   "id": "1251d94b",
   "metadata": {},
   "source": [
    "#### Outlier analysis and treatment"
   ]
  },
  {
   "cell_type": "markdown",
   "id": "41cddbe5",
   "metadata": {},
   "source": [
    "Inter Quartile Range(IQR) approach to finding the outliers is the most commonly used and most trusted approach used in the research field.  It first computes the first quartile (Q1) and third quartile (Q3), then calculates the IQR as the difference between Q3 and Q1, providing a measure of the spread of the middle 50% of the data in the variable under consideration. An outlier is any observation outside +/- 1.5IQR."
   ]
  },
  {
   "cell_type": "code",
   "execution_count": 13,
   "id": "4e1a3369",
   "metadata": {},
   "outputs": [
    {
     "name": "stdout",
     "output_type": "stream",
     "text": [
      "['LIMIT_BAL', 'BILL_AMT1', 'PAY_AMT1', 'PAY_AMT2', 'PAY_AMT3', 'PAY_AMT4', 'PAY_AMT5', 'PAY_AMT6']\n",
      " \n",
      "The dataset has  8 numeric columns.\n"
     ]
    }
   ],
   "source": [
    "# Extracting the numeric features with float dtype.\n",
    "# Interger dtype is used for categorical features except for age.\n",
    "numeric_df = credit_card_df.select_dtypes(exclude=int)\n",
    "numeric_features = list(numeric_df.columns)\n",
    "# Adding Age to the list of numeric features.\n",
    "#numeric_features = numeric_features + ['AGE']\n",
    "print(numeric_features)\n",
    "print(' ')\n",
    "print('The dataset has ',len(numeric_features),'numeric columns.')\n"
   ]
  },
  {
   "cell_type": "markdown",
   "id": "d8ad9237",
   "metadata": {},
   "source": [
    "    Detecting outliers"
   ]
  },
  {
   "cell_type": "code",
   "execution_count": 14,
   "id": "10f3574e",
   "metadata": {},
   "outputs": [],
   "source": [
    "def check_outliers(dataframe,variables):\n",
    "    \"\"\" This function creates boxplots which are used to detect outliers.\"\"\"\n",
    "    title_string = \"Detecting outliers using boxplots\"\n",
    "    plt.figure(figsize=(9,9))\n",
    "    for n, variable in enumerate(variables):\n",
    "        \n",
    "        # add a new subplot iteratively\n",
    "        ax = plt.subplot(int(len(variables)/2), 2, n + 1)\n",
    "        \n",
    "        # plotting the boxplots on the subplot axis\n",
    "        plt.boxplot(dataframe[variable],vert=False)\n",
    "        \n",
    "        # chart formatting\n",
    "        ax.set_title(variable.lower())\n",
    "        \n",
    "        ax.set_xlabel(\"\")\n",
    "        plt.subplots_adjust(bottom=0.000001,wspace=0.4, hspace=0.4)  \n",
    "        plt.suptitle(title_string, y=.95, fontsize=14)"
   ]
  },
  {
   "cell_type": "code",
   "execution_count": 15,
   "id": "6a33e407",
   "metadata": {},
   "outputs": [
    {
     "data": {
      "image/png": "[encoded data removed]",
      "text/plain": [
       "<Figure size 900x900 with 8 Axes>"
      ]
     },
     "metadata": {},
     "output_type": "display_data"
    }
   ],
   "source": [
    "check_outliers(credit_card_df, numeric_features)"
   ]
  },
  {
   "cell_type": "markdown",
   "id": "15f72bf8",
   "metadata": {},
   "source": [
    "The boxplots above show that there are some variables with outliers. Outliers will be quantitatively identified below."
   ]
  },
  {
   "cell_type": "markdown",
   "id": "c9729499",
   "metadata": {},
   "source": [
    "    Removing Outliers"
   ]
  },
  {
   "cell_type": "code",
   "execution_count": 16,
   "id": "ee30706a",
   "metadata": {},
   "outputs": [],
   "source": [
    "def outliers(dataframe,variable):\n",
    "    ''' Function to quantitatively identify outliers'''\n",
    "    # Calculate the Upper(Q3) and Lower(Q1) limits\n",
    "    Q1  = dataframe[variable].quantile(0.25)\n",
    "    Q3  = dataframe[variable].quantile(0.75)\n",
    "    IQR = Q3 - Q1\n",
    "    lower = Q1 - 1.5*IQR\n",
    "    upper = Q3 + 1.5*IQR\n",
    "        \n",
    "    # List to creat indexes of outliers\n",
    "    list_of_outliers = dataframe.index[(dataframe[variable] < lower)\n",
    "                                       |(dataframe[variable]> upper)]\n",
    "    return list_of_outliers  "
   ]
  },
  {
   "cell_type": "code",
   "execution_count": 17,
   "id": "1b36df5a",
   "metadata": {},
   "outputs": [],
   "source": [
    "# Create Empty list to store the output indices for outliers\n",
    "index_list =[]\n",
    "for feature in numeric_features:\n",
    "    index_list.extend(outliers(credit_card_df,feature))"
   ]
  },
  {
   "cell_type": "code",
   "execution_count": 18,
   "id": "e577d5bd",
   "metadata": {},
   "outputs": [],
   "source": [
    "def remove(dataframe,list_of_outliers):\n",
    "    ''' Function to remove outliers from a dataframe'''\n",
    "    list_of_outliers = sorted(set(list_of_outliers ))\n",
    "    dataframe =  dataframe.drop(list_of_outliers)\n",
    "    return dataframe"
   ]
  },
  {
   "cell_type": "code",
   "execution_count": 19,
   "id": "7c255a94",
   "metadata": {},
   "outputs": [],
   "source": [
    "# Removing outliers from the dataset and creating a dataframe free from outliers\n",
    "credit_card_cleaned_df = remove(credit_card_df, index_list)"
   ]
  },
  {
   "cell_type": "code",
   "execution_count": 20,
   "id": "3abe57ef",
   "metadata": {},
   "outputs": [
    {
     "data": {
      "image/png": "[encoded data removed]",
      "text/plain": [
       "<Figure size 900x900 with 8 Axes>"
      ]
     },
     "metadata": {},
     "output_type": "display_data"
    }
   ],
   "source": [
    "# Check outliers on the cleaned dataset.\n",
    "check_outliers(credit_card_cleaned_df, numeric_features)"
   ]
  },
  {
   "cell_type": "markdown",
   "id": "1c174841",
   "metadata": {},
   "source": [
    "The boxplot above show the features without outliers."
   ]
  },
  {
   "cell_type": "code",
   "execution_count": 21,
   "id": "cba57106",
   "metadata": {},
   "outputs": [
    {
     "data": {
      "text/plain": [
       "(30000, 14)"
      ]
     },
     "execution_count": 21,
     "metadata": {},
     "output_type": "execute_result"
    }
   ],
   "source": [
    "# Shape of dataframe with outliers\n",
    "credit_card_df.shape"
   ]
  },
  {
   "cell_type": "code",
   "execution_count": 22,
   "id": "3e7f5846",
   "metadata": {},
   "outputs": [
    {
     "data": {
      "text/plain": [
       "(20293, 14)"
      ]
     },
     "execution_count": 22,
     "metadata": {},
     "output_type": "execute_result"
    }
   ],
   "source": [
    "# Shape of dataframe without outliers\n",
    "credit_card_cleaned_df.shape"
   ]
  },
  {
   "cell_type": "markdown",
   "id": "a6733544",
   "metadata": {},
   "source": [
    "Outlier removal was successful since the observations in the new dataframe is lower than the original dataframe. The dataframe without outliers will be used to build the model."
   ]
  },
  {
   "cell_type": "markdown",
   "id": "6ccc0459",
   "metadata": {},
   "source": [
    "### Data Exploration"
   ]
  },
  {
   "cell_type": "markdown",
   "id": "ed7c89d5",
   "metadata": {},
   "source": [
    "#### Distribution Target"
   ]
  },
  {
   "cell_type": "code",
   "execution_count": 23,
   "id": "ea1269ae",
   "metadata": {},
   "outputs": [],
   "source": [
    "# Name of the target column is too long. For convinience we will rename it to target.\n",
    "credit_card_cleaned_df=credit_card_cleaned_df.rename(columns={'default.payment.next.month':'target'})"
   ]
  },
  {
   "cell_type": "code",
   "execution_count": 24,
   "id": "e823a10a",
   "metadata": {
    "scrolled": true
   },
   "outputs": [
    {
     "data": {
      "image/png": "[encoded data removed]",
      "text/plain": [
       "<Figure size 640x480 with 1 Axes>"
      ]
     },
     "metadata": {},
     "output_type": "display_data"
    }
   ],
   "source": [
    "# Calculating number of reviews in each target category\n",
    "counts = credit_card_cleaned_df['target'].value_counts()\n",
    "\n",
    "# Plotting the target categories.\n",
    "#figsize = (4,4)\n",
    "counts.plot(kind='barh', title=\"Number of customers in each target category\",\n",
    "            color = 'peru');"
   ]
  },
  {
   "cell_type": "code",
   "execution_count": 25,
   "id": "7887c853",
   "metadata": {},
   "outputs": [
    {
     "data": {
      "text/plain": [
       "target\n",
       "0    15089\n",
       "1     5204\n",
       "Name: count, dtype: int64"
      ]
     },
     "execution_count": 25,
     "metadata": {},
     "output_type": "execute_result"
    }
   ],
   "source": [
    "counts"
   ]
  },
  {
   "cell_type": "markdown",
   "id": "d0a51ce7",
   "metadata": {},
   "source": [
    "Most of the customers in the dataset did not default(i.e target = 0). Therefore, our data is biased towards non-default. This is a problem called class imbalance. Why would this be problematic? With so few defaults relative to non-defaults, the training model will spend most of its time on non-default examples and not learn enough from defaults. As a consequence, it will not be easily be able to predict defaults when implemented. To migate this risk, the downsampling technique is going to be used. The technique is performed by randomly sampling the majority class in order to get the number of observations that matches the number of observations in the  minority class."
   ]
  },
  {
   "cell_type": "markdown",
   "id": "f2895daf",
   "metadata": {},
   "source": [
    "#### Relationship between categorical features and the target"
   ]
  },
  {
   "cell_type": "markdown",
   "id": "a59ef348",
   "metadata": {},
   "source": [
    "    Chi-square test\n",
    "  \n",
    "A chi-square test is used to test whether two categorical variables are related to each other or not. It is conducted by making the following hypothesis :\n",
    "  - Null hypothesis       : There is no relationship between the variables.\n",
    "  - Alternative hypothesis: There is a relationship between the variables.\n",
    "\n",
    "Proper use of the Chi-Square test requires the following assumptions to be met:\n",
    "  - Observations must be independent and random to ensure the sample properly represents the population. \n",
    "  - Categories of both variables must be mutually exclusive; this is so observations can only fall into one category or the other, but not both. \n",
    "  - Categories of the categorical variables should be independent; neither category should have any influence on the other.\n",
    "\n",
    "In this project, the chi-square test will be used to test whether there is a relationship between the independent categorical variables and the target variable. The metric which will be used to evaluate the results is the P-value. If the P-value is lower or equal to 0.05, the null hypothesis will be rejected. However, if the P-value is greater than 0.05, the null hypothesis will not be rejected.\n",
    "\n",
    "Notably, the categorical variables and observations in the dataset  satisfies the assumptions above."
   ]
  },
  {
   "cell_type": "markdown",
   "id": "fa2dcb58",
   "metadata": {},
   "source": [
    "Test 1 : Relationship between the target and gender"
   ]
  },
  {
   "cell_type": "code",
   "execution_count": 26,
   "id": "aff8b629",
   "metadata": {},
   "outputs": [
    {
     "name": "stdout",
     "output_type": "stream",
     "text": [
      "P-value :  0.0\n"
     ]
    }
   ],
   "source": [
    "# create contingency table\n",
    "churner_contingency = pd.crosstab(credit_card_cleaned_df['target'],\n",
    "                                  credit_card_cleaned_df['SEX'])\n",
    "\n",
    "# run a Chi-Square test\n",
    "chi2, pval, dof, expected = chi2_contingency(churner_contingency)\n",
    "\n",
    "# Printing the P value\n",
    "print(\"P-value : \",round(pval,2))"
   ]
  },
  {
   "cell_type": "markdown",
   "id": "79f2732b",
   "metadata": {},
   "source": [
    "Since the p-value is less than 0.05, we have sufficient evidence to reject the null hypothesis and conclude that there is a relationship between gender and the target."
   ]
  },
  {
   "cell_type": "markdown",
   "id": "8f49ea23",
   "metadata": {},
   "source": [
    "Test 2: Relationship between the target and Education"
   ]
  },
  {
   "cell_type": "code",
   "execution_count": 27,
   "id": "54f59706",
   "metadata": {},
   "outputs": [
    {
     "name": "stdout",
     "output_type": "stream",
     "text": [
      "P-value :  0.0\n"
     ]
    }
   ],
   "source": [
    "# create contingency table\n",
    "churner_contingency = pd.crosstab(credit_card_cleaned_df['target'],\n",
    "                                  credit_card_cleaned_df['EDUCATION'])\n",
    "\n",
    "# run a Chi-Square test\n",
    "chi2, pval, dof, expected = chi2_contingency(churner_contingency)\n",
    "\n",
    "# Printing the P value\n",
    "print(\"P-value : \",round(pval,2))"
   ]
  },
  {
   "cell_type": "markdown",
   "id": "c0f96e23",
   "metadata": {},
   "source": [
    "Since the p-value is less than 0.05, we have sufficient evidence to reject the null hypothesis and conclude that there is a relationship between the education feature and the target."
   ]
  },
  {
   "cell_type": "markdown",
   "id": "2e85fa0d",
   "metadata": {},
   "source": [
    "Test 3 : Relationship between the target and marriage."
   ]
  },
  {
   "cell_type": "code",
   "execution_count": 28,
   "id": "8081cde1",
   "metadata": {},
   "outputs": [
    {
     "name": "stdout",
     "output_type": "stream",
     "text": [
      "P-value :  0.0\n"
     ]
    }
   ],
   "source": [
    "# create contingency table\n",
    "churner_contingency = pd.crosstab(credit_card_cleaned_df['target'],\n",
    "                                  credit_card_cleaned_df['MARRIAGE'])\n",
    "\n",
    "# run a Chi-Square test\n",
    "chi2, pval, dof, expected = chi2_contingency(churner_contingency)\n",
    "\n",
    "# Printing the P value\n",
    "print(\"P-value : \",round(pval,2))"
   ]
  },
  {
   "cell_type": "markdown",
   "id": "aa80b6bd",
   "metadata": {},
   "source": [
    "Since the p-value is less than 0.05, we have sufficient evidence to reject the null hypothesis and conclude that there is a relationship between marriage and the target."
   ]
  },
  {
   "cell_type": "markdown",
   "id": "6584a2cd",
   "metadata": {},
   "source": [
    "Based on the chi square test, all the categorical features have a relationship with the target. Therefore, none of them will be dropped for now."
   ]
  },
  {
   "cell_type": "markdown",
   "id": "f0edeffe",
   "metadata": {},
   "source": [
    "#### Relationship between numerical features and the target"
   ]
  },
  {
   "cell_type": "markdown",
   "id": "fafa4245",
   "metadata": {},
   "source": [
    "To test the relationship between the numeric features and the target, the follwowing assumption will be relied upon:\n",
    "\n",
    "- If the average of the numeric feature  changes for each class of the target variable, then there is a relationship between that numeric feature and the target variable. \n",
    "\n",
    "Bar charts will be created to visualize the relationship between numeric features and the target variable."
   ]
  },
  {
   "cell_type": "code",
   "execution_count": 29,
   "id": "86b1170d",
   "metadata": {},
   "outputs": [
    {
     "data": {
      "image/png": "[encoded data removed]",
      "text/plain": [
       "<Figure size 1000x1000 with 8 Axes>"
      ]
     },
     "metadata": {},
     "output_type": "display_data"
    }
   ],
   "source": [
    "plt.figure(figsize=(10,10))\n",
    "for n, feature in enumerate(numeric_features):\n",
    "    # Calculating average of each numeric variable\n",
    "    average = credit_card_cleaned_df.groupby(['target'])[feature].mean()\n",
    "    # add a new subplot iteratively\n",
    "    ax = plt.subplot(int(len(numeric_features)/2), 2, n + 1)\n",
    "        \n",
    "    # plotting the boxplots on the subplot axis\n",
    "    average.plot(kind='barh',color='brown')\n",
    "        \n",
    "     # chart formatting\n",
    "    ax.set_title(feature.lower())\n",
    "        \n",
    "    ax.set_xlabel(\"\")\n",
    "    plt.subplots_adjust(bottom=0.000001,wspace=0.6, hspace=0.6)  \n",
    "   # plt.suptitle(title_string, y=.95, fontsize=14)"
   ]
  },
  {
   "cell_type": "markdown",
   "id": "c0f522d7",
   "metadata": {},
   "source": [
    "The bar charts shows that the average values of all features are different for each label of the target.This indicates that there is a relationship between the target and these features. Therefore, none of them will be dropped."
   ]
  },
  {
   "cell_type": "markdown",
   "id": "15a1f530",
   "metadata": {},
   "source": [
    "#### Relationship among Numeric features"
   ]
  },
  {
   "cell_type": "code",
   "execution_count": 30,
   "id": "c25af486",
   "metadata": {},
   "outputs": [
    {
     "data": {
      "image/png": "[encoded data removed]",
      "text/plain": [
       "<Figure size 1000x500 with 2 Axes>"
      ]
     },
     "metadata": {},
     "output_type": "display_data"
    }
   ],
   "source": [
    "# Filtering out numeric features.\n",
    "numeric_df = credit_card_cleaned_df.select_dtypes(exclude=int)\n",
    "fig, corr = plt.subplots(figsize = (10, 5))\n",
    "corr = sns.heatmap(np.round(numeric_df.corr(), 2),annot=True, cmap=\"twilight\")"
   ]
  },
  {
   "cell_type": "markdown",
   "id": "eb710daf",
   "metadata": {},
   "source": [
    "Since all correlation coefficients are less 0.5, there is no evidence of strong correlation among numeric features. Therefore, multicollinearity will not be an issue."
   ]
  },
  {
   "cell_type": "markdown",
   "id": "f3188b96",
   "metadata": {},
   "source": [
    "From the data exploration one thing need to be addressed before proceeding with modeling:\n",
    " \n",
    " - The target distribution shows that the data has a class imbalance problem i.e There are exremely more non-defaults than defaults. This problem will be addressed by downsampling the non-defaults. Models will be built on both the downsampled data and the original dataset. The model with better performance will be selected."
   ]
  },
  {
   "cell_type": "markdown",
   "id": "03286cf7",
   "metadata": {},
   "source": [
    "#### Downsampling"
   ]
  },
  {
   "cell_type": "code",
   "execution_count": 31,
   "id": "36bc5293",
   "metadata": {},
   "outputs": [
    {
     "data": {
      "text/plain": [
       "target\n",
       "0    15089\n",
       "1     5204\n",
       "Name: count, dtype: int64"
      ]
     },
     "execution_count": 31,
     "metadata": {},
     "output_type": "execute_result"
    }
   ],
   "source": [
    "# Checking the counts in each target label\n",
    "credit_card_cleaned_df['target'].value_counts()"
   ]
  },
  {
   "cell_type": "markdown",
   "id": "76f0c7a3",
   "metadata": {},
   "source": [
    "In the output above, zero represents the non-defaults. These will be downsampled so that they equal the number of defaults(5204)."
   ]
  },
  {
   "cell_type": "code",
   "execution_count": 32,
   "id": "8ab9582e",
   "metadata": {},
   "outputs": [
    {
     "data": {
      "text/plain": [
       "(10408, 14)"
      ]
     },
     "execution_count": 32,
     "metadata": {},
     "output_type": "execute_result"
    }
   ],
   "source": [
    "# Sampling 5204 observations from the non-defaults\n",
    "\n",
    "non_defaults = credit_card_cleaned_df.loc[credit_card_cleaned_df.target== 0].sample(5204)\n",
    "\n",
    "defaults = credit_card_cleaned_df.loc[credit_card_cleaned_df.target== 1]\n",
    "\n",
    "credit_card_ds_df = pd.concat([non_defaults, defaults])\n",
    "credit_card_ds_df.shape"
   ]
  },
  {
   "cell_type": "markdown",
   "id": "5fbf6933",
   "metadata": {},
   "source": [
    "Target distribution after downsampling"
   ]
  },
  {
   "cell_type": "code",
   "execution_count": 33,
   "id": "45b8dc19",
   "metadata": {},
   "outputs": [
    {
     "data": {
      "image/png": "[encoded data removed]",
      "text/plain": [
       "<Figure size 640x480 with 1 Axes>"
      ]
     },
     "metadata": {},
     "output_type": "display_data"
    }
   ],
   "source": [
    "# Calculating number of customers in each target category after downsampling\n",
    "counts = credit_card_ds_df['target'].value_counts()\n",
    "\n",
    "# Plotting the target categories after downsampling\n",
    "counts.plot(kind='barh', title=\"Number of customers in each target category\",\n",
    "            color = 'peru');"
   ]
  },
  {
   "cell_type": "markdown",
   "id": "b072f65d",
   "metadata": {},
   "source": [
    "## Data Partitioning"
   ]
  },
  {
   "cell_type": "markdown",
   "id": "440820cd",
   "metadata": {},
   "source": [
    "    Partitioning the original data(i.e the data which is not downsampled)"
   ]
  },
  {
   "cell_type": "code",
   "execution_count": 34,
   "id": "0aeb2b4e",
   "metadata": {},
   "outputs": [],
   "source": [
    "# Extracting features from the dataset.\n",
    "features = credit_card_cleaned_df.drop(['target'], axis=1)\n",
    "\n",
    "# Extracting the target from the dataset.\n",
    "target = credit_card_cleaned_df['target']"
   ]
  },
  {
   "cell_type": "code",
   "execution_count": 35,
   "id": "06499115",
   "metadata": {},
   "outputs": [],
   "source": [
    "# Splitting data into training and test sets.\n",
    "train_features, test_features,train_target,test_target = train_test_split(features, \n",
    "                                                                          target, \n",
    "                                                                          test_size=0.2,\n",
    "                                                                          random_state=1,\n",
    "                                                                          stratify=target)"
   ]
  },
  {
   "cell_type": "markdown",
   "id": "98bc03e6",
   "metadata": {},
   "source": [
    "    Partitioning the downsampled data"
   ]
  },
  {
   "cell_type": "code",
   "execution_count": 36,
   "id": "e44fac1f",
   "metadata": {},
   "outputs": [],
   "source": [
    "# Extracting features from the dataset.\n",
    "features_ds = credit_card_ds_df.drop(['target'], axis=1)\n",
    "\n",
    "# Extracting the target from the dataset.\n",
    "target_ds = credit_card_ds_df['target']"
   ]
  },
  {
   "cell_type": "code",
   "execution_count": 37,
   "id": "a708c2be",
   "metadata": {},
   "outputs": [],
   "source": [
    "# Splitting data into training and test sets.\n",
    "train_features_ds, test_features_ds,train_target_ds,test_target_ds = train_test_split(features_ds, \n",
    "                                                                          target_ds, \n",
    "                                                                          test_size=0.2,\n",
    "                                                                          random_state=1,\n",
    "                                                                          stratify=target_ds) "
   ]
  },
  {
   "cell_type": "markdown",
   "id": "88a084e7",
   "metadata": {},
   "source": [
    "## Model Building"
   ]
  },
  {
   "cell_type": "code",
   "execution_count": 38,
   "id": "43166591",
   "metadata": {},
   "outputs": [],
   "source": [
    "# Creating the pipelines for Logistic regression,random forest and XGBOOST.\n",
    "pipeline_lr = Pipeline([('model', LogisticRegression(max_iter=5000))])\n",
    "pipeline_rf = Pipeline([('rf_model', RandomForestClassifier())])\n",
    "pipeline_xg = Pipeline([('xgboost', XGBClassifier())])"
   ]
  },
  {
   "cell_type": "code",
   "execution_count": 39,
   "id": "1e13a2ad",
   "metadata": {},
   "outputs": [],
   "source": [
    "# function to fit the model and make predictions\n",
    "models = {\n",
    "    'logistic_regression' : pipeline_lr,\n",
    "    'Random Forest' : pipeline_rf,\n",
    "    'XGBoost' : pipeline_xg\n",
    "}\n",
    "\n",
    "def model_prediction_original(name, model,train_test_features, yactual):\n",
    "        model.fit(train_features,train_target)\n",
    "        ypred = model.predict(train_test_features)\n",
    "        precision, recall, f_beta, support = precision_recall_fscore_support(yactual, ypred, beta=2, pos_label=1, average='weighted', zero_division=1)\n",
    "        auc = roc_auc_score(yactual, ypred)\n",
    "        accuracy = accuracy_score(yactual, ypred)\n",
    "        print(f\"Model name : {name}\")\n",
    "        print(f\"Accuracy   : {accuracy:.2f}\")\n",
    "        print(f\"Precision  : {precision:.2f}\")\n",
    "        print(f\"Recall     : {recall:.2f}\")\n",
    "        print(f\"Fscore     : {f_beta:.2f}\")\n",
    "        print(f\"AUC        : {auc:.2f}\\n\")\n",
    "        \n",
    "def model_prediction_ds(name, model,train_test_features, yactual):\n",
    "        model.fit(train_features_ds,train_target_ds)\n",
    "        ypred = model.predict(train_test_features)\n",
    "        precision, recall, f_beta, support = precision_recall_fscore_support(yactual, ypred, beta=2, pos_label=1, average='weighted', zero_division=1)\n",
    "        auc = roc_auc_score(yactual, ypred)\n",
    "        accuracy = accuracy_score(yactual, ypred)\n",
    "        print(f\"Model name : {name}\")\n",
    "        print(f\"Accuracy   : {accuracy:.2f}\")\n",
    "        print(f\"Precision  : {precision:.2f}\")\n",
    "        print(f\"Recall     : {recall:.2f}\")\n",
    "        print(f\"Fscore     : {f_beta:.2f}\")\n",
    "        print(f\"AUC        : {auc:.2f}\\n\")\n",
    "        \n",
    "        \n",
    "        "
   ]
  },
  {
   "cell_type": "markdown",
   "id": "dcd5ab5d",
   "metadata": {},
   "source": [
    "## Model Evaluation"
   ]
  },
  {
   "cell_type": "markdown",
   "id": "e13d6fc6",
   "metadata": {},
   "source": [
    "### Model performance on original data training set"
   ]
  },
  {
   "cell_type": "code",
   "execution_count": 40,
   "id": "2bcb97ca",
   "metadata": {},
   "outputs": [
    {
     "name": "stdout",
     "output_type": "stream",
     "text": [
      "Model name : logistic_regression\n",
      "Accuracy   : 0.74\n",
      "Precision  : 0.81\n",
      "Recall     : 0.74\n",
      "Fscore     : 0.70\n",
      "AUC        : 0.50\n",
      "\n",
      "Model name : Random Forest\n",
      "Accuracy   : 1.00\n",
      "Precision  : 1.00\n",
      "Recall     : 1.00\n",
      "Fscore     : 1.00\n",
      "AUC        : 1.00\n",
      "\n",
      "Model name : XGBoost\n",
      "Accuracy   : 0.89\n",
      "Precision  : 0.89\n",
      "Recall     : 0.89\n",
      "Fscore     : 0.88\n",
      "AUC        : 0.80\n",
      "\n"
     ]
    }
   ],
   "source": [
    "# Running the models on the training set\n",
    "for name, model in models.items():\n",
    "    model_prediction_original(name, model,train_features,train_target)"
   ]
  },
  {
   "cell_type": "markdown",
   "id": "121cf254",
   "metadata": {},
   "source": [
    "### Model performance on original data testing set"
   ]
  },
  {
   "cell_type": "code",
   "execution_count": 41,
   "id": "b1fdcaa1",
   "metadata": {},
   "outputs": [
    {
     "name": "stdout",
     "output_type": "stream",
     "text": [
      "Model name : logistic_regression\n",
      "Accuracy   : 0.74\n",
      "Precision  : 0.81\n",
      "Recall     : 0.74\n",
      "Fscore     : 0.70\n",
      "AUC        : 0.50\n",
      "\n",
      "Model name : Random Forest\n",
      "Accuracy   : 0.79\n",
      "Precision  : 0.77\n",
      "Recall     : 0.79\n",
      "Fscore     : 0.78\n",
      "AUC        : 0.66\n",
      "\n",
      "Model name : XGBoost\n",
      "Accuracy   : 0.78\n",
      "Precision  : 0.76\n",
      "Recall     : 0.78\n",
      "Fscore     : 0.77\n",
      "AUC        : 0.65\n",
      "\n"
     ]
    }
   ],
   "source": [
    "# Running the models on the test set\n",
    "for name, model in models.items():\n",
    "    model_prediction_original(name, model,test_features,test_target)"
   ]
  },
  {
   "cell_type": "markdown",
   "id": "febedff2",
   "metadata": {},
   "source": [
    "The performance of the logistic regression model on the training set is the same as its performance on the test set. Therefore, there is no evidence that its overfitting.The random forest and XGboost classifier perform better than the logistic regression on the training set, however, their performance significantly decreases on the test set(More than 5% decrease). This is an indication that they are overfitting the data."
   ]
  },
  {
   "cell_type": "markdown",
   "id": "e978baa8",
   "metadata": {},
   "source": [
    "### Model performance on downsampled data training set"
   ]
  },
  {
   "cell_type": "code",
   "execution_count": 42,
   "id": "e9f65a63",
   "metadata": {},
   "outputs": [
    {
     "name": "stdout",
     "output_type": "stream",
     "text": [
      "Model name : logistic_regression\n",
      "Accuracy   : 0.59\n",
      "Precision  : 0.59\n",
      "Recall     : 0.59\n",
      "Fscore     : 0.59\n",
      "AUC        : 0.59\n",
      "\n",
      "Model name : Random Forest\n",
      "Accuracy   : 1.00\n",
      "Precision  : 1.00\n",
      "Recall     : 1.00\n",
      "Fscore     : 1.00\n",
      "AUC        : 1.00\n",
      "\n",
      "Model name : XGBoost\n",
      "Accuracy   : 0.92\n",
      "Precision  : 0.92\n",
      "Recall     : 0.92\n",
      "Fscore     : 0.92\n",
      "AUC        : 0.92\n",
      "\n"
     ]
    }
   ],
   "source": [
    "# Running the models on the training set\n",
    "for name, model in models.items():\n",
    "    model_prediction_ds(name, model,train_features_ds,train_target_ds)"
   ]
  },
  {
   "cell_type": "markdown",
   "id": "3d2145bf",
   "metadata": {},
   "source": [
    "### Model performance on downsampled data testing set"
   ]
  },
  {
   "cell_type": "code",
   "execution_count": 43,
   "id": "a57e433e",
   "metadata": {},
   "outputs": [
    {
     "name": "stdout",
     "output_type": "stream",
     "text": [
      "Model name : logistic_regression\n",
      "Accuracy   : 0.60\n",
      "Precision  : 0.60\n",
      "Recall     : 0.60\n",
      "Fscore     : 0.60\n",
      "AUC        : 0.60\n",
      "\n",
      "Model name : Random Forest\n",
      "Accuracy   : 0.69\n",
      "Precision  : 0.69\n",
      "Recall     : 0.69\n",
      "Fscore     : 0.69\n",
      "AUC        : 0.69\n",
      "\n",
      "Model name : XGBoost\n",
      "Accuracy   : 0.68\n",
      "Precision  : 0.68\n",
      "Recall     : 0.68\n",
      "Fscore     : 0.68\n",
      "AUC        : 0.68\n",
      "\n"
     ]
    }
   ],
   "source": [
    "# Running the models on the test set\n",
    "for name, model in models.items():\n",
    "    model_prediction_ds(name, model,test_features_ds,test_target_ds)"
   ]
  },
  {
   "cell_type": "markdown",
   "id": "62902c0c",
   "metadata": {},
   "source": [
    "The random forest and XGboost classifier perform better than the logistic regression on the training set, however, their performance significantly decreases on the test set(More than 5% decrease). This is an indication that they are overfitting the data.The performance of the logistic regression model on the training set is the same as its performance on the test set. Therefore, there is no evidence that its overfitting. However, the logistic regression on the original dataset performs better than the logistic regression on the downsampled data."
   ]
  },
  {
   "cell_type": "markdown",
   "id": "5f8b0e3f",
   "metadata": {},
   "source": [
    "### Best Model"
   ]
  },
  {
   "cell_type": "markdown",
   "id": "3ac9d761",
   "metadata": {},
   "source": [
    "The logistic regression on the original dataset is selected as the best model because it performs better than the logistic regression on the downsampled data and there is no evidence that it is overfitting the data."
   ]
  },
  {
   "cell_type": "markdown",
   "id": "16d8f952",
   "metadata": {},
   "source": [
    "## Model Deployment"
   ]
  },
  {
   "cell_type": "markdown",
   "id": "e4773532",
   "metadata": {},
   "source": [
    "The best model will now be saved as a pickle file for deployment."
   ]
  },
  {
   "cell_type": "code",
   "execution_count": 44,
   "id": "ed9c8c07",
   "metadata": {},
   "outputs": [],
   "source": [
    "# Creating pipelines\n",
    "models = {\n",
    "    'logistic_regression' : pipeline_lr,\n",
    "    'Random Forest' : pipeline_rf,\n",
    "    'XGBoost' : pipeline_xg\n",
    "}\n",
    "\n",
    "# Function to fit the model and make predictions\n",
    "def model_prediction_original(name, model,train_test_features, yactual):\n",
    "        model.fit(train_features,train_target)\n",
    "        ypred = model.predict(train_test_features)\n",
    "        precision, recall, f_beta, support = precision_recall_fscore_support(yactual, ypred, beta=2, pos_label=1, average='weighted', zero_division=1)\n",
    "        auc = roc_auc_score(yactual, ypred)\n",
    "        accuracy = accuracy_score(yactual, ypred)\n",
    "        print(f\"Model name : {name}\")\n",
    "        print(f\"Accuracy   : {accuracy:.2f}\")\n",
    "        print(f\"Precision  : {precision:.2f}\")\n",
    "        print(f\"Recall     : {recall:.2f}\")\n",
    "        print(f\"Fscore     : {f_beta:.2f}\")\n",
    "        print(f\"AUC        : {auc:.2f}\\n\")"
   ]
  },
  {
   "cell_type": "code",
   "execution_count": 45,
   "id": "e80d4994",
   "metadata": {},
   "outputs": [
    {
     "name": "stdout",
     "output_type": "stream",
     "text": [
      "Model name : logistic_regression\n",
      "Accuracy   : 0.74\n",
      "Precision  : 0.81\n",
      "Recall     : 0.74\n",
      "Fscore     : 0.70\n",
      "AUC        : 0.50\n",
      "\n",
      "Model name : Random Forest\n",
      "Accuracy   : 1.00\n",
      "Precision  : 1.00\n",
      "Recall     : 1.00\n",
      "Fscore     : 1.00\n",
      "AUC        : 1.00\n",
      "\n",
      "Model name : XGBoost\n",
      "Accuracy   : 0.89\n",
      "Precision  : 0.89\n",
      "Recall     : 0.89\n",
      "Fscore     : 0.88\n",
      "AUC        : 0.80\n",
      "\n"
     ]
    }
   ],
   "source": [
    "# Rerunning the model to make sure the correct one is saved as a pickle file\n",
    "for name, model in models.items():\n",
    "    model_prediction_original(name, model,train_features,train_target)"
   ]
  },
  {
   "cell_type": "code",
   "execution_count": 46,
   "id": "c0cb60dd",
   "metadata": {},
   "outputs": [],
   "source": [
    "# Saving the best model as a pickle file\n",
    "pickle.dump(pipeline_lr, open('credit_default.pkl','wb'))"
   ]
  },
  {
   "cell_type": "code",
   "execution_count": null,
   "id": "71f310b6",
   "metadata": {},
   "outputs": [],
   "source": []
  }
 ],
 "metadata": {
  "kernelspec": {
   "display_name": "Python 3 (ipykernel)",
   "language": "python",
   "name": "python3"
  },
  "language_info": {
   "codemirror_mode": {
    "name": "ipython",
    "version": 3
   },
   "file_extension": ".py",
   "mimetype": "text/x-python",
   "name": "python",
   "nbconvert_exporter": "python",
   "pygments_lexer": "ipython3",
   "version": "3.11.5"
  },
  "toc": {
   "base_numbering": 1,
   "nav_menu": {},
   "number_sections": true,
   "sideBar": true,
   "skip_h1_title": false,
   "title_cell": "Table of Contents",
   "title_sidebar": "Contents",
   "toc_cell": false,
   "toc_position": {
    "height": "calc(100% - 180px)",
    "left": "10px",
    "top": "150px",
    "width": "303.825px"
   },
   "toc_section_display": true,
   "toc_window_display": true
  },
  "varInspector": {
   "cols": {
    "lenName": 16,
    "lenType": 16,
    "lenVar": 40
   },
   "kernels_config": {
    "python": {
     "delete_cmd_postfix": "",
     "delete_cmd_prefix": "del ",
     "library": "var_list.py",
     "varRefreshCmd": "print(var_dic_list())"
    },
    "r": {
     "delete_cmd_postfix": ") ",
     "delete_cmd_prefix": "rm(",
     "library": "var_list.r",
     "varRefreshCmd": "cat(var_dic_list()) "
    }
   },
   "types_to_exclude": [
    "module",
    "function",
    "builtin_function_or_method",
    "instance",
    "_Feature"
   ],
   "window_display": false
  }
 },
 "nbformat": 4,
 "nbformat_minor": 5
}
